{
 "cells": [
  {
   "cell_type": "markdown",
   "id": "9a142136-46a6-4f40-a86d-a06eef7dbb41",
   "metadata": {},
   "source": [
    "<h2>Pandas</h2>"
   ]
  },
  {
   "cell_type": "markdown",
   "id": "e43624f2-2aef-430e-9aff-035efe8cf090",
   "metadata": {},
   "source": [
    "<img src=\"images/pandas-1.jpg\">"
   ]
  },
  {
   "cell_type": "markdown",
   "id": "e0bfb748-2b38-4a67-b7ef-7aa4a419d255",
   "metadata": {},
   "source": [
    "<p><span style=\"font-size: 14pt; color: #e67e23;\">Pandas is a Python library made for working with data that can be coerced into rows and columns (i.e. think Excel, CSVs,...).&nbsp;</span></p>\n",
    "<ul>\n",
    "<li><span style=\"font-size: 14pt; color: #e67e23;\">Fast and efficient for manipulating and analyzing data.</span></li>\n",
    "<li><span style=\"font-size: 14pt; color: #e67e23;\">Easy handling of missing data (represented as NaN) in floating point as well as non-floating point data</span></li>\n",
    "<li><span style=\"font-size: 14pt; color: #e67e23;\">Size mutability: columns can be inserted and deleted from DataFrame and higher dimensional objects</span></li>\n",
    "<li><span style=\"font-size: 14pt; color: #e67e23;\">Data set merging and joining</span></li>\n",
    "<li><span style=\"font-size: 14pt; color: #e67e23;\">Provides time-series functionality.</span></li>\n",
    "<li><span style=\"font-size: 14pt; color: #e67e23;\">Powerful group by functionality for performing split-apply-combine operations on data sets.</span></li>\n",
    "<li><span style=\"font-size: 14pt; color: #e67e23;\">Built on top of Numpy</span></li>\n",
    "</ul>"
   ]
  },
  {
   "cell_type": "code",
   "execution_count": null,
   "id": "2a36081a-b968-4764-bc10-2170b75829f3",
   "metadata": {},
   "outputs": [],
   "source": []
  },
  {
   "cell_type": "code",
   "execution_count": null,
   "id": "4b1dda3c-f29c-457b-86c4-6a8c920d5853",
   "metadata": {},
   "outputs": [],
   "source": []
  },
  {
   "cell_type": "code",
   "execution_count": null,
   "id": "81f8869f-4239-40eb-871b-34530f08caa0",
   "metadata": {},
   "outputs": [],
   "source": []
  },
  {
   "cell_type": "code",
   "execution_count": null,
   "id": "1cc44199-366b-4ccd-9053-3cfbc5a04343",
   "metadata": {},
   "outputs": [],
   "source": []
  }
 ],
 "metadata": {
  "kernelspec": {
   "display_name": "Python 3 (ipykernel)",
   "language": "python",
   "name": "python3"
  },
  "language_info": {
   "codemirror_mode": {
    "name": "ipython",
    "version": 3
   },
   "file_extension": ".py",
   "mimetype": "text/x-python",
   "name": "python",
   "nbconvert_exporter": "python",
   "pygments_lexer": "ipython3",
   "version": "3.9.13"
  }
 },
 "nbformat": 4,
 "nbformat_minor": 5
}
