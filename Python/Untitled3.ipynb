{
 "cells": [
  {
   "cell_type": "markdown",
   "id": "b04994b1",
   "metadata": {},
   "source": [
    "Start train/test split for use in ML Models"
   ]
  },
  {
   "cell_type": "code",
   "execution_count": 1,
   "id": "37f5688d",
   "metadata": {},
   "outputs": [
    {
     "ename": "NameError",
     "evalue": "name 'traintest' is not defined",
     "output_type": "error",
     "traceback": [
      "\u001b[1;31m---------------------------------------------------------------------------\u001b[0m",
      "\u001b[1;31mNameError\u001b[0m                                 Traceback (most recent call last)",
      "\u001b[1;32m~\\AppData\\Local\\Temp\\ipykernel_26836\\1973643518.py\u001b[0m in \u001b[0;36m<module>\u001b[1;34m\u001b[0m\n\u001b[0;32m      1\u001b[0m \u001b[1;31m# Start train/test split for use in ML Models#\u001b[0m\u001b[1;33m\u001b[0m\u001b[1;33m\u001b[0m\u001b[0m\n\u001b[1;32m----> 2\u001b[1;33m \u001b[0mX\u001b[0m\u001b[1;33m,\u001b[0m\u001b[0my\u001b[0m\u001b[1;33m,\u001b[0m\u001b[0mX_test\u001b[0m\u001b[1;33m,\u001b[0m\u001b[0my_test\u001b[0m \u001b[1;33m=\u001b[0m \u001b[0mtraintest\u001b[0m\u001b[1;33m(\u001b[0m\u001b[0mdf\u001b[0m\u001b[1;33m,\u001b[0m\u001b[1;36m.8\u001b[0m\u001b[1;33m)\u001b[0m\u001b[1;33m\u001b[0m\u001b[1;33m\u001b[0m\u001b[0m\n\u001b[0m",
      "\u001b[1;31mNameError\u001b[0m: name 'traintest' is not defined"
     ]
    }
   ],
   "source": [
    "# Start train/test split for use in ML Models# \n",
    "X,y,X_test,y_test = traintest(df,.8)\n"
   ]
  },
  {
   "cell_type": "code",
   "execution_count": null,
   "id": "86a1573b",
   "metadata": {},
   "outputs": [],
   "source": [
    "X,y,X_test,y_test = traintest(df,.8)\n",
    "ddd\n",
    "drt = 4\n"
   ]
  }
 ],
 "metadata": {
  "kernelspec": {
   "display_name": "Python 3 (ipykernel)",
   "language": "python",
   "name": "python3"
  },
  "language_info": {
   "codemirror_mode": {
    "name": "ipython",
    "version": 3
   },
   "file_extension": ".py",
   "mimetype": "text/x-python",
   "name": "python",
   "nbconvert_exporter": "python",
   "pygments_lexer": "ipython3",
   "version": "3.9.13"
  }
 },
 "nbformat": 4,
 "nbformat_minor": 5
}
