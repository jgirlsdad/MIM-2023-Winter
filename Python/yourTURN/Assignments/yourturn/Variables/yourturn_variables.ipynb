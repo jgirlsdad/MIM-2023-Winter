{
 "cells": [
  {
   "cell_type": "markdown",
   "id": "f036af65-d44a-478c-9835-edecac3aa0a4",
   "metadata": {},
   "source": [
    "<h1>Variables - Your Turn</h1>"
   ]
  },
  {
   "cell_type": "markdown",
   "id": "8603b608-00d7-4be7-9468-8ad60cdb52a0",
   "metadata": {},
   "source": [
    "<p><span style=\"font-size: 14pt;\">These exercises are simply meant as an opportunity to practice what we have just learned!&nbsp; This is NOT a competition and coding is about being wrong lots of times before being correct!</span></p>\n",
    "<p>&nbsp;</p>\n",
    "<p><span style=\"font-size: 14pt;\"><strong>As always, it is much better to ask for assistance than to not do anything at all and waste the next few mintues staring at the screen</strong></span></p>"
   ]
  },
  {
   "cell_type": "markdown",
   "id": "b05ebf56-ae86-4e11-81eb-30bd16d1ce02",
   "metadata": {},
   "source": [
    "<div style=\"border: 1px solid purple; padding: 10px;\">\n",
    "<p><span style=\"font-size: 14pt;\">Create a string variable with at least 10 characters, then print out the length of the string.&nbsp;</span></p>\n",
    "<p><span style=\"font-size: 14pt;\">Remember the len() function.....</span></p>\n",
    "</div>"
   ]
  },
  {
   "cell_type": "code",
   "execution_count": null,
   "id": "db5b680f-3819-4c91-a9d9-d8fc86d55f24",
   "metadata": {},
   "outputs": [],
   "source": [
    "# do work here"
   ]
  },
  {
   "cell_type": "markdown",
   "id": "1cbdec03-26ce-49e0-973d-7ebabecaf43a",
   "metadata": {},
   "source": [
    "<div style=\"border: 1px solid purple; padding: 10px;\">\n",
    "<p><span style=\"font-size: 14pt;\">Concatenate the two strings into 1 string and print the length of all 3 strings</span></p>\n",
    "</div>"
   ]
  },
  {
   "cell_type": "code",
   "execution_count": null,
   "id": "4a9a5806-eea3-46af-8d09-144d68e1ec62",
   "metadata": {},
   "outputs": [],
   "source": [
    "# concatenate the two strings into 1 variable, print out the lenghts of all three variables\n",
    "v = \"Practice is how \"\n",
    "n= \"you learn Python!\""
   ]
  },
  {
   "cell_type": "markdown",
   "id": "cd329b29-9511-4a5e-9e77-33f0aef03a9b",
   "metadata": {},
   "source": [
    "<div style=\"border: 1px solid purple; padding: 10px\">\n",
    "<p><span style=\"font-size: 14pt;\">Multiply a * b below as numbers to get a number as an answer&nbsp;</span></p>\n",
    "<p>&nbsp;</p>\n",
    "<p><span style=\"font-size: 14pt;\">Seems simple enough... except for the pesky \"$\" in a.&nbsp; You will need to use a string function to get rid of it!</span></p>\n",
    "</div>"
   ]
  },
  {
   "cell_type": "code",
   "execution_count": 11,
   "id": "bda412ee-77d3-42ca-8fd4-a0499daa5e50",
   "metadata": {},
   "outputs": [
    {
     "data": {
      "text/plain": [
       "522.5999999999999"
      ]
     },
     "execution_count": 11,
     "metadata": {},
     "output_type": "execute_result"
    }
   ],
   "source": [
    "# Do that work here....\n",
    "a = \"$43.55\"\n",
    "b = 12"
   ]
  },
  {
   "cell_type": "markdown",
   "id": "c35dc4eb-a073-4146-a52d-19e533c65af9",
   "metadata": {},
   "source": [
    "<div style=\"border: 1px solid purple; padding: 10px\">\n",
    "<p>Convert string in variable a to an integer, then multiply it by variable b</p>\n",
    "</div>"
   ]
  },
  {
   "cell_type": "code",
   "execution_count": 2,
   "id": "8c667d34-50ab-4e01-839b-533774cb7c10",
   "metadata": {},
   "outputs": [
    {
     "data": {
      "text/plain": [
       "450"
      ]
     },
     "execution_count": 2,
     "metadata": {},
     "output_type": "execute_result"
    }
   ],
   "source": [
    "m = \"45\"\n",
    "n = 10"
   ]
  },
  {
   "cell_type": "markdown",
   "id": "576d1cc5-655a-419d-9ab4-3ea3241d0f07",
   "metadata": {},
   "source": [
    "<div style=\"border: 1px solid purple; padding: 10px;\">\n",
    "<p><span style=\"font-size: 14pt;\">Use a Python f-string to write a string combined with numbers</span></p>\n",
    "<p>sentence to print : \"My name is 'your name' and I am 'years' old and I 'adj' Python\"</p>\n",
    "<p>&nbsp;</p>\n",
    "<p>where your_name, years and adj are Python variables :</p>\n",
    "<p>i.e.&nbsp;</p>\n",
    "<p>your_name = \"Bob Jenkins\"</p>\n",
    "<p>years = 25.6</p>\n",
    "<p>adj = \"Love\"</p>\n",
    "<p>So use an f-string in a print statement to print out the above sentence using those variables (or your own)!</p>\n",
    "</div>"
   ]
  },
  {
   "cell_type": "code",
   "execution_count": null,
   "id": "e22575b6-9a35-4a13-bb20-23d1c5bfc061",
   "metadata": {},
   "outputs": [],
   "source": [
    "# print out a \n"
   ]
  },
  {
   "cell_type": "markdown",
   "id": "2fd71e4f-efa3-4c5d-b6c6-bb88acc57e07",
   "metadata": {},
   "source": [
    "<div style=\"border: 1px solid purple; padding: 10px;\">\n",
    "<p><span style=\"font-size: 14pt;\">Create a variable using an string that combines the info below:&nbsp;</span></p>\n",
    "<p><span style=\"font-size: 14pt;\">stock=\"AAD\"</span></p>\n",
    "<p><span style=\"font-size: 14pt;\">price=\"43.55\"</span></p>\n",
    "<p><span style=\"font-size: 14pt;\">shares=134</span></p>\n",
    "<p><span style=\"font-size: 14pt;\">change= \"-5.6%\"</span></p>\n",
    "<p><span style=\"font-size: 14pt;\">total = shares x price</span></p>\n",
    "<p><span style=\"font-size: 14pt;\">The output string should looke something like:&nbsp;</span></p>\n",
    "<p><span style=\"font-size: 14pt;\">\" I have 134 shares of stock AAD that is worth $43.55 per share.&nbsp; It has changed -5.6% in the past, but my total holdings are $5,835.70\"</span></p>\n",
    "<p>&nbsp;</p>\n",
    "<p><span style=\"font-size: 14pt;\">Note: this is a tricky one!&nbsp; So you can set up a variable like an f-string by using :&nbsp;</span></p>\n",
    "<p><span style=\"font-size: 14pt;\">var = f\"\"</span></p>\n",
    "<p><span style=\"font-size: 14pt;\">and then use all the f-string functionality</span></p>\n",
    "</div>"
   ]
  },
  {
   "cell_type": "code",
   "execution_count": 3,
   "id": "241aace1-25a1-4db8-9ff9-acdd89d6282d",
   "metadata": {},
   "outputs": [],
   "source": [
    "# Do work here\n",
    "stock=\"AAD\"\n",
    "price=\"43.55\"\n",
    "shares=134\n",
    "change= \"-5.6%\""
   ]
  },
  {
   "cell_type": "markdown",
   "id": "c180d1b4-849a-4d9a-81e5-5b3a220da9b3",
   "metadata": {},
   "source": [
    "<div style=\"border: 1px solid purple; padding: 10px;\">\n",
    "<p><span style=\"font-size: 14pt;\">So now, you have bought more shares, and the price of each share has changed!!&nbsp; If you created a variable that holds the f-string, then you should be able to easily just grab that variable and p it in below without re-doing the entire exercise!!!</span></p>\n",
    "<p>&nbsp;</p>\n",
    "<p><span style=\"font-size: 14pt;\">This shows you the power of variables and f-strings!</span></p>\n",
    "</div>"
   ]
  },
  {
   "cell_type": "code",
   "execution_count": null,
   "id": "aab8ecd9-3e2c-4756-be99-ae9a3faabf48",
   "metadata": {},
   "outputs": [],
   "source": [
    "# Now, just plug the f-string in using these changes: \n",
    "price=\"44.25\"\n",
    "shares=145"
   ]
  }
 ],
 "metadata": {
  "kernelspec": {
   "display_name": "Python 3 (ipykernel)",
   "language": "python",
   "name": "python3"
  },
  "language_info": {
   "codemirror_mode": {
    "name": "ipython",
    "version": 3
   },
   "file_extension": ".py",
   "mimetype": "text/x-python",
   "name": "python",
   "nbconvert_exporter": "python",
   "pygments_lexer": "ipython3",
   "version": "3.9.13"
  }
 },
 "nbformat": 4,
 "nbformat_minor": 5
}
