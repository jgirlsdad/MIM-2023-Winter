{
 "cells": [
  {
   "cell_type": "markdown",
   "metadata": {
    "collapsed": false
   },
   "source": [
    "# Lists\n",
    "\n"
   ]
  },
  {
   "cell_type": "markdown",
   "metadata": {
    "collapsed": false
   },
   "source": [
    "## Exercise \\#1\n",
    "\n",
    "1. <span style='font-size:large'>Create a list of at least 5 items that are all integers</span>\n",
    "2. <span style='font-size:large'>Add 4 to each item in the list and store the results in a </span><span style='font-size:large'>**new**</span><span style='font-size:large'> list</span>\n",
    "3. <span style='font-size:large'>For this, DO NOT use list comprehension</span>\n",
    "\n"
   ]
  },
  {
   "cell_type": "code",
   "execution_count": 0,
   "metadata": {
    "collapsed": false
   },
   "outputs": [
   ],
   "source": [
    "# Add code here"
   ]
  },
  {
   "cell_type": "markdown",
   "metadata": {
    "collapsed": false
   },
   "source": [
    "## Exercise 2\n",
    "\n",
    "<span style='font-size:large'>Create a list with 10 different random numbers </span>\n",
    "\n",
    "<span style='font-size:large'>Sort the list in ascending order then print the list to the screen</span>\n",
    "\n",
    "<span style='font-size:large'>Hint:  You can use the random.random\\(\\) library to generate the random unbers</span>\n"
   ]
  },
  {
   "cell_type": "code",
   "execution_count": 0,
   "metadata": {
    "collapsed": false
   },
   "outputs": [
   ],
   "source": [
    "# Add your code here"
   ]
  },
  {
   "cell_type": "markdown",
   "metadata": {
    "collapsed": false
   },
   "source": [
    "## Exercise 3\n",
    "\n",
    "1 Use List Comprehension to divide each number by 3 and add 6.5 to the results\n",
    "\n",
    "2 Sum all the items in the resulting list \n",
    "\n",
    "Hint : look up the sum\\(\\) function\n"
   ]
  },
  {
   "cell_type": "code",
   "execution_count": 1,
   "metadata": {
    "collapsed": false
   },
   "outputs": [
   ],
   "source": [
    "uu = [1,99,34,76,12,18,92,6]\n"
   ]
  },
  {
   "cell_type": "markdown",
   "metadata": {
    "collapsed": false
   },
   "source": [
    "## Exercise 4\n",
    "\n",
    "Using List comprehension, find all numbers between 1 and 500 that are divisible by 7\n"
   ]
  },
  {
   "cell_type": "code",
   "execution_count": 0,
   "metadata": {
    "collapsed": false
   },
   "outputs": [
   ],
   "source": [
    "#  Add Code Here"
   ]
  }
 ],
 "metadata": {
  "kernelspec": {
   "display_name": "Python 3 (system-wide)",
   "language": "python",
   "metadata": {
    "cocalc": {
     "description": "Python 3 programming language",
     "priority": 100,
     "url": "https://www.python.org/"
    }
   },
   "name": "python3",
   "resource_dir": "/ext/jupyter/kernels/python3"
  },
  "language_info": {
   "codemirror_mode": {
    "name": "ipython",
    "version": 3
   },
   "file_extension": ".py",
   "mimetype": "text/x-python",
   "name": "python",
   "nbconvert_exporter": "python",
   "pygments_lexer": "ipython3",
   "version": "3.8.10"
  }
 },
 "nbformat": 4,
 "nbformat_minor": 4
}