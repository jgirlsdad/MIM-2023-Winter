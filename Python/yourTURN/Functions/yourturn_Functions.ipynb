{
 "cells": [
  {
   "cell_type": "markdown",
   "id": "ed8e610f-74a2-4d35-8844-c4e111226af0",
   "metadata": {},
   "source": [
    "<h1>Functions</h1>\n",
    "<p>&nbsp;</p>"
   ]
  },
  {
   "cell_type": "markdown",
   "id": "050f670b-f169-4c1e-8aba-f30515b4d77e",
   "metadata": {},
   "source": [
    "<h2>Problem 1</h2>"
   ]
  },
  {
   "cell_type": "markdown",
   "id": "e7888436-63f1-42d0-a26a-e63df3e33a24",
   "metadata": {},
   "source": [
    "<p>Remember, you define a function like this:&nbsp;</p>\n",
    "<pre>def  coolFunc(a):<br />    a = a + 20<br />    return a<br /><br /><br />You can then call it like this :&nbsp;</pre>\n",
    "<pre>b = coolFunc(19)<br />print(b)<br /><br />So variable b captures the value returned by the function</pre>"
   ]
  },
  {
   "cell_type": "code",
   "execution_count": null,
   "id": "46a2e56d-23ac-4b56-b013-66d47d480540",
   "metadata": {},
   "outputs": [],
   "source": [
    "# Create a function that takes in 1 parameter and adds 100 to it and returns the new value\n",
    "#"
   ]
  },
  {
   "cell_type": "markdown",
   "id": "aa74685e-410b-49ae-9252-4ec50e15d007",
   "metadata": {},
   "source": [
    "<h2>Problem 2</h2>"
   ]
  },
  {
   "cell_type": "code",
   "execution_count": null,
   "id": "0059bc68-c521-44d6-8ad4-71e198906c40",
   "metadata": {},
   "outputs": [],
   "source": [
    "# Create a function that takes in 2 parameters, and adds the 2nd paramter to the first parameter: "
   ]
  },
  {
   "cell_type": "markdown",
   "id": "1f5a0d92-c8b2-447b-8983-baa6fbf71130",
   "metadata": {},
   "source": [
    "<h2>Problem 3</h2>"
   ]
  },
  {
   "cell_type": "code",
   "execution_count": null,
   "id": "2b402175-c631-4dc3-9a21-baf157cf3419",
   "metadata": {},
   "outputs": [],
   "source": [
    "# Create a function that takes in a list of 5 numbers and divides each number by 2\n",
    "# and returns a new list of the results"
   ]
  }
 ],
 "metadata": {
  "kernelspec": {
   "display_name": "Python 3 (ipykernel)",
   "language": "python",
   "name": "python3"
  },
  "language_info": {
   "codemirror_mode": {
    "name": "ipython",
    "version": 3
   },
   "file_extension": ".py",
   "mimetype": "text/x-python",
   "name": "python",
   "nbconvert_exporter": "python",
   "pygments_lexer": "ipython3",
   "version": "3.9.13"
  }
 },
 "nbformat": 4,
 "nbformat_minor": 5
}
