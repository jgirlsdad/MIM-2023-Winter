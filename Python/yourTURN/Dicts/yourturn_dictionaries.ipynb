{
 "cells": [
  {
   "cell_type": "markdown",
   "id": "4db43eb7-b35e-4b46-a594-750b1f93463c",
   "metadata": {},
   "source": [
    "<h1>Dictionaries</h1>"
   ]
  },
  {
   "cell_type": "markdown",
   "id": "26494038-e5b2-412b-b6ae-1aaea80cabf4",
   "metadata": {},
   "source": [
    "<h2>Problem 1</h2>"
   ]
  },
  {
   "cell_type": "code",
   "execution_count": null,
   "id": "4f18d8ed-5a17-42f5-b6be-e54d155f61ee",
   "metadata": {},
   "outputs": [],
   "source": [
    "#  print out just the keys, then just the values \n",
    "# hint, you can use the .keys() and .values() methods for dictionaries\n",
    "p = {44156:\"Bob Barker\",54239:\"Jim Morrison\",55692:\"Mick Jagger\",43978:\"Elton John\"}\n"
   ]
  },
  {
   "cell_type": "markdown",
   "id": "daa5fd44-354b-4ef0-94d4-83e30fe1f242",
   "metadata": {},
   "source": [
    "<h2>Problem 2</h2>"
   ]
  },
  {
   "cell_type": "code",
   "execution_count": null,
   "id": "e5b1c534-3013-43bd-94a1-75dd56f22691",
   "metadata": {},
   "outputs": [],
   "source": [
    "# iterate over all of the key:value pairs in dictionary p from above and print them out\n",
    "# hint: you can use the .items() method\n",
    "\n",
    "# Do work below here"
   ]
  },
  {
   "cell_type": "markdown",
   "id": "91939f52-1867-4b1b-b657-54e15b90e979",
   "metadata": {},
   "source": [
    "<h2>Problem 3</h2>"
   ]
  },
  {
   "cell_type": "code",
   "execution_count": null,
   "id": "ebfdf2f7-7399-453f-9f30-db7a1e147958",
   "metadata": {},
   "outputs": [],
   "source": [
    "# Add 2 new key:value  pairs to the dictionary p, from above\n",
    "# Do work below"
   ]
  }
 ],
 "metadata": {
  "kernelspec": {
   "display_name": "Python 3 (ipykernel)",
   "language": "python",
   "name": "python3"
  },
  "language_info": {
   "codemirror_mode": {
    "name": "ipython",
    "version": 3
   },
   "file_extension": ".py",
   "mimetype": "text/x-python",
   "name": "python",
   "nbconvert_exporter": "python",
   "pygments_lexer": "ipython3",
   "version": "3.9.13"
  }
 },
 "nbformat": 4,
 "nbformat_minor": 5
}
