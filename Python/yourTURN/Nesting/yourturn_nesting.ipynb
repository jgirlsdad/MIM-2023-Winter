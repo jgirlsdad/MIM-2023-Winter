{
 "cells": [
  {
   "cell_type": "markdown",
   "id": "d76145a2-2769-4346-9485-8af622b70916",
   "metadata": {},
   "source": [
    "<h1>Nesting Lists and Dictionaries</h1>"
   ]
  },
  {
   "cell_type": "markdown",
   "id": "35d3fac5-44ec-4062-9e1a-901218969483",
   "metadata": {},
   "source": [
    "<h2>Problem 1</h2>"
   ]
  },
  {
   "cell_type": "markdown",
   "id": "7d525719-8f83-4430-984e-8adb9965e925",
   "metadata": {},
   "source": [
    "<div style=\"border: 1px solid blue; padding: 10px\">\n",
    "<p><span style=\"font-size: 14pt;\">Lets review nested dictionaries.&nbsp; A nested dictionary is one where the values associcated with keys are lists or another dictionaries.&nbsp; &nbsp; So if we have a dictioannry,&nbsp;</span></p>\n",
    "<p><span style=\"font-size: 14pt;\">a = {}</span></p>\n",
    "<p><span style=\"font-size: 14pt;\">Then, we can set the key:value pairs as such</span></p>\n",
    "<p><span style=\"font-size: 14pt;\">a[\"dogs\"] = [\"Yorkie\",\"Poodle\",\"Morkie\"]</span></p>\n",
    "<p><span style=\"font-size: 14pt;\">a[\"cats\"] = [\"Siamise\",\"Persian\"]</span></p>\n",
    "<p><span style=\"font-size: 14pt;\">So a is a dictionary with keys \"dogs\" and \"cats\".</span></p>\n",
    "<p><span style=\"font-size: 14pt;\">You can access the dogs like:&nbsp;</span></p>\n",
    "<p><span style=\"font-size: 14pt;\">a[\"dogs\"][0]</span></p>\n",
    "<p><span style=\"font-size: 14pt;\">a[\"dogs\"][1]</span></p>\n",
    "</div>"
   ]
  },
  {
   "cell_type": "code",
   "execution_count": null,
   "id": "e210c27b-d65a-4a58-9536-dc621525eb62",
   "metadata": {},
   "outputs": [],
   "source": [
    "# Create a dictionary with 2 keys where the values for each each is a list with 2 values\n",
    "mm = {}    \n",
    "\n",
    "# Now iterate over the key:value pairs and print out each value for each key, one per line\n"
   ]
  },
  {
   "cell_type": "markdown",
   "id": "96f0d6f9-2ca0-4f56-9806-d4baf6f740a3",
   "metadata": {},
   "source": [
    "<h2>Problem 2</h2>"
   ]
  },
  {
   "cell_type": "markdown",
   "id": "51c4218e-ccdc-490c-963e-5bb121fbffb4",
   "metadata": {},
   "source": [
    "<div style=\"border: 1px solid blue; padding: 10px\">\n",
    "<p><span style=\"font-size: 14pt;\">For a nested list, you can nest them with another list, or a dictionary (or both).</span></p>\n",
    "<p><span style=\"font-size: 14pt;\">Start with a list,&nbsp;</span></p>\n",
    "<p><span style=\"font-size: 14pt;\">b = []</span></p>\n",
    "<p><span style=\"font-size: 14pt;\">Then, we can append other lists to this list:</span></p>\n",
    "<p><span style=\"font-size: 14pt;\">c = [1,2]</span></p>\n",
    "<p><span style=\"font-size: 14pt;\">d=[20,22]</span></p>\n",
    "<p><span style=\"font-size: 14pt;\">Then, we can append c and d to b as such,</span></p>\n",
    "<p><span style=\"font-size: 14pt;\">b.append(c)</span></p>\n",
    "<p><span style=\"font-size: 14pt;\">b.append(d)</span></p>\n",
    "<p><span style=\"font-size: 14pt;\">Let's practice</span></p>\n",
    "</div>"
   ]
  },
  {
   "cell_type": "code",
   "execution_count": null,
   "id": "d4ee6f59-2389-478c-b61e-d613018ff997",
   "metadata": {},
   "outputs": [],
   "source": [
    "# Create 2 lists that have 3 items in them, thne append them to the list below \n",
    "# to create a nested list of lists\n",
    "z = []\n",
    "# do work here\n",
    "\n",
    "\n",
    "\n",
    "# Now, iterate through all the values in the list and print them out\n"
   ]
  }
 ],
 "metadata": {
  "kernelspec": {
   "display_name": "Python 3 (ipykernel)",
   "language": "python",
   "name": "python3"
  },
  "language_info": {
   "codemirror_mode": {
    "name": "ipython",
    "version": 3
   },
   "file_extension": ".py",
   "mimetype": "text/x-python",
   "name": "python",
   "nbconvert_exporter": "python",
   "pygments_lexer": "ipython3",
   "version": "3.9.13"
  }
 },
 "nbformat": 4,
 "nbformat_minor": 5
}
