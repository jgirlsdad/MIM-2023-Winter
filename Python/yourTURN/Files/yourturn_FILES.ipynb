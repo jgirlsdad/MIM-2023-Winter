{
 "cells": [
  {
   "cell_type": "markdown",
   "id": "4a439f97-ccd7-44a2-9713-6e853b97b414",
   "metadata": {},
   "source": [
    "<h1>Files</h1>"
   ]
  },
  {
   "cell_type": "markdown",
   "id": "fe025a7c-4f80-4320-8798-4c5ff3ec4292",
   "metadata": {},
   "source": [
    "<h2>Problem 1</h2>"
   ]
  },
  {
   "cell_type": "markdown",
   "id": "baa588f3-91c1-4160-b1ca-a6daa2a2b219",
   "metadata": {},
   "source": [
    "<p><span style=\"font-size: 14pt;\">Remember, when reading a file, use the with statement, as such:&nbsp;</span></p>\n",
    "<pre><span style=\"font-size: 14pt;\">with open(\"data/some_file\") as ff:</span></pre>\n",
    "<p>&nbsp;</p>\n",
    "<p><span style=\"font-size: 14pt;\">Then, you can use the&nbsp;</span></p>\n",
    "<pre><span style=\"font-size: 14pt;\"><code>lines = ff.readlines() </code> &nbsp; </span></pre>\n",
    "<p><span style=\"font-size: 14pt;\">to read all the lines into memory,&nbsp;</span></p>\n",
    "<p><span style=\"font-size: 14pt;\">or&nbsp; iterate and read 1 line at a time, as such&nbsp;</span></p>\n",
    "<pre><span style=\"font-size: 14pt;\"><code>for line in ff:</code></span><br /><br /><span style=\"font-size: 14pt;\">&nbsp; &nbsp;&nbsp;<code></code><code>print(line)</code></span></pre>\n",
    "<p>&nbsp; &nbsp;&nbsp;</p>"
   ]
  },
  {
   "cell_type": "code",
   "execution_count": null,
   "id": "066efec8-0946-4a45-8224-e064e0886ace",
   "metadata": {},
   "outputs": [],
   "source": [
    "# read the file in data/debug.log, all at once, into memory\n",
    "\n",
    "\n",
    "# How read the same file, one line at a time\n"
   ]
  },
  {
   "cell_type": "markdown",
   "id": "00860b04-16d3-4521-b087-ae9bfa681a3b",
   "metadata": {},
   "source": [
    "<h2>Problem 2</h2>"
   ]
  },
  {
   "cell_type": "markdown",
   "id": "d6b6fa75-e70a-4f08-9013-b3875b1ae2b0",
   "metadata": {},
   "source": [
    "<p><span style=\"font-size: 14pt;\">You can read Comma Separate Values (csv) files using the Python CSV Library.&nbsp; Using DictReader() from the csv library will create a dictionary, with the keys being the header, indicating what the conent of each value is, and the value being what is read on each line.&nbsp;&nbsp;</span></p>\n",
    "<pre><span style=\"font-size: 14pt;\"> <br />\n",
    "import csv\n",
    "info=[] # set up a list to append each dictionary to \n",
    "with open('data/test.csv', mode ='r') as file:\n",
    "# reading the CSV file\n",
    "    csvFile = csv.DictReader(file)\n",
    "# displaying the contents of the CSV file\n",
    "    for lines in csvFile:\n",
    "       print(lines) </span></pre>"
   ]
  },
  {
   "cell_type": "code",
   "execution_count": 1,
   "id": "72b3c97b-d72b-4e75-a9d3-f8330b1fb8fe",
   "metadata": {},
   "outputs": [],
   "source": [
    "# Read data/temps.csv using the Python csv library and use the csv.DictReader() to read \n",
    "# each line as a dictionary, thne append each dictionary to a list\n",
    "import csv\n",
    "## Do work below here"
   ]
  }
 ],
 "metadata": {
  "kernelspec": {
   "display_name": "Python 3 (ipykernel)",
   "language": "python",
   "name": "python3"
  },
  "language_info": {
   "codemirror_mode": {
    "name": "ipython",
    "version": 3
   },
   "file_extension": ".py",
   "mimetype": "text/x-python",
   "name": "python",
   "nbconvert_exporter": "python",
   "pygments_lexer": "ipython3",
   "version": "3.9.13"
  }
 },
 "nbformat": 4,
 "nbformat_minor": 5
}
