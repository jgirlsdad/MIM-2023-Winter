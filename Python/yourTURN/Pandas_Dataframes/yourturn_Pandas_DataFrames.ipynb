{
 "cells": [
  {
   "cell_type": "markdown",
   "id": "9d556f21-9973-4413-a3aa-838f4b650e12",
   "metadata": {},
   "source": [
    "<h1>Pandas DataFrames</h1>"
   ]
  },
  {
   "cell_type": "markdown",
   "id": "d648c56a-81f0-4130-b21c-c8507ecc1286",
   "metadata": {
    "jp-MarkdownHeadingCollapsed": true,
    "tags": []
   },
   "source": [
    "<h2>Problem 1</h2>"
   ]
  },
  {
   "cell_type": "markdown",
   "id": "b269c820-e44c-4dc0-bc57-733fb25aeaef",
   "metadata": {},
   "source": [
    "<div style=\"border: 1px solid green; padding: 10px;\">\n",
    "<p><span style=\"font-size: 14pt; color: #843fa1;\">Read the file data/wold_cups.csv into a dataframe, then</span></p>\n",
    "<p><span style=\"font-size: 14pt; color: #843fa1;\">1 Print out the first 10 and last 5 rows</span></p>\n",
    "<p><span style=\"font-size: 14pt; color: #843fa1;\">2 What are the data type for each column</span></p>\n",
    "<p><span style=\"font-size: 14pt; color: #843fa1;\">3 Print out the columns as a list</span></p>\n",
    "<p><span style=\"font-size: 14pt; color: #843fa1;\">4 What is the shape of the dataframe</span></p>\n",
    "<p><span style=\"font-size: 14pt; color: #843fa1;\">5 Which country has HOSTED the most world cups</span></p>\n",
    "<p><span style=\"font-size: 14pt; color: #843fa1;\">6 Which country has WON the most world cups</span></p>\n",
    "</div>"
   ]
  },
  {
   "cell_type": "markdown",
   "id": "369a9d46-746d-4923-ac66-1decfbd2d749",
   "metadata": {},
   "source": [
    "<h2>Problem 2</h2>"
   ]
  },
  {
   "cell_type": "markdown",
   "id": "40580deb-59b1-4121-b350-b6653c13ffb6",
   "metadata": {},
   "source": [
    "<div style=\"border: 1px solid green; padding: 10px;\">\n",
    "<p><span style=\"font-size: 14pt; color: #843fa1;\">Read data/lebron_playoffs.csv into a dataframe</span></p>\n",
    "<p><span style=\"font-size: 14pt; color: #843fa1;\">1 Print out the first and last 5 rows</span></p>\n",
    "<p><span style=\"font-size: 14pt; color: #843fa1;\">2 What is the shape</span></p>\n",
    "<p><span style=\"font-size: 14pt; color: #843fa1;\">3 What are the data types for each column</span></p>\n",
    "<p><span style=\"font-size: 14pt; color: #843fa1;\">4 Print out all of the columns&nbsp;</span></p>\n",
    "<p><span style=\"font-size: 14pt; color: #843fa1;\">5 How many Total Wins (W) and Losses (L) does Lebron have&nbsp;</span></p>\n",
    "<p><span style=\"font-size: 14pt; color: #843fa1;\">6 How many points has Lebron averaged for his entire Playoff Career</span></p>\n",
    "<p><span style=\"font-size: 14pt; color: #843fa1;\">7 How many Free Throws (ft) has he averaged per Game</span></p>\n",
    "</div>"
   ]
  }
 ],
 "metadata": {
  "kernelspec": {
   "display_name": "Python 3 (ipykernel)",
   "language": "python",
   "name": "python3"
  },
  "language_info": {
   "codemirror_mode": {
    "name": "ipython",
    "version": 3
   },
   "file_extension": ".py",
   "mimetype": "text/x-python",
   "name": "python",
   "nbconvert_exporter": "python",
   "pygments_lexer": "ipython3",
   "version": "3.9.13"
  }
 },
 "nbformat": 4,
 "nbformat_minor": 5
}
