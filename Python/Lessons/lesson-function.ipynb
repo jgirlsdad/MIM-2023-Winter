{
 "cells": [
  {
   "cell_type": "markdown",
   "id": "5d3e98cd-f348-4ef0-828f-abdd05925400",
   "metadata": {},
   "source": [
    "<h1>Functions</h1>"
   ]
  },
  {
   "cell_type": "markdown",
   "id": "be352b92-020b-4526-9eb8-ad8d51de6020",
   "metadata": {},
   "source": [
    "<p class=\"intro\" style=\"margin-top: 1.2em; margin-bottom: 1.2em; font-size: 16px; font-family: Verdana, sans-serif; background-color: #ffffff;\">Another of the basic <strong>building blocks</strong> of most coding languages is the <strong>Function</strong>.&nbsp;</p>\n",
    "<p class=\"intro\" style=\"margin-top: 1.2em; margin-bottom: 1.2em; font-size: 16px; font-family: Verdana, sans-serif; background-color: #ffffff;\">A <strong>function</strong> is a <strong>block</strong> <strong>of code</strong> which only <strong>runs</strong> when it is <strong>called</strong>.</p>\n",
    "<p class=\"intro\" style=\"margin-top: 1.2em; margin-bottom: 1.2em; font-size: 16px; font-family: Verdana, sans-serif; background-color: #ffffff;\">There are <strong>no limits</strong> to the <strong>length</strong> of a <strong>function</strong> (you do have to have at-least 1 line, which can be the return line)</p>\n",
    "<p class=\"intro\" style=\"margin-top: 1.2em; margin-bottom: 1.2em; font-size: 16px; font-family: Verdana, sans-serif; background-color: #ffffff;\">You can <strong>pass data</strong>, known as <strong>parameters,</strong> into a function.</p>\n",
    "<p class=\"intro\" style=\"margin-top: 1.2em; margin-bottom: 1.2em; font-size: 16px; font-family: Verdana, sans-serif; background-color: #ffffff;\">A function can <strong>return</strong> data as a <strong>result,</strong> but it is not required</p>"
   ]
  },
  {
   "cell_type": "markdown",
   "id": "6a08422d-5d27-4ad2-bd81-8f60b0858a96",
   "metadata": {
    "tags": []
   },
   "source": [
    "<h2>Parts of a Function</h2>"
   ]
  },
  {
   "cell_type": "markdown",
   "id": "0cf980fc-06a1-4ef7-8d52-6595956ed5e7",
   "metadata": {},
   "source": [
    "<div style=\"border: 1px solid blue; padding: 10px\">\n",
    "<img src=\"images/func.png\" style=\"width:500px;height=400px\">\n",
    "</div>"
   ]
  },
  {
   "cell_type": "markdown",
   "id": "38719edd-d233-411c-bf23-feab31079b86",
   "metadata": {},
   "source": [
    "<p>The keyword <strong>def</strong> is used to <strong>create</strong> a <strong>function.</strong>&nbsp; You then give the function a <strong>name</strong> followed by open and closing <strong>parentheses,</strong> which are <strong>always required,</strong> wether you are input paramaters or not, and finally, there is a <strong>colon</strong> at the end of the line, which tells Python the <strong>code block</strong> for the function is <strong>coming.</strong>&nbsp; As always, after a colon,&nbsp; you have to <strong>indent</strong> all of the <strong>code</strong> that is inside the function.&nbsp; Finally, if can have the <strong>return</strong> part, but it is not required.&nbsp; Note it is at the same indent level as the rest of the function.</p>\n",
    "<p>So, a function looks like :&nbsp;</p>\n",
    "<pre>def myFunc(a):\n",
    "     b = a*100/1.456\n",
    "     return b<br /><br /><br />Lets give it a try</pre>"
   ]
  },
  {
   "cell_type": "code",
   "execution_count": 2,
   "id": "edd75913-f91c-4589-8fef-590af8738b85",
   "metadata": {},
   "outputs": [],
   "source": [
    "#  Set up a function \n",
    "def squareNumber(a):  # we are inputting 1 parameter ... variable a \n",
    "    b = a**2\n",
    "    return b\n",
    "\n",
    "\n",
    "#  Note... nothing happens until you call the function.  Right now, it is sitting in memory, waiting to be called\n"
   ]
  },
  {
   "cell_type": "code",
   "execution_count": 3,
   "id": "387a25f4-e0b2-4e41-91e9-50b7d4fd9181",
   "metadata": {},
   "outputs": [
    {
     "data": {
      "text/plain": [
       "100"
      ]
     },
     "execution_count": 3,
     "metadata": {},
     "output_type": "execute_result"
    }
   ],
   "source": [
    "#  The funciton only runs when we call it, using the name we provided!\n",
    "squareNumber(10)\n",
    "\n",
    "#note... we did NOT capture the output of the function, so it went to STDOUT"
   ]
  },
  {
   "cell_type": "code",
   "execution_count": 4,
   "id": "34a20112-3652-4cae-967c-705f6ebb80fe",
   "metadata": {},
   "outputs": [
    {
     "name": "stdout",
     "output_type": "stream",
     "text": [
      "10000\n"
     ]
    }
   ],
   "source": [
    "# Lets try using 2 parameters...   \n",
    "# Note: the return statement is not required...\n",
    "def powerNumber(a,b):\n",
    "      b = a**b\n",
    "      print(b)\n",
    "    \n",
    "powerNumber(10,4)\n",
    "\n",
    "# However, without the return statement, you do not get teh results returned to you... which in some cases is OK"
   ]
  },
  {
   "cell_type": "code",
   "execution_count": 7,
   "id": "bedc2d23-76b8-4177-991f-195bab1f58a6",
   "metadata": {},
   "outputs": [
    {
     "data": {
      "text/plain": [
       "[2, 4, 6, 8, 10]"
      ]
     },
     "execution_count": 7,
     "metadata": {},
     "output_type": "execute_result"
    }
   ],
   "source": [
    "#  Input parameters can be variables, numbers, lists, other functions,.....\n",
    "# You can out return variable(s), lists, dictionaries,....\n",
    "a = [1,3,5,7,9]\n",
    "def makeEven(a):\n",
    "    b = [x+1 for x in a]\n",
    "    return b\n",
    "\n",
    "makeEven(a)"
   ]
  },
  {
   "cell_type": "code",
   "execution_count": null,
   "id": "061fe2f5-6c34-400a-bf10-67543f1ad629",
   "metadata": {},
   "outputs": [],
   "source": [
    "#  Lets try something a little more complicated\n",
    "a = range(100)\n",
    "b = range(100)\n",
    "\n",
    "def doMath(c,d):\n",
    "    m = [x-10 for x in c]\n",
    "    n  = [y**2 for y in d]\n",
    "    q = []\n",
    "    for xx in range(len(m)):\n",
    "        q.append(m[xx]+n[xx])\n",
    "    return q\n",
    "\n",
    "doMath(a,b)\n",
    "        "
   ]
  },
  {
   "cell_type": "markdown",
   "id": "909787b6-6b3a-4a09-8eee-f03792de4fce",
   "metadata": {},
   "source": [
    "<h2>Scope</h2>"
   ]
  },
  {
   "cell_type": "markdown",
   "id": "c86a50ae-334c-4175-b894-f97fdef2cf70",
   "metadata": {},
   "source": [
    "<p><span style=\"font-family: Verdana, sans-serif; font-size: 14pt; background-color: #ffffff;\"><strong>Scope</strong> = A variable is only available from inside the region it is created</span></p>\n",
    "<p>&nbsp;</p>\n",
    "<p><span style=\"font-family: Verdana, sans-serif; font-size: 14pt; background-color: #ffffff;\">A <strong>variable</strong>/list/dictionary/function created in the <strong>Main</strong> Python programs (i.e. NOT in a function) is <strong>available</strong> to <strong>everything</strong> in the program, including <strong>all functions.&nbsp;</strong> This is&nbsp; called<strong> <span style=\"color: #ba372a;\">Global</span> scope</strong></span></p>\n",
    "<p>&nbsp;</p>\n",
    "<p><span style=\"font-family: Verdana, sans-serif; font-size: 14pt; background-color: #ffffff;\">A variable/list/dictioanry/function created <strong>INSIDE</strong> a&nbsp; <strong>function</strong>&nbsp; is ONLY available i<strong>nside that function.</strong>&nbsp; This is called <span style=\"color: #ba372a;\"><strong>local</strong></span> scope.</span></p>"
   ]
  },
  {
   "cell_type": "code",
   "execution_count": 12,
   "id": "40ac5148-5c56-4271-8d4a-679e36136104",
   "metadata": {},
   "outputs": [
    {
     "name": "stdout",
     "output_type": "stream",
     "text": [
      "10\n"
     ]
    }
   ],
   "source": [
    "# Let try this \n",
    "a = 10\n",
    "\n",
    "def someFun():\n",
    "    print(a)\n",
    "    \n",
    "someFun()"
   ]
  },
  {
   "cell_type": "markdown",
   "id": "5f8c0923-8bb2-4bbb-b7b5-76cd772748d0",
   "metadata": {},
   "source": [
    "<p><span style=\"font-size: 14pt;\">In the example above, variable a is <strong>declared</strong> in the <strong>Main</strong> <strong>Python</strong> <strong>program</strong>, the function <strong>someFun() CAN</strong> see it, because the function is part of the <strong>main program</strong>.&nbsp;</span></p>"
   ]
  },
  {
   "cell_type": "code",
   "execution_count": null,
   "id": "7349c485-9db7-4918-b62d-e5f040fcb34b",
   "metadata": {},
   "outputs": [],
   "source": [
    "def anotherFun():\n",
    "    ll = 10\n",
    "    \n",
    "    \n",
    "anotherFun()\n",
    "print(ll)\n",
    "\n"
   ]
  },
  {
   "cell_type": "markdown",
   "id": "50e3e447-79cd-4b84-8ed5-2d85abfad535",
   "metadata": {},
   "source": [
    "<p>In this example, variable <strong>ll</strong> is created <strong>inside</strong> the <strong>function,</strong> so it <strong>only</strong> exists <strong>inside</strong> that <strong>function,</strong> while it is running.&nbsp; Once the function finished, the variable goes away, and thus is <strong>NOT available</strong> in the <strong>Main</strong> program.</p>\n",
    "<p>&nbsp;</p>\n",
    "<p><a href=\"https://www.geeksforgeeks.org/python-scope-of-variables/\" target=\"_blank\" rel=\"noopener\">More on scope</a></p>\n",
    "<blockquote>\n",
    "<p><a href=\"https://www.programiz.com/python-programming/global-local-nonlocal-variables\" target=\"_blank\" rel=\"noopener\">a little more on scope</a></p>\n",
    "</blockquote>"
   ]
  },
  {
   "cell_type": "code",
   "execution_count": null,
   "id": "07ad7dec-fb36-4614-bc50-0169605c1887",
   "metadata": {},
   "outputs": [],
   "source": []
  }
 ],
 "metadata": {
  "kernelspec": {
   "display_name": "Python 3 (ipykernel)",
   "language": "python",
   "name": "python3"
  },
  "language_info": {
   "codemirror_mode": {
    "name": "ipython",
    "version": 3
   },
   "file_extension": ".py",
   "mimetype": "text/x-python",
   "name": "python",
   "nbconvert_exporter": "python",
   "pygments_lexer": "ipython3",
   "version": "3.9.13"
  }
 },
 "nbformat": 4,
 "nbformat_minor": 5
}
