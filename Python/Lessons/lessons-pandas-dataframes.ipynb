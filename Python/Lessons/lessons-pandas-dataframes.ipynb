{
 "cells": [
  {
   "cell_type": "markdown",
   "metadata": {},
   "source": [
    "<h1>Pandas DataFrames</h1>"
   ]
  },
  {
   "cell_type": "markdown",
   "metadata": {
    "slideshow": {
     "slide_type": "slide"
    }
   },
   "source": [
    "![pandas](https://upload.wikimedia.org/wikipedia/commons/thumb/e/ed/Pandas_logo.svg/2880px-Pandas_logo.svg.png)"
   ]
  },
  {
   "cell_type": "markdown",
   "metadata": {
    "heading_collapsed": true,
    "slideshow": {
     "slide_type": "slide"
    },
    "tags": []
   },
   "source": [
    "<p><img src=\"https://cdn-images-1.medium.com/max/1600/1*oBx032ncOwLmCFX3Epo3Zg.jpeg\" alt=\"I have no idea what I'm doing panda\" /></p>"
   ]
  },
  {
   "cell_type": "markdown",
   "metadata": {
    "hidden": true,
    "slideshow": {
     "slide_type": "slide"
    }
   },
   "source": [
    "<p><span style=\"font-size: 14pt; color: #e67e23;\"><strong>Pandas</strong> is a <strong>Python library</strong> made for working with <strong>data</strong> that can be coerced into <strong>rows</strong> and <strong>columns</strong> (i.e. think Excel, CSVs,...).&nbsp;</span></p>\n",
    "<ul>\n",
    "<li><span style=\"font-size: 14pt; color: #e67e23;\"><strong>Fast</strong> and efficient for <strong>manipulating</strong> and <strong>analyzing data.</strong></span></li>\n",
    "<li><span style=\"font-size: 14pt; color: #e67e23;\">Easy <strong>handling</strong> of <strong>missing data</strong> (represented as NaN) in floating point as well as non-floating point data</span></li>\n",
    "<li><span style=\"font-size: 14pt; color: #e67e23;\">Size mutability: <strong>columns</strong> can be <strong>inserted</strong> and <strong>deleted</strong> from <strong>DataFrame</strong> and higher dimensional objects</span></li>\n",
    "<li><span style=\"font-size: 14pt; color: #e67e23;\">Data set <strong>merging</strong> and <strong>joining</strong></span></li>\n",
    "<li><span style=\"font-size: 14pt; color: #e67e23;\">Provides <strong>time-series</strong> functionality.</span></li>\n",
    "<li><span style=\"font-size: 14pt; color: #e67e23;\">Built on <strong>top</strong> of <strong>Numpy</strong></span></li>\n",
    "</ul>"
   ]
  },
  {
   "cell_type": "markdown",
   "metadata": {},
   "source": [
    "<p><span style=\"color: #e67e23; font-size: 18.6667px;\">The image below shows the steps in a Data Analytics or Data Science project</span></p>"
   ]
  },
  {
   "cell_type": "markdown",
   "metadata": {
    "slideshow": {
     "slide_type": "slide"
    }
   },
   "source": [
    "![images/data-anl.png](images/data-anl.png)"
   ]
  },
  {
   "cell_type": "markdown",
   "metadata": {},
   "source": [
    "<div style=\"border: 1px solid blue; padding: 10px\">\n",
    "<p><span style=\"font-size: 14pt; color: #e67e23;\">As the image below shows, most of the steps can be completed using Pandas.&nbsp; For Data Science projects, Pandas outputs can be directly input to the various SKlearn and Kera libraries, though a little reshaping may be needed.&nbsp;</span></p>\n",
    "</div>"
   ]
  },
  {
   "cell_type": "markdown",
   "metadata": {
    "slideshow": {
     "slide_type": "slide"
    }
   },
   "source": [
    "<img src=\"images/data-anal-steps-2.jpeg\"  style=\"width:90%;height:80%\">"
   ]
  },
  {
   "cell_type": "markdown",
   "metadata": {
    "slideshow": {
     "slide_type": "slide"
    }
   },
   "source": [
    "<img src=\"images/panda.jpeg\" style=\"width:300px;height:300px\">"
   ]
  },
  {
   "cell_type": "markdown",
   "metadata": {},
   "source": [
    "<div style=\"border: 1px solid blue; padding: 10px;\">\n",
    "<p><span style=\"font-size: 14pt; color: #e67e23;\">Python's <strong>Pandas</strong> is <strong>almost</strong> as <strong>good</strong> as actually having your <span style=\"color: #236fa1;\"><em><strong>own Panda</strong></em>!</span></span></p>\n",
    "<p>&nbsp;</p>\n",
    "</div>"
   ]
  },
  {
   "cell_type": "markdown",
   "metadata": {},
   "source": [
    "<div style=\"border: 1px solid blue; padding: 10px;\">\n",
    "<p><span style=\"font-size: 14pt; color: #e67e23;\">Before you can <strong>use</strong> <strong>Pandas</strong>, you must <strong>install</strong> the library.&nbsp;&nbsp;</span></p>\n",
    "<p><span style=\"font-size: 14pt; color: #e67e23;\"><a href=\"https://pandas.pydata.org/docs/getting_started/install.html\" target=\"_blank\" rel=\"noopener\">https://pandas.pydata.org/docs/getting_started/install.html</a></span></p>\n",
    "<p><span style=\"font-size: 14pt; color: #e67e23;\">Conda</span></p>\n",
    "<p><span style=\"color: #e67e23;\"><strong><em><span style=\"font-size: 14pt;\">conda install pandas</span></em></strong></span></p>\n",
    "<p><span style=\"font-size: 14pt; color: #e67e23;\">Pip</span></p>\n",
    "<p><span style=\"color: #e67e23;\"><strong><em><span style=\"font-size: 14pt;\">pip install pandas</span></em></strong></span></p>\n",
    "</div>"
   ]
  },
  {
   "cell_type": "code",
   "execution_count": null,
   "metadata": {
    "slideshow": {
     "slide_type": "slide"
    }
   },
   "outputs": [],
   "source": [
    "# Import - using the common alias\n",
    "import pandas as pd  # pd  is an alias to the panadas library and is industry standard"
   ]
  },
  {
   "cell_type": "markdown",
   "metadata": {
    "hidden": true,
    "slideshow": {
     "slide_type": "slide"
    }
   },
   "source": [
    "## Accessing Data\n",
    "\n",
    "![pandas documentation image showcasing the kinds of data it can both read and write to](https://pandas.pydata.org/docs/_images/02_io_readwrite.svg)\n",
    "\n",
    "[[Image Source]](https://pandas.pydata.org/docs/getting_started/intro_tutorials/02_read_write.html)"
   ]
  },
  {
   "cell_type": "markdown",
   "metadata": {
    "slideshow": {
     "slide_type": "slide"
    }
   },
   "source": [
    "<div style=\"border: 1px solid blue; padding: 10px;\">\n",
    "<p><span style=\"font-size: 14pt; color: #e67e23;\"><strong>Pandas</strong> can <strong>access</strong> a ton of different <strong>data types</strong>, including some that should be familiar: <strong>CSVs, JSONs </strong>and <strong>SQL</strong> database tables! That's right, no more <code>with</code> / <code>open</code> statements now that we're using pandas!</span></p>\n",
    "<p><span style=\"font-size: 14pt; color: #e67e23;\">Pandas can also <em>output</em> <strong>different</strong> data <strong>formats</strong>, including <strong>CSVs</strong> and directly to <strong>SQL tables</strong>.</span></p>\n",
    "<ul>\n",
    "<li><span style=\"font-size: 14pt; color: #e67e23;\"><a style=\"color: #e67e23;\" href=\"https://pandas.pydata.org/docs/reference/io.html\" target=\"_blank\" rel=\"noopener\">https://pandas.pydata.org/docs/reference/io.html</a></span></li>\n",
    "</ul>\n",
    "</div>"
   ]
  },
  {
   "cell_type": "markdown",
   "metadata": {},
   "source": [
    "<div style=\"border: 1px solid blue; padding: 10px;\">\n",
    "<p><span style=\"font-size: 14pt; color: #e67e23;\">Most of the time, we'll see CS</span><span style=\"font-size: 14pt; color: #e67e23;\">Vs - so let's&nbsp;<strong>access</strong>&nbsp;a&nbsp;<strong>'toy'</strong>&nbsp;data set quickly just to familiarize ourselves with using pandas. There's a heart dataset available in the data folder on this repository - let's read that in.</span></p>\n",
    "<p><span style=\"font-size: 14pt; color: #e67e23;\"><strong>Toy </strong>datasets are usually <strong>small</strong> <strong>datasets</strong> used for <strong>developing</strong> and testing certain <strong>coding techniques&nbsp;</strong></span></p>\n",
    "</div>"
   ]
  },
  {
   "cell_type": "code",
   "execution_count": null,
   "metadata": {
    "hidden": true,
    "slideshow": {
     "slide_type": "slide"
    }
   },
   "outputs": [],
   "source": [
    "# Use read_csv to read in the heart csv file\n",
    "# Need to assign it to a variable too - let's call this heart_df\n",
    "heart_df = pd.read_csv('data/heart.csv') "
   ]
  },
  {
   "cell_type": "markdown",
   "metadata": {
    "slideshow": {
     "slide_type": "-"
    }
   },
   "source": [
    "<div style=\"border: 1px solid blue; padding: 10px;\">\n",
    "<p><span style=\"font-size: 14pt; color: #e67e23;\">Find out more about this dataset <a style=\"color: #e67e23;\" href=\"https://archive.ics.uci.edu/ml/datasets/Statlog+%28Heart%29\" target=\"_blank\" rel=\"noopener\">here</a>.</span></p>\n",
    "</div>"
   ]
  },
  {
   "cell_type": "markdown",
   "metadata": {
    "hidden": true,
    "slideshow": {
     "slide_type": "slide"
    }
   },
   "source": [
    "<div style=\"border: 1px solid blue; padding: 10px;\">\n",
    "<p><span style=\"font-size: 14pt; color: #e67e23;\">The <strong>output</strong> of the <code>.<strong>read_csv()</strong></code> function (and all of the .read_xxx functions)&nbsp; is a pandas <span style=\"color: #e03e2d;\"><strong><em>&nbsp;<a href=\"https://www.w3schools.com/python/pandas/pandas_dataframes.asp#:~:text=What%20is%20a%20DataFrame%3F,table%20with%20rows%20and%20columns.\">DataFrame</a></em></strong></span>, which has a familiar tabaular structure of <strong>rows</strong> and <strong>columns</strong>.</span></p>\n",
    "<p><span style=\"font-size: 14pt; color: #e67e23;\">In the case above, we have captured the returned dataframe and stored it in variable <em>heart_df</em></span></p>\n",
    "</div>"
   ]
  },
  {
   "cell_type": "markdown",
   "metadata": {
    "jp-MarkdownHeadingCollapsed": true,
    "tags": []
   },
   "source": [
    "<h2>.head()</h2>"
   ]
  },
  {
   "cell_type": "markdown",
   "metadata": {},
   "source": [
    "<div style=\"border: 1px solid blue; padding: 10px\">\n",
    "<p><span style=\"color: #e67e23;\">The</span><span style=\"font-size: 18.6667px;\">&nbsp;</span><a style=\"font-size: 18.6667px;\" href=\"https://pandas.pydata.org/docs/reference/api/pandas.DataFrame.head.html\" target=\"_blank\" rel=\"noopener\">.head()</a><span style=\"font-size: 18.6667px;\">&nbsp;</span><span style=\"color: #e67e23;\">function</span><span style=\"font-size: 18.6667px;\">&nbsp;</span><span style=\"color: #e67e23;\">displays the first 5 rows of the dataframe.&nbsp; You can input an argument to display more rows.&nbsp; .head(10) will display the first 10 rows.</span></p>\n",
    "</div>"
   ]
  },
  {
   "cell_type": "code",
   "execution_count": null,
   "metadata": {
    "hidden": true,
    "slideshow": {
     "slide_type": "-"
    }
   },
   "outputs": [],
   "source": [
    "# Let's check this variable out\n",
    "heart_df.head()"
   ]
  },
  {
   "cell_type": "code",
   "execution_count": null,
   "metadata": {},
   "outputs": [],
   "source": [
    "# you turn.... print the first 20 rows\n"
   ]
  },
  {
   "cell_type": "code",
   "execution_count": null,
   "metadata": {
    "hidden": true,
    "slideshow": {
     "slide_type": "slide"
    }
   },
   "outputs": [],
   "source": [
    "# What type is this variable?\n",
    "type(heart_df) "
   ]
  },
  {
   "cell_type": "markdown",
   "metadata": {
    "heading_collapsed": true,
    "hidden": true,
    "slideshow": {
     "slide_type": "slide"
    }
   },
   "source": [
    "<h2>DataFrames and Series</h2>"
   ]
  },
  {
   "cell_type": "markdown",
   "metadata": {
    "hidden": true,
    "slideshow": {
     "slide_type": "fragment"
    }
   },
   "source": [
    "<div style=\"border: 1px solid blue; padding: 10px;\">\n",
    "<p><span style=\"font-size: 14pt; color: #e67e23;\">Two <strong>main</strong> types of <strong>pandas</strong> <strong>objects</strong> are the <strong>DataFrame</strong> and the <a href=\"https://www.w3schools.com/python/pandas/pandas_series.asp\" target=\"_blank\" rel=\"noopener\"><strong>Series</strong></a>, the latter being in effect a single column of the former:</span></p>\n",
    "</div>"
   ]
  },
  {
   "cell_type": "markdown",
   "metadata": {
    "slideshow": {
     "slide_type": "slide"
    }
   },
   "source": [
    "<img src=\"images/df-1.png\">"
   ]
  },
  {
   "cell_type": "markdown",
   "metadata": {},
   "source": [
    "<div style=\"border: 1px solid blue; padding: 10px;\">\n",
    "<p><span style=\"font-size: 14pt; color: #e67e23;\">The individual <strong>columns</strong> are Pandas Data <strong>Series</strong>. Each <strong>row</strong> has an indentifier, similar to the column names, which is called the <a href=\"https://pandas.pydata.org/docs/user_guide/indexing.html\" target=\"_blank\" rel=\"noopener\">index</a> and can be used to <strong>identify</strong> each <strong>row</strong>.</span></p>\n",
    "<p><span style=\"font-size: 14pt; color: #e67e23;\">Note indexes will be discussed more later.</span></p>\n",
    "</div>"
   ]
  },
  {
   "cell_type": "markdown",
   "metadata": {
    "hidden": true,
    "slideshow": {
     "slide_type": "slide"
    }
   },
   "source": [
    "<div style=\"border: 1px solid blue; padding: 10px\">\n",
    "<p><span style=\"font-size: 14pt; color: #e67e23;\">Notice how we can <strong>isolate</strong> a <strong>column</strong> of our DataFrame simply by using <strong>square brackets</strong> together with the <strong>name</strong> of the <strong>column.</strong> </span></p>\n",
    "<p><span style=\"font-size: 14pt; color: #e67e23;\">We can also access columns as an <strong>attribute</strong> of the <strong>DataFrame</strong> - but that only works if the name of the column <strong>doesn't have any spaces</strong> or weird characters!</span></p>\n",
    "</div>"
   ]
  },
  {
   "cell_type": "code",
   "execution_count": null,
   "metadata": {
    "slideshow": {
     "slide_type": "-"
    }
   },
   "outputs": [],
   "source": [
    "# prefered method\n",
    "print(heart_df[\"age\"])\n",
    "\n",
    "# attribute method... I suggest not using this method!   \n",
    "print(heart_df.age)  "
   ]
  },
  {
   "cell_type": "markdown",
   "metadata": {
    "heading_collapsed": true,
    "hidden": true,
    "slideshow": {
     "slide_type": "slide"
    },
    "tags": []
   },
   "source": [
    "## Basic DataFrame Attributes and Methods"
   ]
  },
  {
   "cell_type": "markdown",
   "metadata": {},
   "source": [
    "<p><span style=\"font-size: 14pt; color: #e67e23;\"><strong>Dataframes</strong> have <strong>attributes</strong> and <strong>methods</strong>, both of which can be <strong>very</strong> <strong>useful</strong>.&nbsp;</span></p>\n",
    "<p><span style=\"font-size: 14pt; color: #e67e23;\"><span style=\"color: #e03e2d;\"><strong>Attributes</strong></span> are <strong>characteristics</strong> or <strong>properties</strong> that describe the <strong>contents</strong> of the <strong>dataframe</strong>.</span></p>\n",
    "<p><span style=\"font-size: 14pt; color: #e67e23;\"><span style=\"background-color: #e03e2d;\"><strong>Methods</strong></span> are <strong>functions</strong> that perform some sort of <strong>action</strong> on the <strong>dataframe</strong> or individual <strong>series</strong>, like <strong>computing</strong> a mean or max for the <strong>values</strong> in a <strong>column.</strong>&nbsp;</span></p>\n",
    "<p><span style=\"font-size: 14pt; color: #e67e23;\">A listting of the various attributes and methods can be found <a style=\"color: #e67e23;\" href=\"https://pandas.pydata.org/docs/reference/api/pandas.DataFrame.html\" target=\"_blank\" rel=\"noopener\">https://pandas.pydata.org/docs/reference/api/pandas.DataFrame.html</a></span></p>"
   ]
  },
  {
   "cell_type": "markdown",
   "metadata": {
    "slideshow": {
     "slide_type": "slide"
    }
   },
   "source": [
    "<img src=\"images/attmeth.png\" style=\"height:70%\">"
   ]
  },
  {
   "cell_type": "markdown",
   "metadata": {
    "heading_collapsed": true,
    "hidden": true,
    "slideshow": {
     "slide_type": "slide"
    },
    "tags": []
   },
   "source": [
    "<h3 id=\".head()-:-first-5-rows\"><code>.head()</code> : first 5 rows</h3>\n",
    "<p><span style=\"font-size: 14pt;\">or&nbsp;</span></p>\n",
    "<p><span style=\"font-size: 14pt;\">.head(n) will print the first n rows (i.e. .head(100) will print the first 100 rows</span></p>"
   ]
  },
  {
   "cell_type": "code",
   "execution_count": null,
   "metadata": {
    "hidden": true,
    "slideshow": {
     "slide_type": "-"
    }
   },
   "outputs": [],
   "source": [
    "heart_df.head()"
   ]
  },
  {
   "cell_type": "markdown",
   "metadata": {
    "heading_collapsed": true,
    "hidden": true,
    "slideshow": {
     "slide_type": "slide"
    }
   },
   "source": [
    "<h3 id=\".tail()-:-last-5-rows\"><code>.tail()</code> : last 5 rows&nbsp;</h3>\n",
    "<p>or&nbsp;</p>\n",
    "<p>.tail(n) will print the last n rows</p>"
   ]
  },
  {
   "cell_type": "code",
   "execution_count": null,
   "metadata": {
    "hidden": true,
    "slideshow": {
     "slide_type": "-"
    }
   },
   "outputs": [],
   "source": [
    "heart_df.tail(0)"
   ]
  },
  {
   "cell_type": "markdown",
   "metadata": {
    "heading_collapsed": true,
    "hidden": true,
    "slideshow": {
     "slide_type": "slide"
    }
   },
   "source": [
    "### `.info()` : information about the columns, including about nulls in those columns"
   ]
  },
  {
   "cell_type": "code",
   "execution_count": null,
   "metadata": {
    "hidden": true,
    "slideshow": {
     "slide_type": "-"
    }
   },
   "outputs": [],
   "source": [
    "heart_df.info()"
   ]
  },
  {
   "cell_type": "markdown",
   "metadata": {
    "heading_collapsed": true,
    "hidden": true,
    "slideshow": {
     "slide_type": "slide"
    }
   },
   "source": [
    "### `.describe()` : statistics about the data"
   ]
  },
  {
   "cell_type": "code",
   "execution_count": null,
   "metadata": {
    "hidden": true,
    "scrolled": true,
    "slideshow": {
     "slide_type": "-"
    }
   },
   "outputs": [],
   "source": [
    "heart_df.describe()"
   ]
  },
  {
   "cell_type": "markdown",
   "metadata": {
    "heading_collapsed": true,
    "hidden": true,
    "slideshow": {
     "slide_type": "slide"
    }
   },
   "source": [
    "### `.dtypes` : data types of each column"
   ]
  },
  {
   "cell_type": "code",
   "execution_count": null,
   "metadata": {
    "hidden": true,
    "slideshow": {
     "slide_type": "-"
    }
   },
   "outputs": [],
   "source": [
    "heart_df.dtypes\n",
    "#print(heart_df.info())"
   ]
  },
  {
   "cell_type": "markdown",
   "metadata": {
    "heading_collapsed": true,
    "hidden": true,
    "slideshow": {
     "slide_type": "slide"
    }
   },
   "source": [
    "### `.shape` : number of rows and columns"
   ]
  },
  {
   "cell_type": "code",
   "execution_count": null,
   "metadata": {
    "hidden": true,
    "scrolled": true,
    "slideshow": {
     "slide_type": "-"
    }
   },
   "outputs": [],
   "source": [
    "heart_df.shape  "
   ]
  },
  {
   "cell_type": "code",
   "execution_count": null,
   "metadata": {
    "slideshow": {
     "slide_type": "fragment"
    }
   },
   "outputs": [],
   "source": [
    "(nrows,ncols) = heart_df.shape\n",
    "#print(nrows,ncols)\n",
    "len(heart_df) # Not Recommended"
   ]
  },
  {
   "cell_type": "markdown",
   "metadata": {},
   "source": [
    "<h3 id=\".shape-:-number-of-rows-and-columns\"><code>.columns</code>&nbsp;: return columns is a list</h3>"
   ]
  },
  {
   "cell_type": "code",
   "execution_count": null,
   "metadata": {},
   "outputs": [],
   "source": [
    "# look at columns\n",
    "heart_df.columns"
   ]
  },
  {
   "cell_type": "markdown",
   "metadata": {
    "slideshow": {
     "slide_type": "slide"
    }
   },
   "source": [
    "<img src=\"images/oven.jfif\">"
   ]
  },
  {
   "cell_type": "markdown",
   "metadata": {},
   "source": [
    "<p><span style=\"font-size: 24pt; color: #ba372a;\">Lets Practice</span></p>\n",
    "<p><span style=\"font-size: 24pt; color: #ba372a;\">Lets read file : data/toy_dataset.csv</span></p>"
   ]
  },
  {
   "cell_type": "code",
   "execution_count": null,
   "metadata": {},
   "outputs": [],
   "source": [
    "# read file into dataframe"
   ]
  },
  {
   "cell_type": "code",
   "execution_count": null,
   "metadata": {},
   "outputs": [],
   "source": [
    "# let at head and tail of file"
   ]
  },
  {
   "cell_type": "code",
   "execution_count": null,
   "metadata": {},
   "outputs": [],
   "source": [
    "# compute some stats"
   ]
  },
  {
   "cell_type": "code",
   "execution_count": null,
   "metadata": {},
   "outputs": [],
   "source": [
    "# get the shape"
   ]
  },
  {
   "cell_type": "code",
   "execution_count": null,
   "metadata": {},
   "outputs": [],
   "source": [
    "# look at columns"
   ]
  },
  {
   "cell_type": "markdown",
   "metadata": {},
   "source": [
    "<p><span style=\"font-size: 24pt; color: #ba372a;\">More Practice....&nbsp;</span></p>\n",
    "<p><span style=\"font-size: 24pt; color: #ba372a;\">Lets read file : data/jordan_playoffs.csv</span></p>"
   ]
  },
  {
   "cell_type": "code",
   "execution_count": null,
   "metadata": {},
   "outputs": [],
   "source": [
    "# read file into dataframe"
   ]
  },
  {
   "cell_type": "code",
   "execution_count": null,
   "metadata": {},
   "outputs": [],
   "source": [
    "#  Look at first 10 and last 10 records"
   ]
  },
  {
   "cell_type": "code",
   "execution_count": null,
   "metadata": {},
   "outputs": [],
   "source": [
    "# compute stats "
   ]
  },
  {
   "cell_type": "code",
   "execution_count": null,
   "metadata": {},
   "outputs": [],
   "source": [
    "# look at columns"
   ]
  },
  {
   "cell_type": "markdown",
   "metadata": {
    "slideshow": {
     "slide_type": "slide"
    }
   },
   "source": [
    "## Statistics"
   ]
  },
  {
   "cell_type": "markdown",
   "metadata": {},
   "source": [
    "<div style=\"border: 1px solid blue; padding: 10px;\">\n",
    "<p><span style=\"font-size: 14pt; color: #e67e23;\">We saw some <strong>statistics</strong> <strong>computed</strong> above, in the <strong>.describe()</strong>, but we can also <strong>calculate</strong> statistics by calling them <strong>individually</strong></span></p>\n",
    "<p><span style=\"color: #e67e23;\"><span style=\"font-size: 18.6667px;\"><strong>Here are the Pandas Stats functions</strong></span></span></p>\n",
    "<p><span style=\"color: #e67e23;\"><span style=\"font-size: 18.6667px;\"><strong>count()<span style=\"white-space: pre;\"> </span></strong>Number of non-null observations</span></span>\n",
    "<br>\n",
    "<span style=\"color: #e67e23;\"><span style=\"font-size: 18.6667px;\"><strong>sum()<span style=\"white-space: pre;\"> </span></strong>Sum of values</span></span>\n",
    "<br>\n",
    "<span style=\"color: #e67e23;\"><span style=\"font-size: 18.6667px;\"><strong>mean()<span style=\"white-space: pre;\"> </span></strong>Mean of Values</span></span>\n",
    "<br>\n",
    "<span style=\"color: #e67e23;\"><span style=\"font-size: 18.6667px;\"><strong>median()<span style=\"white-space: pre;\"> </span></strong>Median of Values</span></span>\n",
    "<br>\n",
    "<span style=\"color: #e67e23;\"><span style=\"font-size: 18.6667px;\"><strong>mode()<span style=\"white-space: pre;\"> </span></strong>Mode of values</span></span>\n",
    "<br>\n",
    "<span style=\"color: #e67e23;\"><span style=\"font-size: 18.6667px;\"><strong>std()<span style=\"white-space: pre;\"> </span></strong>Standard Deviation of the Values</span></span>\n",
    "<br>\n",
    "<span style=\"color: #e67e23;\"><span style=\"font-size: 18.6667px;\"><strong>min()<span style=\"white-space: pre;\"> </span></strong>Minimum Value</span></span>\n",
    "<br>\n",
    "<span style=\"color: #e67e23;\"><span style=\"font-size: 18.6667px;\"><strong>max()<span style=\"white-space: pre;\"> </span></strong>Maximum Value</span></span>\n",
    "<br>\n",
    "<span style=\"color: #e67e23;\"><span style=\"font-size: 18.6667px;\"><strong>abs()<span style=\"white-space: pre;\"> </span></strong>Absolute Value</span></span>\n",
    "<br>\n",
    "<span style=\"color: #e67e23;\"><span style=\"font-size: 18.6667px;\"><strong>prod()<span style=\"white-space: pre;\"> </span></strong>Product of Values</span></span>\n",
    "<br>\n",
    "<span style=\"color: #e67e23;\"><span style=\"font-size: 18.6667px;\"><strong>cumsum()<span style=\"white-space: pre;\"> </span>\n",
    "</strong>Cumulative Sum</span></span>\n",
    "<br>\n",
    "<span style=\"color: #e67e23;\"><span style=\"font-size: 18.6667px;\"><strong>cumprod()<span style=\"white-space: pre;\"> </span></strong>Cumulative Product</span></span>\n",
    "</div>"
   ]
  },
  {
   "cell_type": "code",
   "execution_count": null,
   "metadata": {},
   "outputs": [],
   "source": [
    "# Lets re-read out file, just to be certain!!\n",
    "heart_df = pd.read_csv('data/heart.csv') "
   ]
  },
  {
   "cell_type": "code",
   "execution_count": null,
   "metadata": {
    "slideshow": {
     "slide_type": "slide"
    }
   },
   "outputs": [],
   "source": [
    "# Calculate the mean age, capture it in a variable\n",
    "mean_age = heart_df[\"age\"].mean()\n",
    "print(mean_age)"
   ]
  },
  {
   "cell_type": "code",
   "execution_count": null,
   "metadata": {
    "slideshow": {
     "slide_type": "slide"
    }
   },
   "outputs": [],
   "source": [
    "# Now the min age\n",
    "age_min = heart_df[\"age\"].min()\n",
    "age_min"
   ]
  },
  {
   "cell_type": "code",
   "execution_count": null,
   "metadata": {
    "slideshow": {
     "slide_type": "slide"
    }
   },
   "outputs": [],
   "source": [
    "# Lets compute the max for all the columns in the dataframe\n",
    "heart_df.max()"
   ]
  },
  {
   "cell_type": "code",
   "execution_count": null,
   "metadata": {},
   "outputs": [],
   "source": [
    "## YOUR TURN\n",
    "## Get the mean,min,max,median, sum and standard deviation for the heart_df dataframe for the \"age\" \n",
    "## column and \"chol\" column\n",
    "\n",
    "## Do work below here ... reference the list of methods given above\n"
   ]
  },
  {
   "cell_type": "markdown",
   "metadata": {},
   "source": [
    "<div style=\"border: 1px solid blue; padding: 10px;\">\n",
    "<p><span style=\"font-size: 14pt; color: #e67e23;\">Two things to note from the preceding examples.&nbsp; First, you can call <strong>stats functions</strong> on an <strong>individual column</strong> or the <strong>entire dataframe.</strong>&nbsp;</span></p>\n",
    "<p><span style=\"font-size: 14pt; color: #e67e23;\">Second, note when calling on <strong>all</strong> columns, for functions that <strong>require numbers,</strong> stats will only be computed for <strong>columns</strong> that <strong>are numbers.</strong>&nbsp;</span></p>\n",
    "<p><span style=\"font-size: 14pt; color: #e67e23;\"><strong>Major note</strong>: When reading in data, Pandas <strong>guesses</strong> at the <strong>data type</strong>, and is usually <strong>correct</strong>, however, at times, it can set a column full of <strong>numbers</strong> to an <strong>object</strong> or <strong>string</strong>, and then will <strong>not</strong> <strong>compute</strong> <strong>stats</strong> for it.&nbsp; In these cases, if the <strong>column</strong> really is <strong>numbers</strong>, you will need to <strong>convert</strong> the column to a float or int using <strong><a href=\"https://pandas.pydata.org/docs/reference/api/pandas.DataFrame.astype.html\">.astype()</a></strong></span></p>\n",
    "</div>"
   ]
  },
  {
   "cell_type": "code",
   "execution_count": null,
   "metadata": {
    "slideshow": {
     "slide_type": "slide"
    }
   },
   "outputs": [],
   "source": [
    "# What type is the column?\n",
    "type(heart_df[\"age\"])"
   ]
  },
  {
   "cell_type": "markdown",
   "metadata": {
    "hidden": true,
    "slideshow": {
     "slide_type": "slide"
    }
   },
   "source": [
    "<div style=\"border: 1px solid blue; padding: 10px;\">\n",
    "<p><span style=\"font-size: 14pt; color: #e67e23;\">Both Series and DataFrames have an <em>index</em> as well:</span></p>\n",
    "</div>"
   ]
  },
  {
   "cell_type": "code",
   "execution_count": null,
   "metadata": {
    "hidden": true,
    "slideshow": {
     "slide_type": "-"
    }
   },
   "outputs": [],
   "source": [
    "# Lets see the index for the entire DataFrame\n",
    "heart_df.index"
   ]
  },
  {
   "cell_type": "code",
   "execution_count": null,
   "metadata": {
    "hidden": true,
    "slideshow": {
     "slide_type": "-"
    }
   },
   "outputs": [],
   "source": [
    "# Get the index for an individual Series (column)\n",
    "heart_df[\"age\"].index"
   ]
  },
  {
   "cell_type": "markdown",
   "metadata": {
    "slideshow": {
     "slide_type": "slide"
    }
   },
   "source": [
    "<div style=\"border: 1px solid blue; padding: 10px;\"><span style=\"color: #e67e23;\"><strong>DataFrames</strong> have <strong>columns</strong> - but a <strong>Series</strong> is just a single column, so it <strong>does not</strong> have the <strong>columns</strong> attribute</span>.</div>"
   ]
  },
  {
   "cell_type": "code",
   "execution_count": null,
   "metadata": {
    "slideshow": {
     "slide_type": "fragment"
    }
   },
   "outputs": [],
   "source": [
    "heart_df.columns  # Dataframes have columns\n"
   ]
  },
  {
   "cell_type": "code",
   "execution_count": null,
   "metadata": {
    "scrolled": true,
    "slideshow": {
     "slide_type": "-"
    }
   },
   "outputs": [],
   "source": [
    "heart_df[\"sex\"].columns  # But, Series DO NOT\n",
    "# This will throw an error!"
   ]
  },
  {
   "cell_type": "markdown",
   "metadata": {
    "hidden": true,
    "slideshow": {
     "slide_type": "slide"
    }
   },
   "source": [
    "<div style=\"border: 1px solid blue; padding: 10px;\"><span style=\"font-size: 14pt; color: #e67e23;\"><strong>Pandas</strong> is built on top of <strong>NumPy,</strong> and we can always access the <strong>NumPy array</strong> underlying a DataFrame using the <strong>.values</strong> <strong>attribute</strong></span></div>"
   ]
  },
  {
   "cell_type": "code",
   "execution_count": null,
   "metadata": {
    "hidden": true,
    "scrolled": true,
    "slideshow": {
     "slide_type": "-"
    }
   },
   "outputs": [],
   "source": [
    "# access ALL the values inthe dataframe\n",
    "heart_df.values"
   ]
  },
  {
   "cell_type": "code",
   "execution_count": null,
   "metadata": {},
   "outputs": [],
   "source": [
    "# Access just one column\n",
    "heart_df[\"chol\"].values   # very useful!!"
   ]
  },
  {
   "cell_type": "markdown",
   "metadata": {},
   "source": [
    "<p><span style=\"font-size: 24pt; color: #ba372a;\">More Practice</span></p>\n",
    "<p>&nbsp;</p>"
   ]
  },
  {
   "cell_type": "code",
   "execution_count": null,
   "metadata": {},
   "outputs": [],
   "source": [
    "# Lets re-read the toy dataset\n"
   ]
  },
  {
   "cell_type": "code",
   "execution_count": null,
   "metadata": {},
   "outputs": [],
   "source": [
    "#  Look at the first 5 rows"
   ]
  },
  {
   "cell_type": "code",
   "execution_count": null,
   "metadata": {},
   "outputs": [],
   "source": [
    "# Lets compute some stats!"
   ]
  },
  {
   "cell_type": "markdown",
   "metadata": {
    "slideshow": {
     "slide_type": "slide"
    }
   },
   "source": [
    "<h2 id=\"Enough-With-The-Small-Stuff---Bring-On-Real-Data!\">Enough With The Small Stuff - Bring On Real Data!</h2>\n",
    "<p>Let's access an open data portal and get some real live data!</p>\n",
    "<p>&nbsp;</p>\n",
    "<p><span style=\"font-size: 24pt; color: #ba372a;\">Your Turn</span></p>"
   ]
  },
  {
   "cell_type": "markdown",
   "metadata": {
    "slideshow": {
     "slide_type": "-"
    }
   },
   "source": [
    "Austin Animal Center Intake Data: https://data.austintexas.gov/Health-and-Community-Services/Austin-Animal-Center-Intakes/wter-evkm/"
   ]
  },
  {
   "cell_type": "code",
   "execution_count": null,
   "metadata": {
    "slideshow": {
     "slide_type": "slide"
    }
   },
   "outputs": [],
   "source": [
    "# Accessing a CSV from a URL!\n",
    "intakes_url = pd.read_csv('https://data.austintexas.gov/resource/wter-evkm.csv')\n",
    "#intakes_url.head()"
   ]
  },
  {
   "cell_type": "code",
   "execution_count": null,
   "metadata": {
    "slideshow": {
     "slide_type": "slide"
    }
   },
   "outputs": [],
   "source": [
    "# Same as the JSON output from this API endpoint, but different levels of detail for dates!\n",
    "pd.read_json('https://data.austintexas.gov/resource/wter-evkm.json').head()"
   ]
  },
  {
   "cell_type": "code",
   "execution_count": null,
   "metadata": {
    "slideshow": {
     "slide_type": "slide"
    }
   },
   "outputs": [],
   "source": [
    "# But this is only 1000 rows... website says there's 136K rows!\n",
    "intakes_url.shape"
   ]
  },
  {
   "cell_type": "code",
   "execution_count": null,
   "metadata": {
    "slideshow": {
     "slide_type": "fragment"
    }
   },
   "outputs": [],
   "source": [
    "# It's a limitation of the API - let's just download the data instead\n",
    "# It's in the data folder\n",
    "df = pd.read_csv('data/Austin_Animal_Center_Intakes-clean-year.csv')"
   ]
  },
  {
   "cell_type": "code",
   "execution_count": null,
   "metadata": {
    "slideshow": {
     "slide_type": "slide"
    }
   },
   "outputs": [],
   "source": [
    "# Now let's explore those earlier attributes and methods on this dataset!\n",
    "# Check the first 5 rows\n"
   ]
  },
  {
   "cell_type": "code",
   "execution_count": null,
   "metadata": {
    "scrolled": true,
    "slideshow": {
     "slide_type": "slide"
    }
   },
   "outputs": [],
   "source": [
    "# Check the last 5 rows\n"
   ]
  },
  {
   "cell_type": "code",
   "execution_count": null,
   "metadata": {
    "slideshow": {
     "slide_type": "slide"
    }
   },
   "outputs": [],
   "source": [
    "# Check the shape\n"
   ]
  },
  {
   "cell_type": "code",
   "execution_count": null,
   "metadata": {
    "slideshow": {
     "slide_type": "slide"
    }
   },
   "outputs": [],
   "source": [
    "# Check the datatypes\n"
   ]
  },
  {
   "cell_type": "code",
   "execution_count": null,
   "metadata": {
    "slideshow": {
     "slide_type": "slide"
    }
   },
   "outputs": [],
   "source": [
    "# Check more general information on the dataframe\n"
   ]
  },
  {
   "cell_type": "code",
   "execution_count": null,
   "metadata": {
    "slideshow": {
     "slide_type": "slide"
    }
   },
   "outputs": [],
   "source": [
    "# Check summary/descriptive statistics on the dataframe\n"
   ]
  },
  {
   "cell_type": "markdown",
   "metadata": {
    "slideshow": {
     "slide_type": "-"
    }
   },
   "source": [
    "#### Any Observations?\n",
    "\n",
    "- Just shows the 'Year' column - it's the only numeric column!"
   ]
  },
  {
   "cell_type": "code",
   "execution_count": null,
   "metadata": {
    "slideshow": {
     "slide_type": "slide"
    }
   },
   "outputs": [],
   "source": [
    "# We can run describe on just the string columns! Gives a different kind of output\n",
    "df.describe(include=[object])"
   ]
  },
  {
   "cell_type": "markdown",
   "metadata": {
    "slideshow": {
     "slide_type": "-"
    }
   },
   "source": [
    "<div style=\"border: 1px solid blue; padding: 10px;\">\n",
    "<h4 id=\"Any-Observations?\"><span style=\"font-size: 14pt; color: #e67e23;\">Any Observations?</span></h4>\n",
    "<ul>\n",
    "<li><span style=\"font-size: 14pt; color: #e67e23;\">Can see non-null counts, number of uniques, plus the most frequent and how frequent it is</span></li>\n",
    "<li><span style=\"font-size: 14pt; color: #e67e23;\">Showcases the different kind of useful data you can explore when it's object vs numeric columns</span></li>\n",
    "</ul>\n",
    "</div>"
   ]
  },
  {
   "cell_type": "markdown",
   "metadata": {
    "heading_collapsed": true,
    "slideshow": {
     "slide_type": "slide"
    }
   },
   "source": [
    "## Adding to a DataFrame"
   ]
  },
  {
   "cell_type": "markdown",
   "metadata": {
    "heading_collapsed": true,
    "hidden": true,
    "slideshow": {
     "slide_type": "slide"
    }
   },
   "source": [
    "### Adding Rows"
   ]
  },
  {
   "cell_type": "markdown",
   "metadata": {
    "hidden": true,
    "slideshow": {
     "slide_type": "-"
    }
   },
   "source": [
    "<div style=\"border: 1px solid blue; padding: 10px;\">\n",
    "<p><span style=\"font-size: 14pt; color: #e67e23;\">We have a <strong>new</strong> animal coming in, captured here in a Python <strong>dictionary</strong>:</span></p>\n",
    "</div>"
   ]
  },
  {
   "cell_type": "code",
   "execution_count": null,
   "metadata": {
    "hidden": true,
    "slideshow": {
     "slide_type": "slide"
    }
   },
   "outputs": [],
   "source": [
    "# Dictionary, where keys match the column names and values are the row values\n",
    "# Note that the values are list-like - you could easily add more rows by adding to the lists!\n",
    "next_row = {\n",
    "    'Animal ID': ['A851755'],\n",
    "    'Name': [\"T'Challa\"],\n",
    "    'DateTime': ['2/28/2022 11:25:00 AM'],\n",
    "    'Year': [2022],\n",
    "    'Found Location': ['Houston (TX)'],\n",
    "    'Intake Type': ['Public Assist'],\n",
    "    'Intake Condition': ['Normal'],\n",
    "    'Animal Type': ['Cat'],\n",
    "    'Sex upon Intake': ['Neutered Male'],\n",
    "    'Age upon Intake': ['4 years'],\n",
    "    'Breed': ['Domestic Shorthair'],\n",
    "    'Color': ['Black']\n",
    "}\n",
    "next_row"
   ]
  },
  {
   "cell_type": "markdown",
   "metadata": {
    "hidden": true,
    "slideshow": {
     "slide_type": "slide"
    }
   },
   "source": [
    "How can we add this to the bottom of our dataset?"
   ]
  },
  {
   "cell_type": "code",
   "execution_count": null,
   "metadata": {
    "hidden": true,
    "slideshow": {
     "slide_type": "-"
    }
   },
   "outputs": [],
   "source": [
    "# Let's first turn this into a DataFrame.\n",
    "# We can use the .from_dict() method.\n",
    "\n",
    "new_animal = pd.DataFrame.from_dict(next_row)\n",
    "new_animal "
   ]
  },
  {
   "cell_type": "code",
   "execution_count": null,
   "metadata": {
    "hidden": true,
    "slideshow": {
     "slide_type": "slide"
    }
   },
   "outputs": [],
   "source": [
    "# Now we just need to concatenate the two DataFrames together.\n",
    "# Note the `ignore_index` parameter! We'll set that to True.\n",
    "\n",
    "df_augmented = pd.concat([df, new_animal],\n",
    "                         ignore_index=True)"
   ]
  },
  {
   "cell_type": "code",
   "execution_count": null,
   "metadata": {
    "hidden": true,
    "slideshow": {
     "slide_type": "-"
    }
   },
   "outputs": [],
   "source": [
    "# Let's check the end to make sure we were successful!\n",
    "df_augmented.tail()"
   ]
  },
  {
   "cell_type": "markdown",
   "metadata": {
    "heading_collapsed": true,
    "hidden": true,
    "slideshow": {
     "slide_type": "slide"
    }
   },
   "source": [
    "### Adding (and Deleting) Columns"
   ]
  },
  {
   "cell_type": "markdown",
   "metadata": {
    "hidden": true,
    "slideshow": {
     "slide_type": "slide"
    }
   },
   "source": [
    "<div style=\"border: 1px solid blue; padding: 10px;\">\n",
    "<p><span style=\"color: #e67e23; font-size: 14pt;\"><strong>Adding</strong> a <strong>column</strong> is very <strong>easy</strong> in <code>pandas</code>. Let's add a new column to our dataset called \"test\", and set all of its values to 0.</span></p>\n",
    "</div>"
   ]
  },
  {
   "cell_type": "code",
   "execution_count": null,
   "metadata": {},
   "outputs": [],
   "source": [
    "df_augmented.head()"
   ]
  },
  {
   "cell_type": "code",
   "execution_count": null,
   "metadata": {
    "hidden": true,
    "slideshow": {
     "slide_type": "-"
    }
   },
   "outputs": [],
   "source": [
    "# Create a new column, 'test', where every value in the col is None\n",
    "df_augmented['test'] = None"
   ]
  },
  {
   "cell_type": "code",
   "execution_count": null,
   "metadata": {
    "hidden": true,
    "slideshow": {
     "slide_type": "slide"
    }
   },
   "outputs": [],
   "source": [
    "# Sanity check\n",
    "df_augmented.head()  "
   ]
  },
  {
   "cell_type": "markdown",
   "metadata": {
    "slideshow": {
     "slide_type": "slide"
    }
   },
   "source": [
    "But we don't need that - let's drop that column."
   ]
  },
  {
   "cell_type": "code",
   "execution_count": null,
   "metadata": {
    "slideshow": {
     "slide_type": "-"
    }
   },
   "outputs": [],
   "source": [
    "# Drop that test column\n",
    "df_augmented = df_augmented.drop(columns=['test'])"
   ]
  },
  {
   "cell_type": "code",
   "execution_count": null,
   "metadata": {
    "slideshow": {
     "slide_type": "slide"
    }
   },
   "outputs": [],
   "source": [
    "# Sanity check\n",
    "df_augmented.head()"
   ]
  },
  {
   "cell_type": "markdown",
   "metadata": {
    "hidden": true,
    "slideshow": {
     "slide_type": "slide"
    }
   },
   "source": [
    "We can also do math with columns, or use mathematical notation to combine columns even when they aren't numerical!\n",
    "\n",
    "We don't have any numeric data in this current dataset. But we can still create a combined \"Type\" column that combines the values of our Intake Type and Animal Type columns."
   ]
  },
  {
   "cell_type": "code",
   "execution_count": null,
   "metadata": {
    "hidden": true,
    "slideshow": {
     "slide_type": "-"
    }
   },
   "outputs": [],
   "source": [
    "# Create a new column, 'Type', from the two 'Type' columns\n",
    "df_augmented['Type'] = df_augmented['Intake Type'] + \" \" + df_augmented['Animal Type'] "
   ]
  },
  {
   "cell_type": "code",
   "execution_count": null,
   "metadata": {
    "hidden": true,
    "slideshow": {
     "slide_type": "slide"
    }
   },
   "outputs": [],
   "source": [
    "# Sanity check \n",
    "df_augmented.head()"
   ]
  },
  {
   "cell_type": "markdown",
   "metadata": {
    "heading_collapsed": true,
    "slideshow": {
     "slide_type": "slide"
    }
   },
   "source": [
    "## Filtering"
   ]
  },
  {
   "cell_type": "markdown",
   "metadata": {
    "hidden": true,
    "slideshow": {
     "slide_type": "slide"
    }
   },
   "source": [
    "<div style=\"border: 1px solid blue; padding: 10px;\">\n",
    "<p><span style=\"font-size: 14pt; color: #e67e23;\">We can use <strong>filtering techniques</strong> to see only <strong>certain rows</strong> of our data. Let's look at only animals taken into the center during or after 2020:</span></p>\n",
    "<p>&nbsp;</p>\n",
    "<p><span style=\"font-size: 14pt; color: #e67e23;\">There are <strong>multiple techniques</strong> for <strong>filtering...</strong>&nbsp;</span></p>\n",
    "<p><span style=\"font-size: 14pt; color: #e67e23;\">.loc[] is more current</span></p>\n",
    "</div>"
   ]
  },
  {
   "cell_type": "code",
   "execution_count": null,
   "metadata": {
    "slideshow": {
     "slide_type": "-"
    }
   },
   "outputs": [],
   "source": [
    "# Check which rows have an intake year greater than or equal to 2020\n",
    "df_augmented['Year'] >= 2020"
   ]
  },
  {
   "cell_type": "code",
   "execution_count": null,
   "metadata": {
    "hidden": true,
    "slideshow": {
     "slide_type": "slide"
    }
   },
   "outputs": [],
   "source": [
    "# Let's explore an interesting property of boolean columns...\n",
    "# Find out the total sum of animals taken in during or after 2020..i.e. the total number of rows \n",
    "sum(df_augmented['Year'] >= 2020)"
   ]
  },
  {
   "cell_type": "markdown",
   "metadata": {
    "slideshow": {
     "slide_type": "fragment"
    }
   },
   "source": [
    "<div style=\"border: 1px solid blue; padding: 10px;\">\n",
    "<p><span style=\"font-size: 14pt; color: #e67e23;\">But this only gives us True/False outputs... what if we want to really filter?</span></p>\n",
    "</div>"
   ]
  },
  {
   "cell_type": "markdown",
   "metadata": {
    "heading_collapsed": true,
    "hidden": true,
    "slideshow": {
     "slide_type": "slide"
    }
   },
   "source": [
    "### `.loc` "
   ]
  },
  {
   "cell_type": "markdown",
   "metadata": {
    "hidden": true,
    "slideshow": {
     "slide_type": "slide"
    }
   },
   "source": [
    "<div style=\"border: 1px solid blue; padding: 10px;\">\n",
    "<p><span style=\"font-size: 14pt; color: #e67e23;\">We can locate and segment down to only rows where some condition is true using <code>.loc</code>. This takes in a condition, and only outputs the rows where that condition is True!</span></p>\n",
    "<blockquote>\n",
    "<p><span style=\"font-size: 14pt; color: #e67e23;\"><strong>Note:</strong> locate (<code>.loc</code>) uses square brackets, not parentheses! Often, square brackets denote location-focused actions, like this one.</span></p>\n",
    "</blockquote>\n",
    "<ul>\n",
    "<li><span style=\"font-size: 14pt; color: #e67e23;\">df.loc[row,[columns]]</span></li>\n",
    "</ul>\n",
    "<p><span style=\"font-size: 14pt; color: #e67e23;\">Let's try this first with the condition we just built, and locate all animals taken in during or after 2020.</span></p>\n",
    "</div>"
   ]
  },
  {
   "cell_type": "code",
   "execution_count": null,
   "metadata": {
    "hidden": true,
    "slideshow": {
     "slide_type": "slide"
    }
   },
   "outputs": [],
   "source": [
    "# Create a subset dataframe of animals taken in during or after 2020\n",
    "subset_2020 = df_augmented.loc[df_augmented['Year'] >= 2020]"
   ]
  },
  {
   "cell_type": "code",
   "execution_count": null,
   "metadata": {
    "slideshow": {
     "slide_type": "-"
    }
   },
   "outputs": [],
   "source": [
    "subset_2020.shape\n",
    "subset_2020.head()"
   ]
  },
  {
   "cell_type": "markdown",
   "metadata": {
    "slideshow": {
     "slide_type": "slide"
    }
   },
   "source": [
    "<div style=\"border: 1px solid blue; padding: 10px;\">\n",
    "<p><span style=\"font-size: 14pt; color: #e67e23;\">We can <strong>select</strong> certain <strong>columns</strong> when we do this, by adding an <strong>argument after</strong> the <strong>condition:</strong></span></p>\n",
    "</div>"
   ]
  },
  {
   "cell_type": "code",
   "execution_count": null,
   "metadata": {
    "hidden": true,
    "slideshow": {
     "slide_type": "-"
    }
   },
   "outputs": [],
   "source": [
    "# Let's return just the 'Animal ID', 'DateTime' and 'Type' columns\n",
    "df_augmented.loc[df_augmented['Year'] >= 2020, ['Animal ID', 'DateTime', 'Type']]\n",
    "\n",
    "# df.loc[row,[columns]]"
   ]
  },
  {
   "cell_type": "markdown",
   "metadata": {
    "hidden": true,
    "slideshow": {
     "slide_type": "slide"
    }
   },
   "source": [
    "<div style=\"border: 1px solid blue; padding: 10px;\">\n",
    "<p><span style=\"font-size: 14pt; color: #e67e23;\">What if I want to segment using <strong>multiple conditions?</strong> Use <strong><code>&amp;</code></strong> for \"and\" and <strong><code>|</code></strong> for \"or\" - and use <strong>parentheses</strong> around <strong>individual conditions</strong>!</span></p>\n",
    "</div>"
   ]
  },
  {
   "cell_type": "code",
   "execution_count": null,
   "metadata": {
    "slideshow": {
     "slide_type": "fragment"
    }
   },
   "outputs": [],
   "source": [
    "# Find all the Stray Cats taken in during or after 2020\n",
    "df_augmented.loc[(df_augmented['Year'] >= 2020) & (df_augmented['Type'] == 'Stray Cat'),[\"Year\",\"Type\"]]"
   ]
  },
  {
   "cell_type": "markdown",
   "metadata": {
    "slideshow": {
     "slide_type": "slide"
    }
   },
   "source": [
    "<h2 id=\"Your-turn!\">Our turn!</h2>"
   ]
  },
  {
   "cell_type": "markdown",
   "metadata": {
    "slideshow": {
     "slide_type": "slide"
    }
   },
   "source": [
    "### Exercise 1\n",
    "\n",
    "You need to find dogs that need extra attention - How would you find all dogs where the intake condition is NOT normal?"
   ]
  },
  {
   "cell_type": "code",
   "execution_count": null,
   "metadata": {
    "slideshow": {
     "slide_type": "-"
    }
   },
   "outputs": [],
   "source": [
    "# Your code here"
   ]
  },
  {
   "cell_type": "markdown",
   "metadata": {
    "slideshow": {
     "slide_type": "slide"
    }
   },
   "source": [
    "### Exercise 2\n",
    "\n",
    "You need to find animals that might need to be fixed - How would you find all animals that are either Intact Male or Intact Female?"
   ]
  },
  {
   "cell_type": "code",
   "execution_count": null,
   "metadata": {
    "slideshow": {
     "slide_type": "-"
    }
   },
   "outputs": [],
   "source": [
    "# Your code here "
   ]
  },
  {
   "cell_type": "markdown",
   "metadata": {
    "slideshow": {
     "slide_type": "slide"
    }
   },
   "source": [
    "### `.iloc`"
   ]
  },
  {
   "cell_type": "markdown",
   "metadata": {
    "hidden": true,
    "slideshow": {
     "slide_type": "slide"
    }
   },
   "source": [
    "<div style=\"border: 1px solid blue; padding: 10px;\">\n",
    "<p><strong><code><span style=\"font-size: 14pt; color: #e67e23;\">.iloc[]</span></code></strong><span style=\"font-size: 14pt; color: #e67e23;\"><strong> </strong>is used for <strong>integer-location based indexing</strong>, aka locate by number. It can take in lists of numbers, python slices, or specific numbers - but sometimes it can be a bit tricky!</span></p>\n",
    "</div>"
   ]
  },
  {
   "cell_type": "code",
   "execution_count": null,
   "metadata": {
    "hidden": true,
    "slideshow": {
     "slide_type": "-"
    }
   },
   "outputs": [],
   "source": [
    "# Find the first 3 rows\n",
    "df_augmented.iloc[:3]"
   ]
  },
  {
   "cell_type": "code",
   "execution_count": null,
   "metadata": {
    "hidden": true,
    "slideshow": {
     "slide_type": "-"
    }
   },
   "outputs": [],
   "source": [
    "# Same as using head(3)\n",
    "df_augmented.head(3)"
   ]
  },
  {
   "cell_type": "code",
   "execution_count": null,
   "metadata": {
    "slideshow": {
     "slide_type": "slide"
    }
   },
   "outputs": [],
   "source": [
    "# Can look exactly where the 0 index is\n",
    "df_augmented.iloc[0]"
   ]
  },
  {
   "cell_type": "code",
   "execution_count": null,
   "metadata": {
    "slideshow": {
     "slide_type": "slide"
    }
   },
   "outputs": [],
   "source": [
    "# But what about our subset dataframe above? It doesn't have an index 0\n",
    "subset_2020.head()"
   ]
  },
  {
   "cell_type": "code",
   "execution_count": null,
   "metadata": {
    "slideshow": {
     "slide_type": "slide"
    }
   },
   "outputs": [],
   "source": [
    "# Try it...\n",
    "subset_2020.iloc[0] "
   ]
  },
  {
   "cell_type": "markdown",
   "metadata": {
    "heading_collapsed": true,
    "slideshow": {
     "slide_type": "slide"
    }
   },
   "source": [
    "## Series Methods"
   ]
  },
  {
   "cell_type": "markdown",
   "metadata": {
    "heading_collapsed": true,
    "hidden": true,
    "slideshow": {
     "slide_type": "slide"
    }
   },
   "source": [
    "### `.value_counts()`"
   ]
  },
  {
   "cell_type": "markdown",
   "metadata": {
    "hidden": true,
    "slideshow": {
     "slide_type": "-"
    }
   },
   "source": [
    "<div style=\"border: 1px solid blue; padding: 10px;\">\n",
    "<p><span style=\"font-size: 14pt; color: #e67e23;\"><strong>How many</strong> different <strong>values</strong> does the Animal Type column have? What about Breed?</span></p>\n",
    "</div>"
   ]
  },
  {
   "cell_type": "code",
   "execution_count": null,
   "metadata": {
    "scrolled": true,
    "slideshow": {
     "slide_type": "-"
    }
   },
   "outputs": [],
   "source": [
    "# Check the value counts for Animal Type\n",
    "df_augmented['Animal Type'].value_counts() "
   ]
  },
  {
   "cell_type": "code",
   "execution_count": null,
   "metadata": {
    "hidden": true,
    "scrolled": true,
    "slideshow": {
     "slide_type": "slide"
    }
   },
   "outputs": [],
   "source": [
    "# Now check Breed\n",
    "df_augmented['Breed'].value_counts() "
   ]
  },
  {
   "cell_type": "markdown",
   "metadata": {
    "slideshow": {
     "slide_type": "slide"
    }
   },
   "source": [
    "<div style=\"border: 1px solid blue; padding: 10px;\">\n",
    "<p><span style=\"font-size: 14pt; color: #e67e23;\">Sometimes, this is more useful than others... but, can check the <strong>percentage</strong> of the <strong>total,</strong> which might be more useful!</span></p>\n",
    "</div>"
   ]
  },
  {
   "cell_type": "code",
   "execution_count": null,
   "metadata": {
    "slideshow": {
     "slide_type": "-"
    }
   },
   "outputs": [],
   "source": [
    "# Use the normalize argument to change how the count is displayed\n",
    "df_augmented['Breed'].value_counts(normalize=True)"
   ]
  },
  {
   "cell_type": "markdown",
   "metadata": {
    "heading_collapsed": true,
    "hidden": true,
    "slideshow": {
     "slide_type": "slide"
    }
   },
   "source": [
    "<h3 id=\".sort_values()\"><code>.sort_values()</code></h3>"
   ]
  },
  {
   "cell_type": "markdown",
   "metadata": {},
   "source": [
    "<div style=\"border: 1px solid blue; padding: 10px;\">\n",
    "<p><span style=\"font-size: 14pt; color: #e67e23;\">As you can imagine, this works <strong>differently</strong> whether you're using it on a <strong>numeric</strong> or <strong>non-numeric</strong> column</span></p>\n",
    "</div>"
   ]
  },
  {
   "cell_type": "code",
   "execution_count": null,
   "metadata": {
    "hidden": true,
    "slideshow": {
     "slide_type": "-"
    }
   },
   "outputs": [],
   "source": [
    "# Let's sort the year column\n",
    "df_augmented['Year'].sort_values(ascending=False)"
   ]
  },
  {
   "cell_type": "code",
   "execution_count": null,
   "metadata": {
    "slideshow": {
     "slide_type": "slide"
    }
   },
   "outputs": [],
   "source": [
    "# Now, sort the Animal Type col\n",
    "df_augmented['Animal Type'].sort_values()"
   ]
  },
  {
   "cell_type": "code",
   "execution_count": null,
   "metadata": {
    "slideshow": {
     "slide_type": "slide"
    }
   },
   "outputs": [],
   "source": [
    "# We can do this on the whole dataframe, it just needs to know what to sort by\n",
    "df_augmented.sort_values(by='Animal Type',ascending=False)"
   ]
  },
  {
   "cell_type": "markdown",
   "metadata": {},
   "source": [
    "<p><span style=\"font-size: 18pt; color: #e67e23;\">More Practice?</span></p>"
   ]
  },
  {
   "cell_type": "code",
   "execution_count": null,
   "metadata": {},
   "outputs": [],
   "source": []
  },
  {
   "cell_type": "markdown",
   "metadata": {
    "slideshow": {
     "slide_type": "slide"
    }
   },
   "source": [
    "<img src=\"images/red.jfif\">"
   ]
  },
  {
   "cell_type": "markdown",
   "metadata": {
    "slideshow": {
     "slide_type": "slide"
    }
   },
   "source": [
    "Great Job... You are on your way to being Kung Foo Pandas!\n",
    "<img src=\"images/pandas3.jpeg\">"
   ]
  },
  {
   "cell_type": "markdown",
   "metadata": {
    "heading_collapsed": true
   },
   "source": [
    "# Extra Credit: Find a .csv file online and experiment with it."
   ]
  },
  {
   "cell_type": "markdown",
   "metadata": {
    "hidden": true
   },
   "source": [
    "Head to [dataportals.org](https://dataportals.org) to find a .csv file."
   ]
  },
  {
   "cell_type": "code",
   "execution_count": null,
   "metadata": {
    "hidden": true
   },
   "outputs": [],
   "source": []
  }
 ],
 "metadata": {
  "celltoolbar": "Slideshow",
  "kernelspec": {
   "display_name": "Python 3 (ipykernel)",
   "language": "python",
   "name": "python3"
  },
  "language_info": {
   "codemirror_mode": {
    "name": "ipython",
    "version": 3
   },
   "file_extension": ".py",
   "mimetype": "text/x-python",
   "name": "python",
   "nbconvert_exporter": "python",
   "pygments_lexer": "ipython3",
   "version": "3.9.13"
  },
  "toc": {
   "base_numbering": 1,
   "nav_menu": {},
   "number_sections": true,
   "sideBar": true,
   "skip_h1_title": false,
   "title_cell": "Table of Contents",
   "title_sidebar": "Contents",
   "toc_cell": true,
   "toc_position": {
    "height": "calc(100% - 180px)",
    "left": "10px",
    "top": "150px",
    "width": "192px"
   },
   "toc_section_display": true,
   "toc_window_display": true
  },
  "toc-autonumbering": false,
  "toc-showcode": false,
  "toc-showmarkdowntxt": false,
  "varInspector": {
   "cols": {
    "lenName": 16,
    "lenType": 16,
    "lenVar": 40
   },
   "kernels_config": {
    "python": {
     "delete_cmd_postfix": "",
     "delete_cmd_prefix": "del ",
     "library": "var_list.py",
     "varRefreshCmd": "print(var_dic_list())"
    },
    "r": {
     "delete_cmd_postfix": ") ",
     "delete_cmd_prefix": "rm(",
     "library": "var_list.r",
     "varRefreshCmd": "cat(var_dic_list()) "
    }
   },
   "types_to_exclude": [
    "module",
    "function",
    "builtin_function_or_method",
    "instance",
    "_Feature"
   ],
   "window_display": false
  }
 },
 "nbformat": 4,
 "nbformat_minor": 4
}
