{
 "cells": [
  {
   "cell_type": "markdown",
   "id": "471218da-5111-4e3c-920a-b626b9cfbba2",
   "metadata": {
    "tags": []
   },
   "source": [
    "<h1>Files</h1>"
   ]
  },
  {
   "cell_type": "markdown",
   "id": "d647ce76-ad18-4304-b2a7-747150d76202",
   "metadata": {},
   "source": [
    "<p><span style=\"font-size: 14pt; color: #169179;\">The central role of <strong>Data Analyst </strong>and <strong>Data Scientists</strong> is working with <strong>data</strong>, and there are many ways to bring data into Python&nbsp; so we can work with it.&nbsp; You will rely heavily on Pandas, which will be covered later.&nbsp; However, there will be times when you need to work with data files <strong>directly</strong> in <strong>Python</strong>, so we will cover a few ideas here</span></p>"
   ]
  },
  {
   "cell_type": "markdown",
   "id": "820cfaf7-735b-4262-ae84-dc83299baac1",
   "metadata": {},
   "source": [
    "<div style=\"border: 1px solid blue; padding: 10px;\">\n",
    "<p><span style=\"font-size: 14pt; color: #169179;\">We will be the <em>with </em>statement<em>&nbsp;</em>and&nbsp;<em>open </em>function to work with flat files (i.e. text files)</span></p>\n",
    "<p><span style=\"font-size: 14pt; color: #169179;\"><a href=\"https://www.geeksforgeeks.org/with-statement-in-python/\" target=\"_blank\" rel=\"noopener\">with</a>&nbsp; &nbsp;some info&nbsp;</span></p>\n",
    "<p><span style=\"font-size: 14pt; color: #169179;\"><a href=\"https://builtin.com/software-engineering-perspectives/what-is-with-statement-python\" target=\"_blank\" rel=\"noopener\">with</a>&nbsp; &nbsp;some more info</span></p>\n",
    "<p><span style=\"font-size: 14pt; color: #169179;\"><a href=\"https://www.w3schools.com/python/ref_func_open.asp\" target=\"_blank\" rel=\"noopener\">open()</a></span></p>\n",
    "</div>"
   ]
  },
  {
   "cell_type": "code",
   "execution_count": 2,
   "id": "d0181b2e-c4b2-4765-b421-7fc2bd192fcf",
   "metadata": {},
   "outputs": [],
   "source": [
    "# import required libraries\n",
    "import csv"
   ]
  },
  {
   "cell_type": "code",
   "execution_count": null,
   "id": "372fd6ea-c1c5-45de-b0b6-8da236bbf7ef",
   "metadata": {},
   "outputs": [],
   "source": [
    "#  T his is one way to read a file... this reads the entire content of the input file into a list, which means into memory \n",
    "\n",
    "with open('data/debug.log',\"r\") as f:    # open the data file\n",
    "    lines = f.readlines()                          #  read all the data in the file and store it in a list\n",
    "lines                                                      # take a look at what we read "
   ]
  },
  {
   "cell_type": "code",
   "execution_count": 9,
   "id": "3737897d-8ec1-4a6c-bffd-19ea81ffffaa",
   "metadata": {},
   "outputs": [
    {
     "name": "stdout",
     "output_type": "stream",
     "text": [
      "[0212/214605.622:INFO:CONSOLE(31)] \"Uncaught TypeError: Cannot read property 'ticket' of undefined\", source: https://ubistatic2-a.akamaihd.net/uplay-connect/v3/prod/default/sdk/connectSdkPublic.js?ver=6.1.1 (31)\n",
      "\n",
      "[0212/214623.637:ERROR:cache_util_win.cc(21)] Unable to move the cache: The system cannot find the file specified. (0x2)\n",
      "\n",
      "[0212/214623.637:ERROR:cache_util.cc(141)] Unable to move cache folder GPUCache to old_GPUCache_000\n",
      "\n",
      "[0212/214623.637:ERROR:disk_cache.cc(178)] Unable to create cache\n",
      "\n",
      "[0212/214623.637:ERROR:shader_disk_cache.cc(605)] Shader Cache Creation failed: -2\n",
      "\n",
      "[0212/214628.230:INFO:CONSOLE(31)] \"Uncaught TypeError: Cannot read property 'ticket' of undefined\", source: https://ubistatic2-a.akamaihd.net/uplay-connect/v3/prod/default/sdk/connectSdkPublic.js?ver=6.1.1 (31)\n",
      "\n",
      "[0212/214631.050:ERROR:cache_util_win.cc(21)] Unable to move the cache: The system cannot find the file specified. (0x2)\n",
      "\n",
      "[0212/214631.050:ERROR:cache_util.cc(141)] Unable to move cache folder GPUCache to old_GPUCache_000\n",
      "\n",
      "[0212/214631.050:ERROR:disk_cache.cc(178)] Unable to create cache\n",
      "\n",
      "[0212/214631.050:ERROR:shader_disk_cache.cc(605)] Shader Cache Creation failed: -2\n",
      "\n",
      "[0212/214635.857:INFO:CONSOLE(31)] \"Uncaught TypeError: Cannot read property 'ticket' of undefined\", source: https://ubistatic2-a.akamaihd.net/uplay-connect/v3/prod/default/sdk/connectSdkPublic.js?ver=6.1.1 (31)\n",
      "\n",
      "[0212/214729.252:ERROR:cache_util_win.cc(21)] Unable to move the cache: The system cannot find the file specified. (0x2)\n",
      "\n",
      "[0212/214729.252:ERROR:cache_util.cc(141)] Unable to move cache folder GPUCache to old_GPUCache_000\n",
      "\n",
      "[0212/214729.252:ERROR:disk_cache.cc(178)] Unable to create cache\n",
      "\n",
      "[0212/214729.252:ERROR:shader_disk_cache.cc(605)] Shader Cache Creation failed: -2\n",
      "\n",
      "[0212/214729.337:ERROR:cache_util_win.cc(21)] Unable to move the cache: The system cannot find the file specified. (0x2)\n",
      "\n",
      "[0212/214729.337:ERROR:cache_util.cc(141)] Unable to move cache folder GPUCache to old_GPUCache_000\n",
      "\n",
      "[0212/214729.337:ERROR:disk_cache.cc(178)] Unable to create cache\n",
      "\n",
      "[0212/214729.337:ERROR:shader_disk_cache.cc(605)] Shader Cache Creation failed: -2\n",
      "\n",
      "[0212/214734.528:INFO:CONSOLE(31)] \"Uncaught TypeError: Cannot read property 'ticket' of undefined\", source: https://ubistatic2-a.akamaihd.net/uplay-connect/v3/prod/default/sdk/connectSdkPublic.js?ver=6.1.1 (31)\n",
      "\n",
      "[0212/214734.532:INFO:CONSOLE(31)] \"Uncaught TypeError: Cannot read property 'ticket' of undefined\", source: https://ubistatic2-a.akamaihd.net/uplay-connect/v3/prod/default/sdk/connectSdkPublic.js?ver=6.1.1 (31)\n",
      "\n",
      "[0212/214904.771:INFO:CONSOLE(31)] \"Uncaught TypeError: Cannot read property 'ticket' of undefined\", source: https://ubistatic2-a.akamaihd.net/uplay-connect/v3/prod/default/sdk/connectSdkPublic.js?ver=6.1.1 (31)\n",
      "\n",
      "[0212/214912.258:INFO:CONSOLE(31)] \"Uncaught TypeError: Cannot read property 'ticket' of undefined\", source: https://ubistatic2-a.akamaihd.net/uplay-connect/v3/prod/default/sdk/connectSdkPublic.js?ver=6.1.1 (31)\n",
      "\n",
      "[0212/215006.896:INFO:CONSOLE(31)] \"Uncaught TypeError: Cannot read property 'ticket' of undefined\", source: https://ubistatic2-a.akamaihd.net/uplay-connect/v3/prod/default/sdk/connectSdkPublic.js?ver=6.1.1 (31)\n",
      "\n"
     ]
    }
   ],
   "source": [
    "#  If the file size is too large, you can parse the file 1 line at a time.  \n",
    "# This will be slower, but may be necessary for large data files that are too large for memory\n",
    "found = []\n",
    "with open('data/debug.log',\"r\") as f:    # open data file\n",
    "     for line in f:                                     # read file 1 line at a time\n",
    "            if \"error\"  in line.lower():         # search for lines with error in them... convert input record to all lower case so case is not an issue\n",
    "                print(line)\n",
    "                found.append(line)              # add lines with error in them to a list for processing later"
   ]
  },
  {
   "cell_type": "code",
   "execution_count": 13,
   "id": "d0463081-00cb-4649-aae2-b14b2428ef3c",
   "metadata": {},
   "outputs": [
    {
     "data": {
      "text/plain": [
       "['[0212/214605.622:INFO:CONSOLE(31)] \"Uncaught TypeError: Cannot read property \\'ticket\\' of undefined\", source: https://ubistatic2-a.akamaihd.net/uplay-connect/v3/prod/default/sdk/connectSdkPublic.js?ver=6.1.1 (31)\\n',\n",
       " '[0212/214623.637:ERROR:cache_util_win.cc(21)] Unable to move the cache: The system cannot find the file specified. (0x2)\\n',\n",
       " '[0212/214623.637:ERROR:cache_util.cc(141)] Unable to move cache folder GPUCache to old_GPUCache_000\\n',\n",
       " '[0212/214623.637:ERROR:disk_cache.cc(178)] Unable to create cache\\n']"
      ]
     },
     "execution_count": 13,
     "metadata": {},
     "output_type": "execute_result"
    }
   ],
   "source": [
    "found[0:4]"
   ]
  },
  {
   "cell_type": "code",
   "execution_count": 20,
   "id": "9d9baa1d-4498-46ed-ab12-9c416993f0ee",
   "metadata": {},
   "outputs": [
    {
     "name": "stdout",
     "output_type": "stream",
     "text": [
      "I found 46 number of lines\n"
     ]
    }
   ],
   "source": [
    "count=0\n",
    "with  open(\"data/user_info-short.json\") as dinosaur:\n",
    "    for line in dinosaur:\n",
    "          count+=1\n",
    "    \n",
    "print(f\"I found {count} number of lines\")"
   ]
  },
  {
   "cell_type": "code",
   "execution_count": 19,
   "id": "7b36f1ea-a5a9-4cce-b428-18f3fca61995",
   "metadata": {},
   "outputs": [
    {
     "name": "stdout",
     "output_type": "stream",
     "text": [
      "I found 272 number of lines\n"
     ]
    }
   ],
   "source": [
    "count2=0\n",
    "with  open(\"data/user_info.json\") as dinosaur:\n",
    "    for line in dinosaur:\n",
    "          count2+=1\n",
    "    \n",
    "print(f\"I found {count2} number of lines\")"
   ]
  },
  {
   "cell_type": "code",
   "execution_count": 21,
   "id": "b18c2856-387b-475e-aed5-8c5b4d03350f",
   "metadata": {},
   "outputs": [],
   "source": [
    "with  open(\"data/user_info.json\") as dinosaur:\n",
    "    lines = dinosaur.readlines()"
   ]
  },
  {
   "cell_type": "code",
   "execution_count": 22,
   "id": "00c9166a-4205-4ef9-b533-562efea4c54f",
   "metadata": {},
   "outputs": [
    {
     "data": {
      "text/plain": [
       "272"
      ]
     },
     "execution_count": 22,
     "metadata": {},
     "output_type": "execute_result"
    }
   ],
   "source": [
    "len(lines)"
   ]
  },
  {
   "cell_type": "markdown",
   "id": "f451abdf-f6cf-4320-9af1-ccd72a88e8de",
   "metadata": {},
   "source": [
    "<h2>Comma Separeate Values (CSV)</h2>"
   ]
  },
  {
   "cell_type": "markdown",
   "id": "693e130d-b92c-44ad-9713-52c39dbee86b",
   "metadata": {},
   "source": [
    "<div style=\"border: 1px solid blue; padding: 10px;\">\n",
    "<p><span style=\"font-size: 14pt; color: #169179;\"><strong>Comma Separate Values (CSV)</strong> files are more of the <strong>most common </strong>(probably THE most common) text file that you will encounter as a Data <strong>Analysts</strong> and <strong>Scientist</strong>.&nbsp; Most of the time, you will use Pandas to process these files, but <strong>Python</strong> also has a <strong>library</strong> for <strong>processing</strong> these files and it can be useful to be familiar with it.&nbsp; On rare occassions, with files using different encoding, Pandas can have issues that the Python library does not seem to have.&nbsp;</span></p>\n",
    "<p><span style=\"font-size: 14pt; color: #169179;\"><a href=\"https://docs.python.org/3/library/csv.html\">CSV</a>&nbsp; - Pthon CSV library API (description of functions/methods)</span></p>\n",
    "<p><a href=\"https://www.geeksforgeeks.org/reading-csv-files-in-python/\">CSV Examples</a></p>\n",
    "</div>"
   ]
  },
  {
   "cell_type": "code",
   "execution_count": null,
   "id": "4dedbfaa-9cfb-4298-bb13-88ea63f17cb9",
   "metadata": {},
   "outputs": [],
   "source": [
    "# opening the CSV file\n",
    "with open('data/heart-nohead.csv', mode ='r')as file:\n",
    "   \n",
    "  # reading the CSV file\n",
    "  csvFile = csv.reader(file)\n",
    " \n",
    "  # displaying the contents of the CSV file\n",
    "  for lines in csvFile:\n",
    "        print(lines[0])"
   ]
  },
  {
   "cell_type": "code",
   "execution_count": null,
   "id": "99d662d0-0973-42e4-b025-5c6e8a46fada",
   "metadata": {},
   "outputs": [],
   "source": [
    "# opening the CSV file\n",
    "info=[]\n",
    "with open('data/test.csv', mode ='r') as file:   \n",
    "        \n",
    "       # reading the CSV file\n",
    "       csvFile = csv.DictReader(file)\n",
    " \n",
    "       # displaying the contents of the CSV file\n",
    "       for lines in csvFile:\n",
    "            print(lines)\n",
    "            info.append(lines)"
   ]
  },
  {
   "cell_type": "code",
   "execution_count": 38,
   "id": "0ea59c09-7805-4ce0-a235-0193e98730d7",
   "metadata": {},
   "outputs": [
    {
     "name": "stdout",
     "output_type": "stream",
     "text": [
      "{'age': '30', 'sex': '0', 'chol': '344', 'slope': '2', 'target': '1'}\n"
     ]
    },
    {
     "ename": "TypeError",
     "evalue": "list indices must be integers or slices, not str",
     "output_type": "error",
     "traceback": [
      "\u001b[1;31m---------------------------------------------------------------------------\u001b[0m",
      "\u001b[1;31mTypeError\u001b[0m                                 Traceback (most recent call last)",
      "\u001b[1;32m~\\AppData\\Local\\Temp\\ipykernel_37804\\3686359233.py\u001b[0m in \u001b[0;36m<module>\u001b[1;34m\u001b[0m\n\u001b[0;32m      1\u001b[0m \u001b[0mprint\u001b[0m\u001b[1;33m(\u001b[0m\u001b[0minfo\u001b[0m\u001b[1;33m[\u001b[0m\u001b[1;36m0\u001b[0m\u001b[1;33m]\u001b[0m\u001b[1;33m)\u001b[0m\u001b[1;33m\u001b[0m\u001b[1;33m\u001b[0m\u001b[0m\n\u001b[1;32m----> 2\u001b[1;33m \u001b[0minfo\u001b[0m\u001b[1;33m[\u001b[0m\u001b[1;36m0\u001b[0m\u001b[1;33m:\u001b[0m\u001b[1;36m3\u001b[0m\u001b[1;33m]\u001b[0m\u001b[1;33m[\u001b[0m\u001b[1;34m\"slope\"\u001b[0m\u001b[1;33m]\u001b[0m\u001b[1;33m\u001b[0m\u001b[1;33m\u001b[0m\u001b[0m\n\u001b[0m",
      "\u001b[1;31mTypeError\u001b[0m: list indices must be integers or slices, not str"
     ]
    }
   ],
   "source": [
    "print(info[0])\n",
    "info[0:3]["
   ]
  },
  {
   "cell_type": "code",
   "execution_count": 39,
   "id": "be4c2094-ed84-4e19-8e54-c5008b0e19ae",
   "metadata": {},
   "outputs": [
    {
     "name": "stdout",
     "output_type": "stream",
     "text": [
      "{'age': 2704, 'sex': 35, 'chol': 13265, 'slope': 86, 'target': 52}\n"
     ]
    }
   ],
   "source": [
    "stats = {}\n",
    "for dd in info:\n",
    "      for k,v in dd.items():\n",
    "         if k in stats:\n",
    "                stats[k]+=int(v)\n",
    "         else:\n",
    "                stats[k] = int(v)\n",
    "                \n",
    "print(stats)"
   ]
  },
  {
   "cell_type": "code",
   "execution_count": 40,
   "id": "cbfe6401-85bf-44aa-8da8-4e2525e05ac5",
   "metadata": {},
   "outputs": [
    {
     "name": "stdout",
     "output_type": "stream",
     "text": [
      "age                  mean is 51.02\n",
      "sex                  mean is 0.66\n",
      "chol                 mean is 250.28\n",
      "slope                mean is 1.62\n",
      "target               mean is 0.98\n"
     ]
    }
   ],
   "source": [
    "for k,v in stats.items():\n",
    "      print(f\"{k:20s} mean is {v/len(info):.2f}\")"
   ]
  },
  {
   "cell_type": "code",
   "execution_count": null,
   "id": "8cff8a5c-b2a6-48e9-89d1-bd98dd1f56ce",
   "metadata": {},
   "outputs": [],
   "source": [
    "with open(\"data/heart.csv\",\"r\") as fheart:\n",
    "    dReader = csv.DictReader(fheart)\n",
    "    for lines in dReader:\n",
    "        print(lines)"
   ]
  },
  {
   "cell_type": "markdown",
   "id": "4de46036-7b58-4bec-80cc-efcfb393fece",
   "metadata": {},
   "source": [
    "<p><span style=\"font-size: 14pt; color: #169179;\">So, at times, values other than commas are used to separate the fields in a CSV file ( I know, then is technically is not a CSV, but that's how it is).&nbsp; For example, sometimes you will encounter <strong>semi-colons</strong> or <strong>TABS</strong> (actual key-board TABS) as the <strong>delimiter</strong>.&nbsp;</span></p>\n",
    "<p><span style=\"font-size: 14pt; color: #169179;\">The <strong>same</strong> libary can be used for these, you just have to <strong>tell</strong> the <strong>CSV</strong> library what the <strong>delimiter</strong> is.&nbsp;&nbsp;</span></p>\n",
    "<p><span style=\"font-size: 14pt; color: #169179;\"><span style=\"color: #169179;\"><span style=\"font-size: 18.6667px;\">csvFile = csv.DictReader(file<strong>,delimiter=\";\"</strong>)</span></span></span></p>"
   ]
  },
  {
   "cell_type": "code",
   "execution_count": 44,
   "id": "ba5375c2-21e9-4b31-9b6e-69a9c2c73a69",
   "metadata": {},
   "outputs": [
    {
     "name": "stdout",
     "output_type": "stream",
     "text": [
      "{'age': '30', 'sex': '0', 'chol': '344', 'slope': '2', 'target': '1'}\n",
      "{'age': '45', 'sex': '1', 'chol': '300', 'slope': '2', 'target': '0'}\n",
      "{'age': '56', 'sex': '1', 'chol': '200', 'slope': '2', 'target': '1'}\n",
      "{'age': '63', 'sex': '0', 'chol': '252', 'slope': '2', 'target': '1'}\n",
      "{'age': '52', 'sex': '1', 'chol': '201', 'slope': '2', 'target': '1'}\n",
      "{'age': '48', 'sex': '1', 'chol': '222', 'slope': '2', 'target': '1'}\n",
      "{'age': '45', 'sex': '1', 'chol': '260', 'slope': '2', 'target': '1'}\n",
      "{'age': '34', 'sex': '1', 'chol': '182', 'slope': '2', 'target': '1'}\n",
      "{'age': '57', 'sex': '0', 'chol': '303', 'slope': '2', 'target': '1'}\n",
      "{'age': '71', 'sex': '0', 'chol': '265', 'slope': '2', 'target': '1'}\n",
      "{'age': '54', 'sex': '1', 'chol': '309', 'slope': '2', 'target': '1'}\n",
      "{'age': '52', 'sex': '1', 'chol': '186', 'slope': '1', 'target': '1'}\n",
      "{'age': '41', 'sex': '1', 'chol': '203', 'slope': '1', 'target': '1'}\n",
      "{'age': '58', 'sex': '1', 'chol': '211', 'slope': '2', 'target': '1'}\n",
      "{'age': '35', 'sex': '0', 'chol': '183', 'slope': '2', 'target': '1'}\n",
      "{'age': '51', 'sex': '1', 'chol': '222', 'slope': '1', 'target': '1'}\n",
      "{'age': '45', 'sex': '0', 'chol': '234', 'slope': '1', 'target': '1'}\n",
      "{'age': '44', 'sex': '1', 'chol': '220', 'slope': '2', 'target': '1'}\n",
      "{'age': '62', 'sex': '0', 'chol': '209', 'slope': '2', 'target': '1'}\n",
      "{'age': '54', 'sex': '1', 'chol': '258', 'slope': '1', 'target': '1'}\n",
      "{'age': '51', 'sex': '1', 'chol': '227', 'slope': '2', 'target': '1'}\n",
      "{'age': '29', 'sex': '1', 'chol': '204', 'slope': '2', 'target': '1'}\n",
      "{'age': '51', 'sex': '1', 'chol': '261', 'slope': '2', 'target': '1'}\n",
      "{'age': '43', 'sex': '0', 'chol': '213', 'slope': '1', 'target': '1'}\n",
      "{'age': '55', 'sex': '0', 'chol': '250', 'slope': '1', 'target': '1'}\n",
      "{'age': '51', 'sex': '1', 'chol': '245', 'slope': '1', 'target': '1'}\n",
      "{'age': '59', 'sex': '1', 'chol': '221', 'slope': '2', 'target': '1'}\n",
      "{'age': '52', 'sex': '1', 'chol': '205', 'slope': '2', 'target': '1'}\n",
      "{'age': '58', 'sex': '1', 'chol': '240', 'slope': '1', 'target': '1'}\n",
      "{'age': '41', 'sex': '1', 'chol': '250', 'slope': '2', 'target': '1'}\n",
      "{'age': '45', 'sex': '1', 'chol': '308', 'slope': '2', 'target': '1'}\n",
      "{'age': '60', 'sex': '0', 'chol': '318', 'slope': '2', 'target': '1'}\n",
      "{'age': '52', 'sex': '1', 'chol': '298', 'slope': '1', 'target': '1'}\n",
      "{'age': '42', 'sex': '0', 'chol': '265', 'slope': '1', 'target': '1'}\n",
      "{'age': '67', 'sex': '0', 'chol': '564', 'slope': '1', 'target': '1'}\n",
      "{'age': '68', 'sex': '1', 'chol': '277', 'slope': '2', 'target': '1'}\n",
      "{'age': '46', 'sex': '1', 'chol': '197', 'slope': '2', 'target': '1'}\n",
      "{'age': '54', 'sex': '0', 'chol': '214', 'slope': '1', 'target': '1'}\n",
      "{'age': '58', 'sex': '0', 'chol': '248', 'slope': '1', 'target': '1'}\n",
      "{'age': '48', 'sex': '1', 'chol': '255', 'slope': '2', 'target': '1'}\n",
      "{'age': '57', 'sex': '1', 'chol': '207', 'slope': '2', 'target': '1'}\n",
      "{'age': '52', 'sex': '1', 'chol': '223', 'slope': '2', 'target': '1'}\n",
      "{'age': '54', 'sex': '0', 'chol': '288', 'slope': '2', 'target': '1'}\n",
      "{'age': '45', 'sex': '0', 'chol': '160', 'slope': '1', 'target': '1'}\n",
      "{'age': '53', 'sex': '1', 'chol': '226', 'slope': '2', 'target': '1'}\n",
      "{'age': '62', 'sex': '0', 'chol': '394', 'slope': '1', 'target': '1'}\n",
      "{'age': '52', 'sex': '1', 'chol': '233', 'slope': '2', 'target': '1'}\n",
      "{'age': '43', 'sex': '1', 'chol': '315', 'slope': '2', 'target': '1'}\n",
      "{'age': '53', 'sex': '1', 'chol': '246', 'slope': '2', 'target': '1'}\n",
      "{'age': '42', 'sex': '1', 'chol': '244', 'slope': '2', 'target': '1'}\n",
      "{'age': '59', 'sex': '1', 'chol': '270', 'slope': '0', 'target': '1'}\n",
      "{'age': '63', 'sex': '0', 'chol': '195', 'slope': '2', 'target': '1'}\n",
      "{'age': '42', 'sex': '1', 'chol': '240', 'slope': '0', 'target': '1'}\n"
     ]
    }
   ],
   "source": [
    "# opening the CSV file\n",
    "info=[]\n",
    "with open('data/test-semi.csv', mode ='r') as file:   \n",
    "        \n",
    "       # reading the CSV file\n",
    "       csvFile = csv.DictReader(file,delimiter=\";\")\n",
    " \n",
    "       # displaying the contents of the CSV file\n",
    "       for lines in csvFile:\n",
    "            print(lines)\n",
    "            info.append(lines)"
   ]
  },
  {
   "cell_type": "code",
   "execution_count": null,
   "id": "c4a510a4-6efe-4451-a5b4-f11a4edd8048",
   "metadata": {},
   "outputs": [],
   "source": []
  }
 ],
 "metadata": {
  "kernelspec": {
   "display_name": "Python 3 (ipykernel)",
   "language": "python",
   "name": "python3"
  },
  "language_info": {
   "codemirror_mode": {
    "name": "ipython",
    "version": 3
   },
   "file_extension": ".py",
   "mimetype": "text/x-python",
   "name": "python",
   "nbconvert_exporter": "python",
   "pygments_lexer": "ipython3",
   "version": "3.9.13"
  }
 },
 "nbformat": 4,
 "nbformat_minor": 5
}
