{
 "cells": [
  {
   "cell_type": "markdown",
   "id": "2b76ef40-9d50-4193-910d-4a6abf33bca9",
   "metadata": {},
   "source": [
    "<h1>Numpy</h1>"
   ]
  },
  {
   "cell_type": "markdown",
   "id": "23f074f0-e43c-42b7-aac1-fe1d8c335ddc",
   "metadata": {},
   "source": [
    "<p><span style=\"font-size: 14pt; color: #843fa1;\"><strong>Numpy</strong> is a <strong>Python</strong> <strong>Library </strong>that <strong>specializes</strong> in working with <strong>arrays</strong> (lists) of data.</span></p>\n",
    "<ul>\n",
    "<li><span style=\"font-size: 14pt; color: #843fa1;\">It can be up to <strong>50% faster </strong>than working with <strong>lists</strong></span></li>\n",
    "<li><span style=\"font-size: 14pt; color: #843fa1;\">It also has <strong>functions</strong> for working in domain of l<strong>inear algebra, fourier transform</strong>, and <strong>matrices</strong></span></li>\n",
    "<li><span style=\"font-size: 14pt; color: #843fa1;\">Numpy stands for N<strong>umerical Python</strong> and is written in C and C++</span></li>\n",
    "<li><span style=\"font-size: 14pt; color: #843fa1;\">Unlike lists, <strong>numpy</strong> array <strong>cannot</strong> <strong>mix</strong> <strong>data</strong> <strong>types</strong></span></li>\n",
    "<li><span style=\"font-size: 14pt; color: #843fa1;\"><a href=\"https://numpy.org/\" target=\"_blank\" rel=\"noopener\">https://numpy.org/</a></span></li>\n",
    "</ul>\n",
    "<p><span style=\"font-size: 14pt; color: #843fa1;\">Numpy is <strong>included</strong> in the <strong>Anacond</strong>a version of Python</span></p>\n",
    "<p><span style=\"font-size: 14pt; color: #843fa1;\">However, it can be installed by :</span></p>\n",
    "<p><span style=\"font-size: 14pt; color: #843fa1;\">Pip</span></p>\n",
    "<p><strong><span style=\"color: #843fa1;\"><span style=\"font-size: 18.6667px;\">pip install numpy</span></span></strong></p>\n",
    "<p>&nbsp;</p>\n",
    "<p><span style=\"font-size: 14pt; color: #843fa1;\"><span style=\"color: #843fa1;\"><span style=\"font-size: 18.6667px;\">Conda</span></span></span></p>\n",
    "<p><strong><span style=\"color: #843fa1;\"><span style=\"font-size: 18.6667px;\">conda install numpy</span></span></strong></p>\n",
    "<p>&nbsp;</p>"
   ]
  },
  {
   "cell_type": "markdown",
   "id": "4f735646-5c47-405b-8dae-e4139da9392f",
   "metadata": {
    "jupyter": {
     "source_hidden": true
    },
    "tags": []
   },
   "source": [
    "<div style=\"border: 1px solid blue; padding: 10px\">\n",
    "<p><span style=\"font-size: 14pt; color: #843fa1;\">As <strong>powerful</strong> as <strong>Numpy</strong> is, we have a tendency to use <strong>Pandas</strong> more in <strong>Data Analytics and Sciecne</strong>.&nbsp; As such, we will mostly cover <strong>Numpy</strong> topics that <strong>you will encounter.</strong>&nbsp;&nbsp;</span></p>\n",
    "<p><span style=\"font-size: 14pt; color: #843fa1;\">That being said, there are many tasks that Numpy is very good at and if Numpy seems more logical, by all means, feel free to utilize Numpy as you see fit.&nbsp;</span></p>\n",
    "</div>"
   ]
  },
  {
   "cell_type": "code",
   "execution_count": null,
   "id": "f6418611-94a2-4c41-9ca1-f530b8612c05",
   "metadata": {},
   "outputs": [],
   "source": [
    "https://www.w3schools.com/python/numpy/default.asp"
   ]
  },
  {
   "cell_type": "markdown",
   "id": "0754a96e-2d7f-4198-a7a1-abad490e0e52",
   "metadata": {},
   "source": [
    "<div style=\"border: 1px solid blue; padding: 10px\">\n",
    "<p><span style=\"font-size: 14pt; color: #843fa1;\">The first step is to <strong>import</strong> the <strong>numpy</strong> library.&nbsp; I like to keep all my imports in a cell at the <strong>top</strong> of the <strong>program</strong>.&nbsp; This way, if I need to make <strong>changes</strong>, I do not need to <strong>search</strong> through-out the program to find the <strong>different</strong> libraries.&nbsp;&nbsp;</span></p>\n",
    "<p><span style=\"font-size: 14pt; color: #843fa1;\">Before you can import the libaray, it obviosly has to be <strong>installed</strong>.&nbsp; Please see the cell above for info on installing numpy.</span></p>\n",
    "<p><span style=\"font-size: 14pt; color: #843fa1;\">Note that is is <strong>common</strong> to install numpy has&nbsp; give it an <strong>alias</strong> of <strong>np</strong>.&nbsp; This is not required, but very common in most fields.&nbsp;&nbsp;</span></p>\\\n",
    "</div>"
   ]
  },
  {
   "cell_type": "code",
   "execution_count": 1,
   "id": "06a4fb91-4a9c-4a6f-8694-e0cca0c1246f",
   "metadata": {},
   "outputs": [],
   "source": [
    "import numpy as np  # import numpy and give it an alias of np\n"
   ]
  },
  {
   "cell_type": "markdown",
   "id": "68aa6536-9f00-4a6d-8566-7bc8e70e67db",
   "metadata": {},
   "source": [
    "<h2>1 Dimensional Array</h2>"
   ]
  },
  {
   "cell_type": "markdown",
   "id": "d8d07fd0-7c53-42d8-9752-b626f63e5473",
   "metadata": {},
   "source": [
    "<div style=\"border: 1px solid blue; padding: 10px;\">\n",
    "<p><span style=\"color: #843fa1; font-size: 14pt;\">Let's <strong>create</strong> a 1<strong>-Dimenional array</strong>, usually referred to as <strong>1-D</strong></span></p>\n",
    "</div>"
   ]
  },
  {
   "cell_type": "code",
   "execution_count": 29,
   "id": "80f6da52-1b42-4bf4-9dc9-a51ea50d9295",
   "metadata": {},
   "outputs": [
    {
     "name": "stdout",
     "output_type": "stream",
     "text": [
      "[1 2 3 4 5]\n",
      "1\n",
      "<class 'numpy.ndarray'>\n",
      "1\n",
      "[2 3 4]\n",
      "1\n",
      "2\n",
      "3\n",
      "4\n",
      "5\n"
     ]
    }
   ],
   "source": [
    "#  Create a 1 dimensional numpy array\n",
    "arr = np.array([1, 2, 3, 4, 5])\n",
    "# p;rint results\n",
    "print(arr)\n",
    "# chec the numer of dimensions\n",
    "print(arr.ndim)\n",
    "# ehck dat atype\n",
    "print(type(arr))\n",
    "print(arr[0])\n",
    "# Slicing\n",
    "print(arr[1:4])\n",
    "\n",
    "\n",
    "for x in arr:\n",
    "    print(x)"
   ]
  },
  {
   "cell_type": "markdown",
   "id": "7394bf22-6ca3-4ca1-8938-c82e8734174c",
   "metadata": {},
   "source": [
    "<p><span style=\"font-size: 14pt; color: #843fa1;\">Note in the printed out <strong>1-D array</strong>, unlike Python lists, there are <strong>spaces</strong> between the <strong>elements</strong> of the <strong>array</strong>, not commas.&nbsp; That is one way when you print out an array or list, you can easily tell which you have.&nbsp; For processing, this does not make a difference<br /><br /></span></p>"
   ]
  },
  {
   "cell_type": "markdown",
   "id": "c810e99f-9b54-49a0-88cc-05a7662061d5",
   "metadata": {},
   "source": [
    "<h2>2 Dimensional Array</h2>"
   ]
  },
  {
   "cell_type": "markdown",
   "id": "94786446-38f4-4842-afcd-b0c71f135f13",
   "metadata": {},
   "source": [
    "<div style=\"border: 1px solid blue; padding: 10px;\">\n",
    "<p><span style=\"font-size: 14pt; color: #843fa1;\">Ok, now lets create a 2-D array</span></p>\n",
    "<p><span style=\"font-size: 14pt; color: #843fa1;\">These can be extremely useful for keeping track of multi-dimensional data, like data in a time series, geographical data or for multi-feature machine learing.</span></p>\n",
    "</div>"
   ]
  },
  {
   "cell_type": "code",
   "execution_count": 35,
   "id": "5ecb2f98-e00e-4998-a65e-9b96bd2cb1e2",
   "metadata": {},
   "outputs": [
    {
     "name": "stdout",
     "output_type": "stream",
     "text": [
      "2\n",
      "(2, 3)\n",
      "[[1 2 3]\n",
      " [4 5 6]]\n",
      "2nd element on 1st row:  2\n",
      "[5 6]\n",
      "[1 2 3]\n",
      "[4 5 6]\n",
      "1\n",
      "2\n",
      "3\n",
      "4\n",
      "5\n",
      "6\n"
     ]
    }
   ],
   "source": [
    "# Create 2 dimensional array\n",
    "arr = np.array([[1, 2, 3], [4, 5, 6]])\n",
    "print(arr.ndim)\n",
    "print(arr.shape)\n",
    "print(arr)\n",
    "print('2nd element on 1st row: ', arr[0, 1])\n",
    "\n",
    "# slicing\n",
    "print(arr[1, 1:3])\n",
    "for x in arr:\n",
    "    print(x)\n",
    "    \n",
    "for x in arr:\n",
    "    for y in x:\n",
    "        print(y)"
   ]
  },
  {
   "cell_type": "markdown",
   "id": "04614c3a-b326-48e5-8156-f9204352e475",
   "metadata": {
    "tags": []
   },
   "source": [
    "<h2>3 Dimensions</h2>"
   ]
  },
  {
   "cell_type": "markdown",
   "id": "9643ef81-8a1c-448e-a5a8-51546c11621a",
   "metadata": {},
   "source": [
    "<p><span style=\"font-size: 14pt; color: #843fa1;\">And, finally, a 3-D array</span></p>\n",
    "<p><span style=\"font-size: 14pt; color: #843fa1;\">The can be useful for geographic data in a time series and some multi-feature machine learing that is multi-feature data in time series or color images.</span></p>"
   ]
  },
  {
   "cell_type": "code",
   "execution_count": 34,
   "id": "31810108-c015-4b74-8fef-e15e12bdb852",
   "metadata": {},
   "outputs": [
    {
     "name": "stdout",
     "output_type": "stream",
     "text": [
      "3\n",
      "[[[1 2 3]\n",
      "  [4 5 6]]\n",
      "\n",
      " [[1 2 3]\n",
      "  [4 5 6]]]\n",
      "6\n",
      "[[1 2 3]\n",
      " [4 5 6]]\n",
      "[[1 2 3]\n",
      " [4 5 6]]\n",
      "[1 2 3]\n",
      "[4 5 6]\n",
      "[1 2 3]\n",
      "[4 5 6]\n",
      "1\n",
      "2\n",
      "3\n",
      "4\n",
      "5\n",
      "6\n",
      "1\n",
      "2\n",
      "3\n",
      "4\n",
      "5\n",
      "6\n"
     ]
    }
   ],
   "source": [
    "arr = np.array([[[1, 2, 3], [4, 5, 6]], [[1, 2, 3], [4, 5, 6]]])\n",
    "print(arr.ndim)\n",
    "print(arr)\n",
    "print(arr[0, 1, 2])\n",
    "\n",
    "for x in arr:\n",
    "    print(x)\n",
    "    \n",
    "for x in arr:\n",
    "    for y in x:\n",
    "        print(y)\n",
    "        \n",
    "for x in arr:\n",
    "    for y in x:\n",
    "        for z in y:\n",
    "            print(z)"
   ]
  },
  {
   "cell_type": "markdown",
   "id": "10e9bb37-94fb-4252-9c26-2ca08c627cb9",
   "metadata": {},
   "source": [
    "<h2>Reshaping Arrays</h2>"
   ]
  },
  {
   "cell_type": "markdown",
   "id": "4cedc031-2995-4e12-a09e-754f8a2c6bd5",
   "metadata": {},
   "source": [
    "\n",
    "<p><span style=\"font-size: 14pt; color: #843fa1;\">It is not uncommon for certain <strong>libraries</strong> or <strong>functions</strong> to need <strong>data</strong> to be of a <strong>certain shape</strong>.&nbsp; For example, many <strong>machine</strong> <strong>learning</strong> models need the data to be in a <strong>1-D</strong> array.&nbsp; Being able to <strong>reshape</strong> the <strong>arrays</strong>, correctly, is an <strong>important</strong> <strong>skill</strong>.&nbsp; Luckily, <strong>Numpy</strong> makes this very <strong>easy</strong>.</span><br /><br /></p>"
   ]
  },
  {
   "cell_type": "code",
   "execution_count": 19,
   "id": "1c72cfea-cb66-4320-a680-2658da4003e6",
   "metadata": {},
   "outputs": [
    {
     "name": "stdout",
     "output_type": "stream",
     "text": [
      "[[ 1  2  3]\n",
      " [ 4  5  6]\n",
      " [ 7  8  9]\n",
      " [10 11 12]]\n",
      "(4, 3)\n",
      "(2, 6)\n",
      "[[ 1  2  3  4  5  6]\n",
      " [ 7  8  9 10 11 12]]\n",
      "(6, 2)\n",
      "[[ 1  2]\n",
      " [ 3  4]\n",
      " [ 5  6]\n",
      " [ 7  8]\n",
      " [ 9 10]\n",
      " [11 12]]\n"
     ]
    }
   ],
   "source": [
    "arr = np.array([1, 2, 3, 4, 5, 6, 7, 8, 9, 10, 11, 12])\n",
    "\n",
    "newarr = arr.reshape(4, 3)\n",
    "\n",
    "print(newarr)\n",
    "print(newarr.shape)\n",
    "\n",
    "newarr = arr.reshape(2,6)\n",
    "print(newarr.shape)\n",
    "print(newarr)\n",
    "\n",
    "newarr = arr.reshape(6,2)\n",
    "print(newarr.shape)\n",
    "print(newarr)"
   ]
  },
  {
   "cell_type": "code",
   "execution_count": 21,
   "id": "98fde1f6-258f-4a29-b835-b1d6bd8cbb4a",
   "metadata": {},
   "outputs": [
    {
     "name": "stdout",
     "output_type": "stream",
     "text": [
      "[[1 2]\n",
      " [3 4]\n",
      " [5 6]]\n"
     ]
    }
   ],
   "source": [
    "arr = np.array([[1, 2, 3], [4, 5, 6]])\n",
    "newarr = arr.reshape(3,2)\n",
    "print(newarr)"
   ]
  },
  {
   "cell_type": "code",
   "execution_count": 25,
   "id": "34f6a804-67f5-48d6-96fa-061b2a004530",
   "metadata": {},
   "outputs": [
    {
     "name": "stdout",
     "output_type": "stream",
     "text": [
      "(1, 6)\n",
      "[[1 2 3 4 5 6]]\n"
     ]
    }
   ],
   "source": [
    "arr = np.array([[1, 2, 3], [4, 5, 6]])\n",
    "newarr = arr.reshape(1,-1)\n",
    "print(newarr.shape)\n",
    "print(newarr)"
   ]
  },
  {
   "cell_type": "code",
   "execution_count": 27,
   "id": "58f61a06-9d78-4e3f-b7b9-8b39d7e60392",
   "metadata": {},
   "outputs": [
    {
     "name": "stdout",
     "output_type": "stream",
     "text": [
      "(6, 1)\n",
      "[[1]\n",
      " [2]\n",
      " [3]\n",
      " [4]\n",
      " [5]\n",
      " [6]]\n"
     ]
    }
   ],
   "source": [
    "arr = np.array([[1, 2, 3], [4, 5, 6]])\n",
    "newarr = arr.reshape(-1,1)\n",
    "print(newarr.shape)\n",
    "print(newarr)"
   ]
  },
  {
   "cell_type": "code",
   "execution_count": 28,
   "id": "0feacd74-b63b-458f-89f1-1446a7606995",
   "metadata": {},
   "outputs": [
    {
     "name": "stdout",
     "output_type": "stream",
     "text": [
      "(6,)\n",
      "[1 2 3 4 5 6]\n"
     ]
    }
   ],
   "source": [
    "arr = np.array([[1, 2, 3], [4, 5, 6]])\n",
    "newarr = arr.reshape(-1)\n",
    "print(newarr.shape)\n",
    "print(newarr)"
   ]
  },
  {
   "cell_type": "code",
   "execution_count": null,
   "id": "e8197b72-8f0c-4a08-a8c6-6b9ee66a7bea",
   "metadata": {},
   "outputs": [],
   "source": []
  }
 ],
 "metadata": {
  "kernelspec": {
   "display_name": "Python 3 (ipykernel)",
   "language": "python",
   "name": "python3"
  },
  "language_info": {
   "codemirror_mode": {
    "name": "ipython",
    "version": 3
   },
   "file_extension": ".py",
   "mimetype": "text/x-python",
   "name": "python",
   "nbconvert_exporter": "python",
   "pygments_lexer": "ipython3",
   "version": "3.9.13"
  },
  "toc-showcode": false
 },
 "nbformat": 4,
 "nbformat_minor": 5
}
