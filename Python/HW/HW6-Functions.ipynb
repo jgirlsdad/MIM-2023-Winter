{
 "cells": [
  {
   "cell_type": "markdown",
   "id": "e2d174c1-48ba-4527-886f-15e7fb3c38fd",
   "metadata": {},
   "source": [
    "<h1>Functions</h1>"
   ]
  },
  {
   "cell_type": "markdown",
   "id": "30d16836-ee4f-45cb-ae94-7275f675af33",
   "metadata": {},
   "source": [
    "<h2>Problem 1</h2>"
   ]
  },
  {
   "cell_type": "code",
   "execution_count": null,
   "id": "2667cf48-637a-4cc8-92c0-e1e3f7d47290",
   "metadata": {},
   "outputs": [],
   "source": [
    "# Create a function that takes in1 parameter and multiplies the number by 10 and add3 4 \n",
    "# and returns the value.  Then call the fuction with 3 times, with 3 different numbers\n",
    "\n",
    "# Do work below here"
   ]
  },
  {
   "cell_type": "markdown",
   "id": "7a18c37a-8a75-4c62-987b-047256cb1de0",
   "metadata": {},
   "source": [
    "<h2>Problem 2</h2>"
   ]
  },
  {
   "cell_type": "code",
   "execution_count": null,
   "id": "feacffe0-11d4-4fe1-b612-bdf79d35708a",
   "metadata": {},
   "outputs": [],
   "source": [
    "## Create a function that will take a list and add 23 to each value in the list, using list \n",
    "## comprehension inside the function, and return the new list.  Call the function twice, with \n",
    "## 2 different lists, with atleast 5 values in each input list\n",
    "\n",
    "## Do work below here"
   ]
  },
  {
   "cell_type": "markdown",
   "id": "9a671e2f-896a-48d5-b4d2-295c9d4d44dc",
   "metadata": {},
   "source": [
    "<h2>Problem 3</h2>"
   ]
  },
  {
   "cell_type": "code",
   "execution_count": null,
   "id": "3f363ddc-8737-4bf4-b657-8e966b55c477",
   "metadata": {},
   "outputs": [],
   "source": [
    "## Create a funciton and show how a variable created inside a function is NOT \n",
    "## available inside the Main Program \n",
    "## Hint:  I expect to see an error as the output!!\n",
    "\n",
    "## Do work below here"
   ]
  },
  {
   "cell_type": "markdown",
   "id": "d9fe852a-066f-4a55-b839-3e1a31d3186a",
   "metadata": {},
   "source": [
    "<h2>Problem 4</h2>"
   ]
  },
  {
   "cell_type": "code",
   "execution_count": null,
   "id": "17da51e1-e2eb-4e95-83b3-898b63544e52",
   "metadata": {},
   "outputs": [],
   "source": [
    "## Now, create a function that print out a variable that is created in the Main program,\n",
    "## but NOT passed into the function.. showing the global scope of the variable \n",
    "## Hinte:  This will NOT show an error... it will print out the variale to the screen\n"
   ]
  },
  {
   "cell_type": "markdown",
   "id": "0202abb3-c2ec-48b8-99de-9efdaa4b0ff5",
   "metadata": {},
   "source": [
    "<h2>Problem 5</h2>"
   ]
  },
  {
   "cell_type": "code",
   "execution_count": null,
   "id": "2e305bff-52c7-4574-ab85-49708fbc2b8e",
   "metadata": {},
   "outputs": [],
   "source": [
    "## Create a function that takes 2 lists as input parameters.  For the first list, square all \n",
    "## values in the list.  In the second list, cube the numbers in the list (i.e. **3).   Then\n",
    "## return BOTH lists.  Do this just for 2 lists, but print out the new lists in the Main program\n",
    "## "
   ]
  }
 ],
 "metadata": {
  "kernelspec": {
   "display_name": "Python 3 (ipykernel)",
   "language": "python",
   "name": "python3"
  },
  "language_info": {
   "codemirror_mode": {
    "name": "ipython",
    "version": 3
   },
   "file_extension": ".py",
   "mimetype": "text/x-python",
   "name": "python",
   "nbconvert_exporter": "python",
   "pygments_lexer": "ipython3",
   "version": "3.9.13"
  }
 },
 "nbformat": 4,
 "nbformat_minor": 5
}
