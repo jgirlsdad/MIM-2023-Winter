{
 "cells": [
  {
   "cell_type": "markdown",
   "id": "15710693-2dc2-4b73-abe1-2c6d51a4a3e2",
   "metadata": {},
   "source": [
    "<h1>Homework #1</h1>"
   ]
  },
  {
   "cell_type": "markdown",
   "id": "b3933936-f03b-4b5c-b553-922dd8e8b735",
   "metadata": {},
   "source": [
    "<div style=\"border: 2px solid green; padding: 10px;\">\n",
    "<p><span style=\"font-size: 14pt;\">We have covered one of the most important aspects of Python... the ability to create comlex mathmatical formulas and statements.&nbsp; So lets practice...</span></p>\n",
    "<p><span style=\"font-size: 14pt;\">As a review, the formula&nbsp; &nbsp;$b = 6a$ in python would be :&nbsp;</span></p>\n",
    "<pre><code><span style=\"font-size: 14pt;\">b = 6*a</span></code></pre>\n",
    "<p><span style=\"font-size: 14pt;\">and&nbsp;</span></p>\n",
    "<p><span style=\"font-size: 14pt;\"> $b=5a^2$ would be&nbsp;</span></p>\n",
    "<pre><code><span style=\"font-size: 14pt;\">b = 5*a**2</span></code></pre>\n",
    "</div>"
   ]
  },
  {
   "cell_type": "markdown",
   "id": "e34f4b13-b141-4ef3-ae2a-71db31a10066",
   "metadata": {},
   "source": [
    "<h2>Problem 1</h2>"
   ]
  },
  {
   "cell_type": "markdown",
   "id": "5ba41691-8cd4-4a53-9c91-474dc75324ed",
   "metadata": {},
   "source": [
    "<div style=\"border: 2px solid green; padding: 10px;\">\n",
    "<p><span style=\"font-size: 14pt;\">Code this formula in Python</span></p>\n",
    "<p><strong><span style=\"font-size: 14pt;\">$result = 6a^3$</span></strong></p>\n",
    "<p>&nbsp;</p>\n",
    "<p><span style=\"font-size: 14pt;\">Get results for&nbsp;</span></p>\n",
    "<ol>\n",
    "<li><span style=\"font-size: 14pt;\">a=5</span></li>\n",
    "<li><span style=\"font-size: 14pt;\">a=-4</span></li>\n",
    "<li><span style=\"font-size: 14pt;\">a=0</span></li>\n",
    "</ol>\n",
    "</div>"
   ]
  },
  {
   "cell_type": "code",
   "execution_count": null,
   "id": "3ad2a346-cf1b-44a5-9ae7-5921fbfc67ed",
   "metadata": {},
   "outputs": [],
   "source": [
    "# answer here"
   ]
  },
  {
   "cell_type": "markdown",
   "id": "00318e39-2bfb-4374-a9e3-6f09f577798c",
   "metadata": {},
   "source": [
    "<h2>Problem 2</h2>"
   ]
  },
  {
   "cell_type": "markdown",
   "id": "13e0a531-88ae-4005-b838-d74cfb727dcc",
   "metadata": {},
   "source": [
    "<div style=\"border: 2px solid green; padding: 10px;\">\n",
    "<p><span style=\"font-size: 14pt;\">Code this formula in Python</span></p>\n",
    "<p><span style=\"font-size: 14pt;\"> $q = \\frac{8b^2 }{4c}$</span></p>\n",
    "<p>&nbsp;</p>\n",
    "<p>&nbsp; <span style=\"font-size: 14pt;\">print out q&nbsp; for :</span></p>\n",
    "<ol>\n",
    "<li><span style=\"font-size: 14pt;\">b=5,c=5</span></li>\n",
    "<li><span style=\"font-size: 14pt;\">b=4,c=100</span></li>\n",
    "</ol>\n",
    "</div>"
   ]
  },
  {
   "cell_type": "code",
   "execution_count": null,
   "id": "29b74c12-419f-406f-bd9c-39932d2c86e4",
   "metadata": {},
   "outputs": [],
   "source": [
    "# answer here"
   ]
  },
  {
   "cell_type": "markdown",
   "id": "b0ce3119-957c-431d-821c-8bdf237fefe1",
   "metadata": {
    "tags": []
   },
   "source": [
    "<h2>Problem 3</h2>"
   ]
  },
  {
   "cell_type": "markdown",
   "id": "f9ae445b-3f60-475e-b8f6-3af18191320c",
   "metadata": {},
   "source": [
    "<div style=\"border: 2px solid green; padding: 10px;\">\n",
    "<p>Create Python code for this formula</p>\n",
    "<p>$q = 6a^3 - \\frac{8b^2 }{4c} + 11$</p>\n",
    "<p>print out values of q for :</p>\n",
    "<ol>\n",
    "<li>a=23,b=9,c=200</li>\n",
    "<li>a=-4,b=22,c=34.5</li>\n",
    "<li>a=12,b=23,c=0</li>\n",
    "</ol>\n",
    "</div>"
   ]
  },
  {
   "cell_type": "code",
   "execution_count": null,
   "id": "410b4772-b355-4148-b850-00cc4b435558",
   "metadata": {},
   "outputs": [],
   "source": [
    "# Do work here"
   ]
  },
  {
   "cell_type": "markdown",
   "id": "14eea7d5-b3b6-421e-97ee-728c5d9bdbb5",
   "metadata": {
    "tags": []
   },
   "source": [
    "<h2>Problem 4</h2>"
   ]
  },
  {
   "cell_type": "markdown",
   "id": "36c8cf93-7e24-4d22-859d-30f8659fe4df",
   "metadata": {},
   "source": [
    "<div style=\"border: 2px solid green; padding: 10px;\">\n",
    "<p><span style=\"font-size: 14pt;\">Remove all $s (dollar signs)&nbsp; from the string and print out the lengths of the new strings</span></p>\n",
    "<p><span style=\"font-size: 14pt;\">Hint: <a href=\"https://www.w3schools.com/python/ref_string_replace.asp\">https://www.w3schools.com/python/ref_string_replace.asp</a></span></p>\n",
    "</div>"
   ]
  },
  {
   "cell_type": "code",
   "execution_count": null,
   "id": "756128ea-ee51-4163-b3eb-84aa62158947",
   "metadata": {},
   "outputs": [],
   "source": [
    "# remove all $s from the string below, then print out the lengtth of the new stings\n",
    "gg = \"This cost $24.95, but I do not think it is worth more than $20 and my friend thinks it should cost $15\"\n",
    "yy = \"$Wow, this is so $expensive, but is $ is soooo worth it$\""
   ]
  }
 ],
 "metadata": {
  "kernelspec": {
   "display_name": "Python 3 (ipykernel)",
   "language": "python",
   "name": "python3"
  },
  "language_info": {
   "codemirror_mode": {
    "name": "ipython",
    "version": 3
   },
   "file_extension": ".py",
   "mimetype": "text/x-python",
   "name": "python",
   "nbconvert_exporter": "python",
   "pygments_lexer": "ipython3",
   "version": "3.9.13"
  }
 },
 "nbformat": 4,
 "nbformat_minor": 5
}
