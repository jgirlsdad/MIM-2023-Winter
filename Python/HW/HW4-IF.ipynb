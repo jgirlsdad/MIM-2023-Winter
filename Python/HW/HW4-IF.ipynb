{
 "cells": [
  {
   "cell_type": "markdown",
   "id": "ec82dbf5-11c5-40f5-8947-bd008e6e56e7",
   "metadata": {},
   "source": [
    "<h2><span style=\"font-size: 14pt;\">IF Statements</span></h2>"
   ]
  },
  {
   "cell_type": "markdown",
   "id": "3b24c348-67a1-48ea-820c-b2c219bdf0fb",
   "metadata": {},
   "source": [
    "<h2>Problem 1</h2>"
   ]
  },
  {
   "cell_type": "code",
   "execution_count": null,
   "id": "04a59502-0dd2-4914-b119-b7e334818435",
   "metadata": {},
   "outputs": [],
   "source": [
    "# Create an if statement that prints \"Less\" if a number is less than 5 and \"More\" if \n",
    "# a number is greater than or equal to five\n",
    "import random\n",
    "p = random.randint(0,10)\n",
    "\n",
    "##  Put work below here... use the varialbe p in your if statement "
   ]
  },
  {
   "cell_type": "markdown",
   "id": "77d55ae1-681c-4a1f-9a57-38922d8ed7b4",
   "metadata": {},
   "source": [
    "<h2>Problem 2</h2>"
   ]
  },
  {
   "cell_type": "code",
   "execution_count": null,
   "id": "d969c917-80b0-4f56-8501-f5114434572c",
   "metadata": {},
   "outputs": [],
   "source": [
    "# Create an if statement that prints \"Low\" if the value of a is less than 10, \n",
    "#  \"Med\" if the value is greater than or equal to 10 and less than 20, and\n",
    "#  \"High\" for all other values \n",
    "\n",
    "import random\n",
    "\n",
    "#  Put code here... INSIDE the For Loop (i.e. we want this to run 10 times, so you will have 10 printouts\n",
    "for nn in range(10):\n",
    "   p = random.randint(0,10)\n",
    "#  YOUR CODE GOES HERE... Be sure to indent to include you code in the for loop. i.e.\n",
    "# make sure you code starts on the same column as the p=random.randint(0,10)"
   ]
  },
  {
   "cell_type": "markdown",
   "id": "f3945275-a352-4f55-ac6d-766cc51fe48b",
   "metadata": {},
   "source": [
    "<h2>Problem 3</h2>"
   ]
  },
  {
   "cell_type": "markdown",
   "id": "e2f07b45-8961-4854-981d-d9b9e6f7bc0d",
   "metadata": {},
   "source": [
    "<p><span style=\"font-size: 14pt;\">Being able work with formulas is&nbsp; a very important part of being a Data Analyst/Scientist.&nbsp; Below are the formulas for converting Temperatures between Celsium and Farenheight.&nbsp;&nbsp;</span></p>\n",
    "<p><span style=\"font-size: 14pt;\">Convert Celsium to Farenheight</span></p>\n",
    "<p><span style=\"font-size: 14pt;\">$ F =\\frac{9}{5}C + 32$</span></p>\n",
    "<p>&nbsp;</p>\n",
    "<p><span style=\"font-size: 14pt;\">Convert Farenheight to Celsius</span></p>\n",
    "<p><span style=\"font-size: 14pt;\">$ C =\\frac{5}{9}(F - 32)$</span></p>\n",
    "<p>&nbsp;</p>\n",
    "<p><span style=\"font-size: 14pt;\">Soooo.&nbsp; Here is your challenge.&nbsp; &nbsp;You will be given a temperature and told what the unit is (C or F).&nbsp; Using an if statement(s), create code that will convert the temperature from Celcius to Farenheight if the Temp is in Celscius, and Farenheight to Celsius if the Temp is in Farenheight.&nbsp; Then.... print out both temperatures, indicating what unit each is.&nbsp;&nbsp;</span></p>"
   ]
  },
  {
   "cell_type": "code",
   "execution_count": null,
   "id": "ff8ad285-ea9d-4466-9187-ab04b4244742",
   "metadata": {},
   "outputs": [],
   "source": [
    "\n",
    "import random\n",
    "\n",
    "for nn in range(10):\n",
    "    temp = random.randint(-50,50)\n",
    "    unit = random.randint(0,1)\n",
    "    print(unit,temp)\n",
    "#  Put your code below this.  Please do not change any of the code above\n",
    "#  if unit=0, temperature is in Celsius, \n",
    "# if unit=1, temperature is in Farenheight\n",
    "\n"
   ]
  },
  {
   "cell_type": "code",
   "execution_count": null,
   "id": "e2e81a09-bc98-4f9f-9e49-81ecd0ad734c",
   "metadata": {},
   "outputs": [],
   "source": []
  }
 ],
 "metadata": {
  "kernelspec": {
   "display_name": "Python 3 (ipykernel)",
   "language": "python",
   "name": "python3"
  },
  "language_info": {
   "codemirror_mode": {
    "name": "ipython",
    "version": 3
   },
   "file_extension": ".py",
   "mimetype": "text/x-python",
   "name": "python",
   "nbconvert_exporter": "python",
   "pygments_lexer": "ipython3",
   "version": "3.9.13"
  }
 },
 "nbformat": 4,
 "nbformat_minor": 5
}
