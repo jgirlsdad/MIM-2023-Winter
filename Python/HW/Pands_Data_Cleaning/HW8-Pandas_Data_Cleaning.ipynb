{
 "cells": [
  {
   "cell_type": "markdown",
   "id": "d0f5ad30-9cfb-4119-8029-05ef2b6d75b9",
   "metadata": {},
   "source": [
    "<h1>Panda Data Cleaning</h1>"
   ]
  },
  {
   "cell_type": "markdown",
   "id": "389ecd5d-9a51-4532-a890-513e44b1ac6b",
   "metadata": {
    "tags": []
   },
   "source": [
    "<h2>Problem 1</h2>"
   ]
  },
  {
   "cell_type": "markdown",
   "id": "a33d10a6-9a23-45f5-932d-5749de0432e9",
   "metadata": {},
   "source": [
    "<p>For the file data/AB)NYC_2019.csv, find the following:&nbsp;</p>\n",
    "<p><span style=\"color: rgba(0, 0, 0, 0.87); font-family: serif; font-size: 13px; font-weight: bold; text-align: right; background-color: #ffffff;\">Note: be certain to perform any needed cleaning and checks</span></p>\n",
    "<p>1 What is the min,max and mean price</p>\n",
    "<p>2 What is the min,max and mean # of minimum_number_of nights&nbsp;</p>\n",
    "<p>3 Mean reviews per month</p>\n",
    "<p>4 How many listings are available for 0 days (<span style=\"background-color: #ffffff; color: rgba(0, 0, 0, 0.87); font-family: serif; font-size: 13px; font-weight: bold; text-align: right;\">availability_365)</span></p>"
   ]
  },
  {
   "cell_type": "code",
   "execution_count": null,
   "id": "9e8b65a0-ef81-4949-887b-d2bf5dd314b1",
   "metadata": {},
   "outputs": [],
   "source": []
  },
  {
   "cell_type": "markdown",
   "id": "01c240d6-6e7e-4c44-a989-e0e32adb3f9b",
   "metadata": {},
   "source": [
    "<h2>Problem 2</h2>"
   ]
  },
  {
   "cell_type": "markdown",
   "id": "60fde880-a8c4-4d82-afa5-17c06b46645c",
   "metadata": {},
   "source": [
    "<p>For the file data/hotel_bookings.csv:&nbsp;</p>\n",
    "<p><span style=\"color: rgba(0, 0, 0, 0.87); font-family: serif; font-size: 13px; font-weight: bold; text-align: right; background-color: #ffffff;\">Note: be certain to perform any needed cleaning and checks</span></p>\n",
    "<p>1 Compute the mean total nights stayed by&nbsp;</p>\n",
    "<p>&nbsp; &nbsp; &nbsp; &nbsp;a creating a new column that adds&nbsp;<span style=\"background-color: #ffffff; color: rgba(0, 0, 0, 0.87); font-family: serif; font-size: 13px; font-weight: bold; text-align: right;\">stays_in_weekend_nights and&nbsp;&nbsp;</span><span style=\"background-color: #ffffff; color: rgba(0, 0, 0, 0.87); font-family: serif; font-size: 13px; font-weight: bold; text-align: right;\">stays_in_week_nights</span></p>\n",
    "<p><strong><span style=\"background-color: #ffffff; color: rgba(0, 0, 0, 0.87); font-family: serif; font-size: 13px; text-align: right;\">&nbsp; &nbsp; &nbsp; </span></strong><span style=\"background-color: #ffffff; color: rgba(0, 0, 0, 0.87); font-family: serif; font-size: 13px; text-align: right;\">&nbsp;b Get mean of new column</span></p>\n",
    "<p><span style=\"background-color: #ffffff; color: rgba(0, 0, 0, 0.87); font-family: serif; font-size: 13px; text-align: right;\">2 How times did 0 adults stay at a place</span></p>\n",
    "<p><span style=\"background-color: #ffffff; color: rgba(0, 0, 0, 0.87); font-family: serif; font-size: 13px; text-align: right;\">3 What are the mean number of people that stay per visit&nbsp;</span></p>\n",
    "<p><span style=\"background-color: #ffffff; color: rgba(0, 0, 0, 0.87); font-family: serif; font-size: 13px; text-align: right;\">&nbsp; &nbsp; &nbsp; a: Compute new column from adults+children+babies</span></p>\n",
    "<p><span style=\"background-color: #ffffff; color: rgba(0, 0, 0, 0.87); font-family: serif; font-size: 13px; text-align: right;\">&nbsp; &nbsp; &nbsp; b: Take mean of new column</span></p>\n",
    "<p><span style=\"background-color: #ffffff; color: rgba(0, 0, 0, 0.87); font-family: serif; font-size: 13px; text-align: right;\">4 What % of Checkouts are \"Checked_out\" and what % are \"Cancelled\" + \"No Shows\"</span></p>\n",
    "<p>&nbsp;</p>"
   ]
  },
  {
   "cell_type": "code",
   "execution_count": null,
   "id": "00d443d2-3dce-45c7-8817-a22efeaa7d13",
   "metadata": {},
   "outputs": [],
   "source": []
  },
  {
   "cell_type": "markdown",
   "id": "1d76694f-91fc-4b3b-ac93-ad0100f7276b",
   "metadata": {},
   "source": [
    "<h2>Problem 3</h2>\n",
    "<p>Find a dataset online, then clean it and generate 4 interesting statistics from the Dataset.&nbsp; You will download the file to your local computer and do your work there.&nbsp; Create a notebook to do the work, then be prepared to show&nbsp; your dataset and statistics in class on Monday</p>"
   ]
  },
  {
   "cell_type": "code",
   "execution_count": null,
   "id": "dfc91d1e-086d-4d60-9c6d-b5e6c48d2944",
   "metadata": {},
   "outputs": [],
   "source": []
  }
 ],
 "metadata": {
  "kernelspec": {
   "display_name": "Python 3 (ipykernel)",
   "language": "python",
   "name": "python3"
  },
  "language_info": {
   "codemirror_mode": {
    "name": "ipython",
    "version": 3
   },
   "file_extension": ".py",
   "mimetype": "text/x-python",
   "name": "python",
   "nbconvert_exporter": "python",
   "pygments_lexer": "ipython3",
   "version": "3.9.13"
  }
 },
 "nbformat": 4,
 "nbformat_minor": 5
}
