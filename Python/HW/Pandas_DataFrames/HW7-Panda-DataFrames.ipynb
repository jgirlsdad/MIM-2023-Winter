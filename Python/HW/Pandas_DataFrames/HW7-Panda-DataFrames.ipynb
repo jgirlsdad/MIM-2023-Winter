{
 "cells": [
  {
   "cell_type": "markdown",
   "id": "75db7212-82b2-4965-b3bd-009095dfb2a1",
   "metadata": {},
   "source": [
    "<h1>Pandas DataFrames</h1>"
   ]
  },
  {
   "cell_type": "markdown",
   "id": "40c22eb0-45d5-4dd0-9316-2b9d1c5a3d94",
   "metadata": {},
   "source": [
    "<h2>Problem 1</h2>"
   ]
  },
  {
   "cell_type": "markdown",
   "id": "39c83481-66b9-482b-b84e-ef4741aea34a",
   "metadata": {},
   "source": [
    "<p><span style=\"font-size: 14pt; color: #843fa1;\">Read data/jordan_<strong>playoffs</strong>.csv into a dataframe</span></p>\n",
    "<p><span style=\"font-size: 14pt; color: #843fa1;\">1 Print out the first and last 5 rows</span></p>\n",
    "<p><span style=\"font-size: 14pt; color: #843fa1;\">2 What is the shape</span></p>\n",
    "<p><span style=\"font-size: 14pt; color: #843fa1;\">3 What are the data types for each column</span></p>\n",
    "<p><span style=\"font-size: 14pt; color: #843fa1;\">4 Print out all of the columns&nbsp;</span></p>\n",
    "<p><span style=\"font-size: 14pt; color: #843fa1;\">5 How many Total Wins (W) and Losses (L) does Lebron have&nbsp;</span></p>\n",
    "<p><span style=\"font-size: 14pt; color: #843fa1;\">6 How many points has Lebron averaged for his entire Playoff Career</span></p>\n",
    "<p><span style=\"font-size: 14pt; color: #843fa1;\">7 How many Free Throws (ft) has he averaged per Game</span></p>"
   ]
  },
  {
   "cell_type": "code",
   "execution_count": null,
   "id": "ab7e5759-3d05-411b-b6c0-d3a306cb7138",
   "metadata": {},
   "outputs": [],
   "source": []
  },
  {
   "cell_type": "code",
   "execution_count": null,
   "id": "75f242a8-d56a-4d77-a5e7-eee921efcb48",
   "metadata": {},
   "outputs": [],
   "source": []
  },
  {
   "cell_type": "markdown",
   "id": "60ad8aa2-6b00-41f7-94c8-40de2058297b",
   "metadata": {},
   "source": [
    "<h2>Problem 2</h2>"
   ]
  },
  {
   "cell_type": "markdown",
   "id": "75c94d3f-f9cb-47dd-ba1e-13a583cc2119",
   "metadata": {},
   "source": [
    "<p><span style=\"font-size: 14pt; color: #843fa1;\">Read data/jordan_<strong>career</strong>.csv into a dataframe</span></p>\n",
    "<p><span style=\"font-size: 14pt; color: #843fa1;\">1 Print out the first and last 5 rows</span></p>\n",
    "<p><span style=\"font-size: 14pt; color: #843fa1;\">2 What is the shape</span></p>\n",
    "<p><span style=\"font-size: 14pt; color: #843fa1;\">3 What are the data types for each column</span></p>\n",
    "<p><span style=\"font-size: 14pt; color: #843fa1;\">4 Print out all of the columns&nbsp;</span></p>\n",
    "<p><span style=\"font-size: 14pt; color: #843fa1;\">5 How many Total Wins (W) and Losses (L) does Lebron have&nbsp;</span></p>\n",
    "<p><span style=\"font-size: 14pt; color: #843fa1;\">6 How many points has Lebron averaged for his entire Playoff Career</span></p>\n",
    "<p><span style=\"font-size: 14pt; color: #843fa1;\">7 How many Free Throws (ft) has he averaged per Game</span></p>"
   ]
  },
  {
   "cell_type": "code",
   "execution_count": null,
   "id": "daa1a478-174f-4959-acf9-7118893a2a66",
   "metadata": {},
   "outputs": [],
   "source": []
  },
  {
   "cell_type": "markdown",
   "id": "f340cfd7-e408-4040-93b3-959f784d020e",
   "metadata": {},
   "source": [
    "<h2>Problem 3</h2>"
   ]
  },
  {
   "cell_type": "markdown",
   "id": "26178c99-656a-4d82-88a0-3cb9b76e099a",
   "metadata": {},
   "source": [
    "<p>Read the file data/diamonds.csv into a dataframe</p>\n",
    "<p>1 Print out the first 5 rows</p>\n",
    "<p>2 What is shape?</p>\n",
    "<p>3 What are the columns?</p>\n",
    "<p>4 What are the data types of the columns</p>\n",
    "<p>5 What is the min,max and mean of the price</p>\n",
    "<p>6 What is the min,max,mean of the depth</p>\n",
    "<p>7 What is the min,max,mean of the Weight (carats)</p>\n",
    "<p>7&nbsp;</p>\n",
    "<p>&nbsp;</p>"
   ]
  }
 ],
 "metadata": {
  "kernelspec": {
   "display_name": "Python 3 (ipykernel)",
   "language": "python",
   "name": "python3"
  },
  "language_info": {
   "codemirror_mode": {
    "name": "ipython",
    "version": 3
   },
   "file_extension": ".py",
   "mimetype": "text/x-python",
   "name": "python",
   "nbconvert_exporter": "python",
   "pygments_lexer": "ipython3",
   "version": "3.9.13"
  }
 },
 "nbformat": 4,
 "nbformat_minor": 5
}
