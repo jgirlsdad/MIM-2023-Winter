{
 "cells": [
  {
   "cell_type": "markdown",
   "id": "b9e096d8-161d-487b-846e-eca8299df441",
   "metadata": {},
   "source": [
    "<h1>Homework #2 Lists </h1>"
   ]
  },
  {
   "cell_type": "markdown",
   "id": "407bd87d-8b68-462c-a844-aa884e16835b",
   "metadata": {},
   "source": [
    "<h2>Problem 1</h2>"
   ]
  },
  {
   "cell_type": "markdown",
   "id": "74a7fad2-225c-4985-bfe4-5290c3abb975",
   "metadata": {},
   "source": [
    "<div style=\"border: 2px solid green; padding: 10px;\">\n",
    "<p><span style=\"font-size: 14pt;\">Merge (concatenate) the 2 lists, then sort them BOTH, in ascending and descending order</span></p>\n",
    "</div>"
   ]
  },
  {
   "cell_type": "code",
   "execution_count": 9,
   "id": "b1b946d5-30e1-421d-a326-e032d9e9e7fe",
   "metadata": {},
   "outputs": [
    {
     "name": "stdout",
     "output_type": "stream",
     "text": [
      "['a', 'b', 'c', 'e', 'm', 'r', 'z']\n"
     ]
    }
   ],
   "source": [
    "list1 = [\"a\",\"z\",\"c\"]\n",
    "list2 = [\"b\",\"r\",\"m\",\"e\"]\n"
   ]
  },
  {
   "cell_type": "markdown",
   "id": "250277ef-eacb-4c35-b4ea-0046612c478a",
   "metadata": {},
   "source": [
    "<h2>Problem 2</h2>"
   ]
  },
  {
   "cell_type": "markdown",
   "id": "fc77bd3a-1dc8-49e5-8e4e-fa30536b0553",
   "metadata": {},
   "source": [
    "<div style=\"border: 2px solid green; padding: 10px;\">\n",
    "<p><span style=\"font-size: 14pt;\">Sum all items in the list below</span></p>\n",
    "</div>"
   ]
  },
  {
   "cell_type": "code",
   "execution_count": null,
   "id": "85721f86-1023-4544-856c-9c454dfe6598",
   "metadata": {},
   "outputs": [],
   "source": [
    "# sum all the items in the dictionary below\n",
    "ll = [34,3,-5,6,9,12,22,-9]"
   ]
  },
  {
   "cell_type": "markdown",
   "id": "779b7767-ccbd-4c91-82ac-3b03059345e8",
   "metadata": {},
   "source": [
    "<h2>Problem 3</h2>"
   ]
  },
  {
   "cell_type": "markdown",
   "id": "f0307cc3-da2c-4198-a675-31e8c7631ef2",
   "metadata": {},
   "source": [
    "<div style=\"border: 2px solid green; padding: 10px;\">\n",
    "<p>Split the sentence below into words that are stored in a list</p>\n",
    "<p>Then, print out the longest and shortest word and their lenghts</p>\n",
    "<p>Hints... You will need to iterate over all the words in the list and check the lengths.&nbsp; You might want to use a dictioanry or list to store the longest and shortest word.</p>\n",
    "</div>"
   ]
  },
  {
   "cell_type": "code",
   "execution_count": null,
   "id": "34123ab6-4e8a-42c6-a927-5e7069c72796",
   "metadata": {},
   "outputs": [],
   "source": [
    "# split the sentence below into words and store the words in  list\n",
    "sentence = \"Data analytics is the key to the universe and I am really enjoying unlocking this key\"\n",
    "\n",
    "# now iterate over the list of words and find the shortest and longest words, print them out with the lengths\n"
   ]
  },
  {
   "cell_type": "markdown",
   "id": "fc22e34b-20b4-4923-809e-0c13d49d0fa6",
   "metadata": {},
   "source": [
    "<h2>Problem 4</h2>"
   ]
  },
  {
   "cell_type": "markdown",
   "id": "9d64b0ed-0e56-4318-a705-3ce40842c3aa",
   "metadata": {},
   "source": [
    "<div style=\"border: 2px solid green; padding: 10px;\">\n",
    "<p>Use list&nbsp; comprehension to add 5 to every numbers in the list below</p>\n",
    "<p><a href=\"https://www.w3schools.com/python/python_lists_comprehension.asp\">https://www.w3schools.com/python/python_lists_comprehension.asp</a></p>\n",
    "</div>"
   ]
  },
  {
   "cell_type": "code",
   "execution_count": 1,
   "id": "2ec36d20-2255-457c-a814-7fafb65b92fd",
   "metadata": {},
   "outputs": [],
   "source": [
    "# add 5 to every item in list gg, using list comprehension\n",
    "gg = [0,1,2,3,4,5,6,7,8,9,10]"
   ]
  },
  {
   "cell_type": "markdown",
   "id": "cd229a2d-1ba1-45e8-94f3-4164d269fe72",
   "metadata": {},
   "source": [
    "<h2>Problem 5</h2>"
   ]
  },
  {
   "cell_type": "markdown",
   "id": "c6780b72-8bac-42d8-b25d-866fbb62a7be",
   "metadata": {},
   "source": [
    "<div style=\"border: 2px solid green; padding: 10px;\">\n",
    "<p>In the list below, find all numbers tha are odd and multiply that number by 2 and store the output in a new list</p>\n",
    "</div>"
   ]
  },
  {
   "cell_type": "code",
   "execution_count": 4,
   "id": "5b520115-667e-4ff3-9e80-46c56b7c2423",
   "metadata": {},
   "outputs": [],
   "source": [
    "# Find all items in xx that are odd and multiply them by 2 and output to a new list, using list comprehension\n",
    "xx = list(range(100))\n"
   ]
  },
  {
   "cell_type": "code",
   "execution_count": null,
   "id": "1d7e01b2-81dc-47a7-99ec-c6e704691ef4",
   "metadata": {},
   "outputs": [],
   "source": []
  }
 ],
 "metadata": {
  "kernelspec": {
   "display_name": "Python 3 (ipykernel)",
   "language": "python",
   "name": "python3"
  },
  "language_info": {
   "codemirror_mode": {
    "name": "ipython",
    "version": 3
   },
   "file_extension": ".py",
   "mimetype": "text/x-python",
   "name": "python",
   "nbconvert_exporter": "python",
   "pygments_lexer": "ipython3",
   "version": "3.9.13"
  }
 },
 "nbformat": 4,
 "nbformat_minor": 5
}
