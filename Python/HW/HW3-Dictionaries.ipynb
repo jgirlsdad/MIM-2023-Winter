{
 "cells": [
  {
   "cell_type": "markdown",
   "id": "8370d1d3-b611-43e3-88a8-4071170c92b4",
   "metadata": {},
   "source": [
    "<h1>HW 3 Dictioanries</h1>"
   ]
  },
  {
   "cell_type": "markdown",
   "id": "f021b59e-7a00-4b4d-bfe8-39ead70423cb",
   "metadata": {},
   "source": [
    "<h2>Problem 1</h2>"
   ]
  },
  {
   "cell_type": "code",
   "execution_count": null,
   "id": "3cf6d625-ea51-4a25-a1a4-88ab7abe328e",
   "metadata": {},
   "outputs": [],
   "source": [
    "# sum up all the values in the dictionary below\n",
    "marks={\"m1\":92 , \"m2\":56 , \"m3\":88 , \"m4\":97 , \"m5\":89}\n"
   ]
  },
  {
   "cell_type": "code",
   "execution_count": null,
   "id": "63e11522-7dfd-4864-a2c8-263494374152",
   "metadata": {},
   "outputs": [],
   "source": [
    "# Which key has the highest value (you will need to iterate over all key,value pairs in the dictionary\n",
    "marks={\"m1\":92 , \"m2\":56 , \"m3\":88 , \"m4\":97 , \"m5\":89}\n"
   ]
  },
  {
   "cell_type": "markdown",
   "id": "74f7df88-fc20-487c-8263-d074cad912ec",
   "metadata": {},
   "source": [
    "<h2>Problem 2</h2>"
   ]
  },
  {
   "cell_type": "code",
   "execution_count": null,
   "id": "fb29548a-c8b7-4e40-ab2e-b77be2074dad",
   "metadata": {},
   "outputs": [],
   "source": [
    "# Create a dictionry whose keys are the numbers from 1 to 30 and the values are the keys squared\n",
    "#  For example: \n",
    "#  dict[1] = 1\n",
    "# dict[2] = 4\n",
    "# dict[3] = 9\n",
    "# \n",
    "# DO NOT MANUALLY CREATE THE DICTIONARY.  USE A LOOP!\n",
    "#\n",
    "# Do work here"
   ]
  },
  {
   "cell_type": "markdown",
   "id": "76281a79-1015-4609-9e4b-3674950a804f",
   "metadata": {},
   "source": [
    "<h2>Problem 3</h2>"
   ]
  },
  {
   "cell_type": "markdown",
   "id": "f686e0c3-621e-4b8a-ada6-d65f10d04b0a",
   "metadata": {},
   "source": [
    "<div style=\"border: 1px solid green;padding: 10px;font-family:Serif;color:green;font-size:18px\">\n",
    "\n",
    "<p><span style=\"font-size: 14pt;\">The code below generates a list with 100 elements whose values range from 1 to 5.&nbsp; You need to count how many times each value occurs in the list and store the results in a dictionary, where the keys are the numbers 1 thru 5 and the values are the counts for each of the values.&nbsp; So your dictionary will look something like:&nbsp;</span></p>\n",
    "<p><span style=\"font-size: 14pt;\">dict[1] = 19</span></p>\n",
    "<p><span style=\"font-size: 14pt;\">dict[2] = 21</span></p>\n",
    "<p><span style=\"font-size: 14pt;\">dict[3] = 20</span></p>\n",
    "<p><span style=\"font-size: 14pt;\">...</span></p>\n",
    "<p><span style=\"font-size: 14pt;\">Hint: This is a valuable skill you will use at differnt times...The ability to keep track of counts of different things, using a dictionary.&nbsp; You can normally do&nbsp; &nbsp; &nbsp; &nbsp; &nbsp;dicts[1]+=1 will work to keep track of the count...however, you MUST initialize dicst[1] to be 0 before you can starting using the counter method shown...</span></p>\n",
    "</div>"
   ]
  },
  {
   "cell_type": "code",
   "execution_count": 11,
   "id": "21f16f68-f4c1-4ccf-9f2a-b666267deb14",
   "metadata": {},
   "outputs": [],
   "source": [
    "# do NOT change any of this code!\n",
    "import random\n",
    "a = []\n",
    "for nn in range(100):\n",
    "   a.append(random.randint(1,5))\n",
    "\n",
    "# Add work Below Here\n",
    "\n"
   ]
  },
  {
   "cell_type": "markdown",
   "id": "51ff09e1-45c5-4632-8264-b6638b4f2878",
   "metadata": {
    "tags": []
   },
   "source": [
    "<h2>Problem 4</h2>"
   ]
  },
  {
   "cell_type": "code",
   "execution_count": 1,
   "id": "f9cb9467-f7a5-47cf-a60c-0fa5edf14d09",
   "metadata": {},
   "outputs": [],
   "source": [
    "# Sort the dictionary below,\n",
    "#  First by KEYS,, \n",
    "#  Secone time by VALUES.  \n",
    "#\n",
    "#  So you will 2 different outputs... one sorted by keys, the other sorted by values\n",
    "# Note, you will likely need to search google as we have not covered this in class!!!!!\n",
    "#\n",
    "# One search would be :  python dictionary sort by keys\n",
    "# Then try     python dictionary sort by values\n",
    "dict = {\"r\":34.5,\n",
    "            \"b\":19.2,\n",
    "            \"c\":5.45,\n",
    "            \"d\":12.45,\n",
    "            \"whoa\":-6.3,\n",
    "           \"bull\":19.34\n",
    "}"
   ]
  },
  {
   "cell_type": "code",
   "execution_count": null,
   "id": "b8ab80bc-119d-439b-8fa1-de0a0a165d8f",
   "metadata": {},
   "outputs": [],
   "source": []
  }
 ],
 "metadata": {
  "kernelspec": {
   "display_name": "Python 3 (ipykernel)",
   "language": "python",
   "name": "python3"
  },
  "language_info": {
   "codemirror_mode": {
    "name": "ipython",
    "version": 3
   },
   "file_extension": ".py",
   "mimetype": "text/x-python",
   "name": "python",
   "nbconvert_exporter": "python",
   "pygments_lexer": "ipython3",
   "version": "3.9.13"
  }
 },
 "nbformat": 4,
 "nbformat_minor": 5
}
