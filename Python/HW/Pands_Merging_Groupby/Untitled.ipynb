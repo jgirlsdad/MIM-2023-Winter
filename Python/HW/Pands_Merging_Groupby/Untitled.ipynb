{
 "cells": [
  {
   "cell_type": "markdown",
   "id": "e4aabf97-f376-479d-a16c-d26493256d16",
   "metadata": {},
   "source": [
    "<h2>Pandas Merging and Groupby</h2>"
   ]
  },
  {
   "cell_type": "markdown",
   "id": "cee4cf9f-ee42-42cc-b05b-ae8f1f3e5302",
   "metadata": {},
   "source": [
    "<h2>Problem 1</h2>"
   ]
  },
  {
   "cell_type": "markdown",
   "id": "e74caf0d-21ba-439e-b1bc-c7748e5152d7",
   "metadata": {},
   "source": [
    "<p>Read these 2 CSV files and merge them on user_id</p>\n",
    "<p>https://raw.githubusercontent.com/shanealynn/Pandas-Merge-Tutorial/master/user_usage.csv</p>\n",
    "<p>https://raw.githubusercontent.com/shanealynn/Pandas-Merge-Tutorial/master/user_device.csv</p>"
   ]
  },
  {
   "cell_type": "markdown",
   "id": "9a28cf42-e13f-42a5-87b2-5bb8af4edd67",
   "metadata": {},
   "source": [
    "<h2>Problem 2</h2>"
   ]
  },
  {
   "cell_type": "markdown",
   "id": "5281ae3b-1d70-4b1b-90a3-6ef88eccf8b3",
   "metadata": {},
   "source": [
    "<p>Using the <strong>merged results</strong> from <strong>Problem</strong> 1, compute:</p>\n",
    "<p>the Min,Max,Mean and Standard Deviation for&nbsp;</p>\n",
    "<p>outgoing_mins_per_month</p>\n",
    "<p>outgoing_sms_per_month</p>\n",
    "<p>monthly_mb</p>"
   ]
  }
 ],
 "metadata": {
  "kernelspec": {
   "display_name": "Python 3 (ipykernel)",
   "language": "python",
   "name": "python3"
  },
  "language_info": {
   "codemirror_mode": {
    "name": "ipython",
    "version": 3
   },
   "file_extension": ".py",
   "mimetype": "text/x-python",
   "name": "python",
   "nbconvert_exporter": "python",
   "pygments_lexer": "ipython3",
   "version": "3.9.13"
  }
 },
 "nbformat": 4,
 "nbformat_minor": 5
}
