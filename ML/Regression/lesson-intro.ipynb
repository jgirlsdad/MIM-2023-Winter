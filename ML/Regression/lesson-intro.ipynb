{
 "cells": [
  {
   "cell_type": "markdown",
   "id": "40d8331c-6908-4ef1-995f-9edcff8761d5",
   "metadata": {},
   "source": [
    "<h1>Machine Learning</h1>"
   ]
  },
  {
   "cell_type": "markdown",
   "id": "9410c7d0-df5b-4b24-b712-84bdeb485031",
   "metadata": {},
   "source": [
    "<p><span style=\"font-size: 14pt; color: #000000;\"><strong>Machine Learning</strong> - branch of artificial intelligence (AI) and computer science which focuses on the use of <strong>data</strong> and <strong>algorithms</strong> to imitate the way that humans learn, gradually <strong>improving</strong> its <strong>accuracy </strong>at<strong> predicting outcomes</strong></span></p>\n",
    "<ul>\n",
    "<li><span style=\"font-size: 14pt; color: #000000;\"><span style=\"color: #666666; font-family: Arial, sans-serif; font-size: 17px; background-color: #ffffff;\">Machine learning has become a significant competitive differentiator for many companies.</span></span></li>\n",
    "</ul>\n",
    "<p>&nbsp;</p>"
   ]
  },
  {
   "cell_type": "markdown",
   "id": "cfca0c78-da0f-493b-8f78-5e045bb3573c",
   "metadata": {},
   "source": [
    "<p><span style=\"font-size: 14pt;\">Types of Machine Learning</span></p>\n",
    "<ul>\n",
    "<li><span style=\"font-size: 14pt;\"><strong>Supervised</strong> - algorithms use a known set of inputs that correspond to known outputs (or labels) to learn (or train) algorithms that are then used to make predictions about input where the labels output is known so the accuracy of the model can be assessed (tested).</span></li>\n",
    "<li><span style=\"font-size: 14pt;\"><strong>Unsupervised</strong> - algorithms are trained on unlabeled data. The algorithm scans through data sets looking for any meaningful connection. The data that algorithms train on as well as the predictions or recommendations they output are predetermined</span><br /><br /></li>\n",
    "<li><span style=\"font-size: 14pt;\"><strong>Semi-Supervised</strong> - feed an algorithm mostly labeled training data, but the model is free to explore the data on its own and develop its own understanding of the data set.</span></li>\n",
    "</ul>\n",
    "<p>&nbsp;</p>\n",
    "<p><span style=\"font-size: 14pt;\">We will be concentrating on <strong>Supervised Machine Learning</strong></span></p>"
   ]
  },
  {
   "cell_type": "markdown",
   "id": "28e851fb-eb18-4b09-a4a7-27acb1aae2f3",
   "metadata": {},
   "source": [
    "<h2>SuperVised Machine Learningl</h2>"
   ]
  },
  {
   "cell_type": "markdown",
   "id": "38c47d53-9c74-45ff-8252-25d081f0b44f",
   "metadata": {},
   "source": [
    "<p><span style=\"font-weight: bold; font-size: 14pt;\">Types of Supervised Machine Learning</span></p>\n",
    "<ul class=\"default-list\" style=\"margin: 0px 0px 20px 25px; padding: 0px; color: #323232; font-family: Arial, sans-serif; font-size: 15px; background-color: #ffffff;\">\n",
    "<li style=\"font-size: 17px; color: #666666; margin: 10px 0px; line-height: 1.71em;\"><span style=\"font-size: 14pt;\"><span style=\"font-weight: bold;\">Binary classification:&nbsp;</span>Dividing data into two categories.</span></li>\n",
    "<li style=\"font-size: 17px; color: #666666; margin: 10px 0px; line-height: 1.71em;\"><span style=\"font-size: 14pt;\"><span style=\"font-weight: bold;\">Multi-class classification:&nbsp;</span>Choosing between more than two types of answers.</span></li>\n",
    "<li style=\"font-size: 17px; color: #666666; margin: 10px 0px; line-height: 1.71em;\"><span style=\"font-size: 14pt;\"><span style=\"font-weight: bold;\">Regression modeling:</span>&nbsp;Predicting continuous values.</span></li>\n",
    "<li style=\"font-size: 17px; color: #666666; margin: 10px 0px; line-height: 1.71em;\"><span style=\"font-size: 14pt;\"><span style=\"font-weight: bold;\">Ensembling:</span>&nbsp;Combining the predictions of multiple machine learning models to produce an accurate prediction.</span></li>\n",
    "</ul>\n",
    "<p><span style=\"font-size: 14pt;\"><span style=\"font-size: 18.6667px;\">https://scikit-learn.org/stable/supervised_learning.html</span></span></p>"
   ]
  },
  {
   "cell_type": "markdown",
   "id": "feb87849-c5af-457e-8ab4-24d5c9e744b6",
   "metadata": {},
   "source": [
    "<img src=\"images/ml_map.png\">"
   ]
  },
  {
   "cell_type": "markdown",
   "id": "ca71e4eb-082f-4b44-91fd-0c018f4947c8",
   "metadata": {},
   "source": [
    "<h3>Regression</h3>"
   ]
  },
  {
   "cell_type": "code",
   "execution_count": null,
   "id": "4fa44ec1-6839-4a6a-9785-b9b5ed83185b",
   "metadata": {},
   "outputs": [],
   "source": []
  },
  {
   "cell_type": "code",
   "execution_count": null,
   "id": "b43c9f9d-f43e-4e54-9042-3d707c2f150b",
   "metadata": {},
   "outputs": [],
   "source": []
  },
  {
   "cell_type": "code",
   "execution_count": null,
   "id": "41dc77f9-f801-4f3e-b117-792996dfdc4b",
   "metadata": {},
   "outputs": [],
   "source": []
  },
  {
   "cell_type": "code",
   "execution_count": null,
   "id": "e25aa6ad-8bfb-4b42-8af8-7893085c5156",
   "metadata": {},
   "outputs": [],
   "source": []
  },
  {
   "cell_type": "code",
   "execution_count": 1,
   "id": "837138d7-9db8-47f8-b996-20902cef4b8c",
   "metadata": {},
   "outputs": [],
   "source": [
    "import numpy as np"
   ]
  },
  {
   "cell_type": "code",
   "execution_count": 2,
   "id": "4db1c5bc-8eb9-4004-9c08-9a3b420a7db2",
   "metadata": {},
   "outputs": [],
   "source": [
    "def sigmoid(x,w,b):\n",
    "    # compute the results of the sigmoid fuction, given the x val;ue and w,b weights\n",
    "     y =   1/(1+np.exp(-(w*x+b)) )\n",
    "     return y\n",
    "\n",
    "def cost(y,prediction,x,w):\n",
    "    alpha=.3\n",
    "    wn = w + alpha * (y - prediction) * prediction * (1 - prediction) * x\n",
    "    return wn\n",
    "\n",
    "def costBias(y,prediction,b):\n",
    "    alpha=.3\n",
    "    bn = b + alpha * (y - prediction) * prediction * (1 - prediction) \n",
    "    return bn"
   ]
  },
  {
   "cell_type": "code",
   "execution_count": 3,
   "id": "454c1a52-ae35-4f14-8199-e50ee64566d9",
   "metadata": {},
   "outputs": [],
   "source": [
    "x,y,t = 2.7810836, 2.550537003,0 \n"
   ]
  },
  {
   "cell_type": "code",
   "execution_count": 21,
   "id": "c850d573-b488-42f3-9d3d-1eb461f7a34e",
   "metadata": {},
   "outputs": [
    {
     "data": {
      "text/plain": [
       "0.5"
      ]
     },
     "execution_count": 21,
     "metadata": {},
     "output_type": "execute_result"
    }
   ],
   "source": [
    "#sets weights to 0\n",
    "w=0\n",
    "b=0\n",
    "\n",
    "yp = sigmoid(x,w,b)\n",
    "yp"
   ]
  },
  {
   "cell_type": "code",
   "execution_count": 22,
   "id": "675fc651-6901-4737-81b1-77d162506145",
   "metadata": {},
   "outputs": [
    {
     "name": "stdout",
     "output_type": "stream",
     "text": [
      "0.4277036122677338 0.153790275225\n"
     ]
    }
   ],
   "source": [
    "w = cost(y,yp,x,w)\n",
    "b = costBias(y,yp,b)\n",
    "print(w,b)"
   ]
  },
  {
   "cell_type": "code",
   "execution_count": 23,
   "id": "d5eb27d9-8535-480a-a710-07032d726409",
   "metadata": {},
   "outputs": [
    {
     "data": {
      "text/plain": [
       "0.7930271408221088"
      ]
     },
     "execution_count": 23,
     "metadata": {},
     "output_type": "execute_result"
    }
   ],
   "source": [
    "yp = sigmoid(x,w,b)\n",
    "yp"
   ]
  },
  {
   "cell_type": "code",
   "execution_count": 25,
   "id": "0f54b9ca-1f16-4035-8d69-ddf5a6795e53",
   "metadata": {},
   "outputs": [
    {
     "name": "stdout",
     "output_type": "stream",
     "text": [
      "0.9090575349306278 0.24033098954636992\n"
     ]
    }
   ],
   "source": [
    "w = cost(y,yp,x,w)\n",
    "b = costBias(y,yp,b)\n",
    "print(w,b)"
   ]
  },
  {
   "cell_type": "code",
   "execution_count": 26,
   "id": "a4d32bed-3a0c-4d9d-bec7-55203549563d",
   "metadata": {},
   "outputs": [
    {
     "data": {
      "text/plain": [
       "0.9409494738614359"
      ]
     },
     "execution_count": 26,
     "metadata": {},
     "output_type": "execute_result"
    }
   ],
   "source": [
    "yp = sigmoid(x,w,b)\n",
    "yp"
   ]
  },
  {
   "cell_type": "code",
   "execution_count": 27,
   "id": "a778d880-577e-41f9-98c9-8068cbf64ca3",
   "metadata": {},
   "outputs": [],
   "source": [
    "for nn in range(10):\n",
    "    yp = sigmoid(x,w,b)\n",
    "    w = cost(y,yp,x,w)\n",
    "    b = costBias(y,yp,b)"
   ]
  },
  {
   "cell_type": "code",
   "execution_count": 28,
   "id": "1aa67b50-3477-409e-8e96-105bd6cac7bc",
   "metadata": {},
   "outputs": [
    {
     "name": "stdout",
     "output_type": "stream",
     "text": [
      "0.9815755430612793\n",
      "1.3170407943909248\n",
      "0.3870303765983438\n"
     ]
    }
   ],
   "source": [
    "print(yp)\n",
    "print(w)\n",
    "print(b)"
   ]
  },
  {
   "cell_type": "code",
   "execution_count": 30,
   "id": "7f79d9cf-792e-4b00-b428-09d2abe61f82",
   "metadata": {},
   "outputs": [
    {
     "name": "stdout",
     "output_type": "stream",
     "text": [
      "0.999998647317628\n"
     ]
    }
   ],
   "source": [
    "x,y,t = 7.673756466,3.508563011,1 \n",
    "w=0\n",
    "b=0\n",
    "for nn in range(10):\n",
    "    yp = sigmoid(x,w,b)\n",
    "    w = cost(y,yp,x,w)\n",
    "    b = costBias(y,yp,b)\n",
    "print(yp)"
   ]
  },
  {
   "cell_type": "code",
   "execution_count": 31,
   "id": "1a0167de-889a-41c6-9568-4a2bc9082bdb",
   "metadata": {},
   "outputs": [
    {
     "name": "stdout",
     "output_type": "stream",
     "text": [
      "0.9837732422098385\n"
     ]
    }
   ],
   "source": [
    "x,y,t = 3.06407232,3.005305973,0 \n",
    "w=0\n",
    "b=0\n",
    "for nn in range(10):\n",
    "    yp = sigmoid(x,w,b)\n",
    "    w = cost(y,yp,x,w)\n",
    "    b = costBias(y,yp,b)\n",
    "print(yp)"
   ]
  },
  {
   "cell_type": "code",
   "execution_count": 32,
   "id": "3d81f3b9-429f-4c4f-8022-641948cd3af7",
   "metadata": {},
   "outputs": [],
   "source": [
    "from sklearn.datasets import make_blobs"
   ]
  },
  {
   "cell_type": "code",
   "execution_count": 36,
   "id": "d0768970-7770-48bb-94f0-84f3af378c23",
   "metadata": {},
   "outputs": [],
   "source": [
    "xy,t = make_blobs(n_samples=10, n_features=2,cluster_std=1.,centers=2)"
   ]
  },
  {
   "cell_type": "code",
   "execution_count": 42,
   "id": "a452da05-04f4-481c-bff8-423de6384404",
   "metadata": {},
   "outputs": [
    {
     "name": "stdout",
     "output_type": "stream",
     "text": [
      "-2.3165901681659338\n"
     ]
    }
   ],
   "source": [
    "nn=0\n",
    "# for mm in xy:\n",
    "#     print(mm[0],mm[1],t[nn])\n",
    "#     nn+=1\n",
    "    \n",
    "print(xy[0][0])"
   ]
  },
  {
   "cell_type": "code",
   "execution_count": 48,
   "id": "f6a53740-a53b-41a1-9c66-6c02163cf875",
   "metadata": {},
   "outputs": [
    {
     "name": "stdout",
     "output_type": "stream",
     "text": [
      "0.085864656760968 1 1.2009878358680146 0.42179153276631703\n"
     ]
    }
   ],
   "source": [
    "for nn in range(1):\n",
    "    x= xy[nn][0]\n",
    "    y=xy[nn][1]\n",
    "    for nit in range(10):\n",
    "        yp = sigmoid(x,w,b)\n",
    "        w = cost(y,yp,x,w)\n",
    "        b = costBias(y,yp,b)\n",
    "    print(yp,t[nn],w,b)"
   ]
  },
  {
   "cell_type": "code",
   "execution_count": null,
   "id": "c8bc470a-f56a-4bdb-93c4-cdf81861c3c5",
   "metadata": {},
   "outputs": [],
   "source": []
  }
 ],
 "metadata": {
  "kernelspec": {
   "display_name": "Python 3 (ipykernel)",
   "language": "python",
   "name": "python3"
  },
  "language_info": {
   "codemirror_mode": {
    "name": "ipython",
    "version": 3
   },
   "file_extension": ".py",
   "mimetype": "text/x-python",
   "name": "python",
   "nbconvert_exporter": "python",
   "pygments_lexer": "ipython3",
   "version": "3.9.13"
  }
 },
 "nbformat": 4,
 "nbformat_minor": 5
}
